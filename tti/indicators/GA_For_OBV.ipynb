{
 "cells": [
  {
   "cell_type": "code",
   "execution_count": 9,
   "metadata": {
    "pycharm": {
     "name": "#%%\n"
    }
   },
   "outputs": [],
   "source": [
    "from deap import base\n",
    "from deap import creator\n",
    "from deap import tools\n",
    "from deap import algorithms"
   ]
  },
  {
   "cell_type": "markdown",
   "metadata": {},
   "source": [
    "# il faut integrer les volumes dans la data ce qu on donne c est uniquement des zeros "
   ]
  },
  {
   "cell_type": "code",
   "execution_count": 10,
   "metadata": {
    "pycharm": {
     "name": "#%%\n"
    }
   },
   "outputs": [],
   "source": [
    "from _on_balance_volume import OnBalanceVolume"
   ]
  },
  {
   "cell_type": "code",
   "execution_count": 11,
   "metadata": {
    "pycharm": {
     "name": "#%%\n"
    }
   },
   "outputs": [],
   "source": [
    "import random\n",
    "import matplotlib.pyplot as plt\n",
    "import seaborn as sns\n",
    "import numpy as np\n",
    "import pandas as pd"
   ]
  },
  {
   "cell_type": "code",
   "execution_count": 12,
   "metadata": {
    "pycharm": {
     "name": "#%%\n"
    }
   },
   "outputs": [],
   "source": [
    "data=pd.read_csv(\"MASI.csv\",parse_dates=True, index_col=0)"
   ]
  },
  {
   "cell_type": "code",
   "execution_count": 13,
   "metadata": {
    "pycharm": {
     "name": "#%%\n"
    }
   },
   "outputs": [
    {
     "data": {
      "text/plain": [
       "Date\n",
       "2018-01-02    0\n",
       "2018-01-03    0\n",
       "2018-01-04    0\n",
       "2018-01-05    0\n",
       "2018-01-08    0\n",
       "             ..\n",
       "2022-03-28    0\n",
       "2022-03-29    0\n",
       "2022-03-30    0\n",
       "2022-03-31    0\n",
       "2022-04-01    0\n",
       "Name: Volume, Length: 1056, dtype: int64"
      ]
     },
     "execution_count": 13,
     "metadata": {},
     "output_type": "execute_result"
    }
   ],
   "source": [
    "data.Volume"
   ]
  },
  {
   "cell_type": "code",
   "execution_count": 14,
   "metadata": {},
   "outputs": [
    {
     "ename": "NameError",
     "evalue": "name 'np' is not defined",
     "output_type": "error",
     "traceback": [
      "\u001b[1;31m---------------------------------------------------------------------------\u001b[0m",
      "\u001b[1;31mNameError\u001b[0m                                 Traceback (most recent call last)",
      "\u001b[1;32m~\\AppData\\Local\\Temp/ipykernel_18772/543319689.py\u001b[0m in \u001b[0;36m<module>\u001b[1;34m\u001b[0m\n\u001b[1;32m----> 1\u001b[1;33m \u001b[0mOnBalanceVolume\u001b[0m\u001b[1;33m(\u001b[0m\u001b[0mdata\u001b[0m\u001b[1;33m)\u001b[0m\u001b[1;33m\u001b[0m\u001b[1;33m\u001b[0m\u001b[0m\n\u001b[0m",
      "\u001b[1;32m~\\Desktop\\hft\\trading-technical-indicators-a-0\\tti\\indicators\\_on_balance_volume.py\u001b[0m in \u001b[0;36m__init__\u001b[1;34m(self, input_data, fill_missing_values)\u001b[0m\n\u001b[0;32m     45\u001b[0m \u001b[1;33m\u001b[0m\u001b[0m\n\u001b[0;32m     46\u001b[0m         \u001b[1;31m# Control is passing to the parent class\u001b[0m\u001b[1;33m\u001b[0m\u001b[1;33m\u001b[0m\u001b[0m\n\u001b[1;32m---> 47\u001b[1;33m         super().__init__(calling_instance=self.__class__.__name__,\n\u001b[0m\u001b[0;32m     48\u001b[0m                          \u001b[0minput_data\u001b[0m\u001b[1;33m=\u001b[0m\u001b[0minput_data\u001b[0m\u001b[1;33m,\u001b[0m\u001b[1;33m\u001b[0m\u001b[1;33m\u001b[0m\u001b[0m\n\u001b[0;32m     49\u001b[0m                          fill_missing_values=fill_missing_values)\n",
      "\u001b[1;32m~\\Desktop\\hft\\trading-technical-indicators-a-0\\tti\\indicators\\_technical_indicator_obv.py\u001b[0m in \u001b[0;36m__init__\u001b[1;34m(self, calling_instance, input_data, fill_missing_values)\u001b[0m\n\u001b[0;32m     69\u001b[0m                               fill_missing_values=fill_missing_values)\n\u001b[0;32m     70\u001b[0m \u001b[1;33m\u001b[0m\u001b[0m\n\u001b[1;32m---> 71\u001b[1;33m         \u001b[1;31m# Calculation of the Technical Indicator\u001b[0m\u001b[1;33m\u001b[0m\u001b[1;33m\u001b[0m\u001b[0m\n\u001b[0m\u001b[0;32m     72\u001b[0m         \u001b[0mself\u001b[0m\u001b[1;33m.\u001b[0m\u001b[0m_ti_data\u001b[0m \u001b[1;33m=\u001b[0m \u001b[0mself\u001b[0m\u001b[1;33m.\u001b[0m\u001b[0m_calculateTi\u001b[0m\u001b[1;33m(\u001b[0m\u001b[0mperiod\u001b[0m\u001b[1;33m=\u001b[0m\u001b[1;36m100\u001b[0m\u001b[1;33m)\u001b[0m\u001b[1;33m\u001b[0m\u001b[1;33m\u001b[0m\u001b[0m\n\u001b[0;32m     73\u001b[0m \u001b[1;33m\u001b[0m\u001b[0m\n",
      "\u001b[1;32m~\\Desktop\\hft\\trading-technical-indicators-a-0\\tti\\indicators\\_on_balance_volume.py\u001b[0m in \u001b[0;36m_calculateTi\u001b[1;34m(self)\u001b[0m\n\u001b[0;32m     64\u001b[0m           \u001b[0mvol\u001b[0m\u001b[1;33m:\u001b[0m \u001b[0mpandas\u001b[0m\u001b[1;33m.\u001b[0m\u001b[0mDataFrame\u001b[0m \u001b[1;33m:\u001b[0m \u001b[0mles\u001b[0m \u001b[0mvolumes\u001b[0m\u001b[1;33m\u001b[0m\u001b[1;33m\u001b[0m\u001b[0m\n\u001b[0;32m     65\u001b[0m         \"\"\"\n\u001b[1;32m---> 66\u001b[1;33m         \u001b[0mprix\u001b[0m\u001b[1;33m=\u001b[0m\u001b[0mself\u001b[0m\u001b[1;33m.\u001b[0m\u001b[0m_input_data\u001b[0m\u001b[1;33m.\u001b[0m\u001b[0mdiff\u001b[0m\u001b[1;33m(\u001b[0m\u001b[1;36m1\u001b[0m\u001b[1;33m)\u001b[0m\u001b[1;33m/\u001b[0m\u001b[0mnp\u001b[0m\u001b[1;33m.\u001b[0m\u001b[0mabs\u001b[0m\u001b[1;33m(\u001b[0m\u001b[0mself\u001b[0m\u001b[1;33m.\u001b[0m\u001b[0m_input_data\u001b[0m\u001b[1;33m.\u001b[0m\u001b[0mdiff\u001b[0m\u001b[1;33m(\u001b[0m\u001b[1;36m1\u001b[0m\u001b[1;33m)\u001b[0m\u001b[1;33m)\u001b[0m\u001b[1;33m\u001b[0m\u001b[1;33m\u001b[0m\u001b[0m\n\u001b[0m\u001b[0;32m     67\u001b[0m         \u001b[0mvec\u001b[0m\u001b[1;33m=\u001b[0m \u001b[0mself\u001b[0m\u001b[1;33m.\u001b[0m\u001b[0m_input_data\u001b[0m\u001b[1;33m[\u001b[0m\u001b[1;34m\"Volume\"\u001b[0m\u001b[1;33m]\u001b[0m\u001b[1;33m*\u001b[0m\u001b[0mprix\u001b[0m\u001b[1;33m\u001b[0m\u001b[1;33m\u001b[0m\u001b[0m\n\u001b[0;32m     68\u001b[0m         \u001b[0mvec\u001b[0m\u001b[1;33m.\u001b[0m\u001b[0miloc\u001b[0m\u001b[1;33m[\u001b[0m\u001b[1;36m0\u001b[0m\u001b[1;33m]\u001b[0m\u001b[1;33m=\u001b[0m\u001b[0mvol\u001b[0m\u001b[1;33m.\u001b[0m\u001b[0miloc\u001b[0m\u001b[1;33m[\u001b[0m\u001b[1;36m0\u001b[0m\u001b[1;33m]\u001b[0m\u001b[1;33m\u001b[0m\u001b[1;33m\u001b[0m\u001b[0m\n",
      "\u001b[1;31mNameError\u001b[0m: name 'np' is not defined"
     ]
    }
   ],
   "source": [
    "OnBalanceVolume(data)"
   ]
  },
  {
   "cell_type": "code",
   "execution_count": 8,
   "metadata": {
    "pycharm": {
     "name": "#%%\n"
    }
   },
   "outputs": [],
   "source": [
    "df=data[\"Close\"].loc[\"2018-01-02\":]\n",
    "high=data[\"High\"].loc[\"2018-01-02\":]\n",
    "low=data[\"Low\"].loc[\"2018-01-02\":]\n"
   ]
  },
  {
   "cell_type": "markdown",
   "metadata": {
    "pycharm": {
     "name": "#%% md\n"
    }
   },
   "source": [
    "## Fonction"
   ]
  },
  {
   "cell_type": "code",
   "execution_count": 9,
   "metadata": {
    "pycharm": {
     "name": "#%%\n"
    }
   },
   "outputs": [],
   "source": [
    "premier=0 "
   ]
  },
  {
   "cell_type": "code",
   "execution_count": 10,
   "metadata": {
    "pycharm": {
     "name": "#%%\n"
    }
   },
   "outputs": [],
   "source": [
    "# Coût des transactions\n",
    "ti=0.0022\n",
    "fr=0.0011\n",
    "cb=0.0011\n",
    "taux=ti+fr+cb"
   ]
  },
  {
   "cell_type": "code",
   "execution_count": 11,
   "metadata": {},
   "outputs": [],
   "source": [
    "def pmv(close,signal):\n",
    "\t\"\"\"\n",
    "\t\tLa Plus-ou-moins-value\n",
    "\t\"\"\"\n",
    "\tclose=np.array(close)\n",
    "\tsignal=np.array(signal.fillna(0))\n",
    "\tqt=signal.cumsum()\n",
    "\tachat= np.where(signal>=1,1,0)\n",
    "\tPDR=[]\n",
    "\tfor t in range(len(close)):\n",
    "\t\tp=(close[:t+1]*achat[:t+1]).sum()\n",
    "\t\tif achat[:t+1].sum()==0 :\n",
    "\t\t\tval=0\n",
    "\t\telse :\n",
    "\t\t\tp=p/(achat[:t+1].sum())\n",
    "\t\t\tval=qt[t]*p \n",
    "\t\tPDR.append(val)\n",
    "\tPMV_lat=close*qt-PDR\n",
    "\tPMV_re=[0]\n",
    "\tfor i in range(1,len(close)):\n",
    "\t\tvl=PDR[i]-PDR[i-1]+PMV_re[i-1]-close[i]*signal[i]\n",
    "\t\tPMV_re.append(vl)\n",
    "\tPMV=PMV_lat+PMV_re\n",
    "\treturn PMV"
   ]
  },
  {
   "cell_type": "code",
   "execution_count": 12,
   "metadata": {},
   "outputs": [],
   "source": [
    "def adjustsignal(signal):\n",
    "\tsig=[]\n",
    "\tqtite=0\n",
    "\tfor i in signal:\n",
    "\t\tif i > 0 :\n",
    "\t\t\tsig.append(i)\n",
    "\t\t\tqtite+=1\n",
    "\t\telif i < 0:\n",
    "\t\t\tif qtite >= abs(i) :\n",
    "\t\t\t\tsig.append(i)\n",
    "\t\t\t\tqtite+=-i\n",
    "\t\t\telse:\n",
    "\t\t\t\tsig.append(0)\n",
    "\t\telse:\n",
    "\t\t\tsig.append(0)\n",
    "\treturn sig"
   ]
  },
  {
   "cell_type": "markdown",
   "metadata": {
    "pycharm": {
     "name": "#%% md\n"
    }
   },
   "source": [
    "## OBV"
   ]
  },
  {
   "cell_type": "code",
   "execution_count": 47,
   "metadata": {
    "pycharm": {
     "name": "#%%\n"
    }
   },
   "outputs": [],
   "source": [
    "def obj_obv(n):\n",
    "\tn=int(n[0])\n",
    "\tsignal=pd.DataFrame(index=df.index)\n",
    "\tob=\n",
    "\t#ob=at.obv(df,vol)[\"OBV\"]\n",
    "\tobs=pd.Series(ob.rolling(n).mean(), name='obvsignal')\n",
    "\tsignal[\"compa\"]=np.nan \n",
    "\tsignal[\"compa\"][n:]=np.where( ob[n:]  > obs[n:],1,0)\n",
    "\tsignal[\"signal\"]=at.adjustsignal(signal[\"compa\"].diff())\n",
    "\tcours=df*(1+taux*signal[\"signal\"])\n",
    "\tpmval=at.pmv(cours,signal[\"signal\"])\n",
    "\treturn pmval.max(),"
   ]
  },
  {
   "cell_type": "code",
   "execution_count": 48,
   "metadata": {
    "pycharm": {
     "name": "#%%\n"
    }
   },
   "outputs": [
    {
     "name": "stdout",
     "output_type": "stream",
     "text": [
      "gen\tnevals\tmax   \tavg    \n",
      "0  \t40    \t5710.3\t3323.86\n",
      "1  \t35    \t5710.3\t4130.23\n",
      "2  \t38    \t5710.3\t4701.1 \n",
      "3  \t36    \t5710.3\t4946.22\n",
      "4  \t40    \t5710.3\t5342.56\n",
      "5  \t36    \t5710.3\t5381.72\n",
      "6  \t35    \t5710.3\t5453.75\n",
      "Hall of Fame Individuals = \n",
      "[32.00117617118097]\n",
      "[32]\n",
      "[30.03476200420938]\n",
      "[10.489186803722037]\n",
      "[10.105610197964031]\n",
      "Best Ever Individual =  [32]\n"
     ]
    },
    {
     "data": {
      "image/png": "[encoded data removed]",
      "text/plain": [
       "<Figure size 432x288 with 1 Axes>"
      ]
     },
     "metadata": {},
     "output_type": "display_data"
    }
   ],
   "source": [
    "GeneticAlgo(1,obj_obv,6,10,100)"
   ]
  }
 ],
 "metadata": {
  "interpreter": {
   "hash": "631af202ec7c40e141c49d63cac6c8cb664469fed6e4d5ddc6436b49edc60500"
  },
  "kernelspec": {
   "display_name": "Python 3 (ipykernel)",
   "language": "python",
   "name": "python3"
  },
  "language_info": {
   "codemirror_mode": {
    "name": "ipython",
    "version": 3
   },
   "file_extension": ".py",
   "mimetype": "text/x-python",
   "name": "python",
   "nbconvert_exporter": "python",
   "pygments_lexer": "ipython3",
   "version": "3.9.7"
  }
 },
 "nbformat": 4,
 "nbformat_minor": 4
}
