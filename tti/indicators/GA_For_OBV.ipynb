{
 "cells": [
  {
   "cell_type": "code",
   "execution_count": 52,
   "metadata": {
    "pycharm": {
     "name": "#%%\n"
    }
   },
   "outputs": [],
   "source": [
    "from deap import base\n",
    "from deap import creator\n",
    "from deap import tools\n",
    "from deap import algorithms"
   ]
  },
  {
   "cell_type": "markdown",
   "metadata": {},
   "source": [
    "# il faut integrer les volumes dans la data ce qu on donne c est uniquement des zeros "
   ]
  },
  {
   "cell_type": "code",
   "execution_count": 53,
   "metadata": {
    "pycharm": {
     "name": "#%%\n"
    }
   },
   "outputs": [],
   "source": [
    "from _on_balance_volume import OnBalanceVolume"
   ]
  },
  {
   "cell_type": "code",
   "execution_count": 54,
   "metadata": {
    "pycharm": {
     "name": "#%%\n"
    }
   },
   "outputs": [],
   "source": [
    "import random\n",
    "import matplotlib.pyplot as plt\n",
    "import seaborn as sns\n",
    "import numpy as np\n",
    "import pandas as pd"
   ]
  },
  {
   "cell_type": "code",
   "execution_count": 55,
   "metadata": {
    "pycharm": {
     "name": "#%%\n"
    }
   },
   "outputs": [],
   "source": [
    "data=pd.read_csv(\"MASI.csv\",parse_dates=True, index_col=0)\n",
    "data.Volume = data.Close"
   ]
  },
  {
   "cell_type": "code",
   "execution_count": 56,
   "metadata": {
    "pycharm": {
     "name": "#%%\n"
    }
   },
   "outputs": [
    {
     "data": {
      "text/plain": [
       "Date\n",
       "2018-01-02    12420.15\n",
       "2018-01-03    12509.58\n",
       "2018-01-04    12463.08\n",
       "2018-01-05    12537.75\n",
       "2018-01-08    12479.42\n",
       "                ...   \n",
       "2022-03-28    12640.22\n",
       "2022-03-29    12721.38\n",
       "2022-03-30    12751.45\n",
       "2022-03-31    12818.11\n",
       "2022-04-01    12843.52\n",
       "Name: Volume, Length: 1056, dtype: float64"
      ]
     },
     "execution_count": 56,
     "metadata": {},
     "output_type": "execute_result"
    }
   ],
   "source": [
    "data.Volume"
   ]
  },
  {
   "cell_type": "code",
   "execution_count": 57,
   "metadata": {},
   "outputs": [],
   "source": [
    "obv = OnBalanceVolume(data)"
   ]
  },
  {
   "cell_type": "code",
   "execution_count": 58,
   "metadata": {
    "pycharm": {
     "name": "#%%\n"
    }
   },
   "outputs": [],
   "source": [
    "df=data[\"close\"].loc[\"2018-01-02\":]\n",
    "high=data[\"high\"].loc[\"2018-01-02\":]\n",
    "low=data[\"low\"].loc[\"2018-01-02\":]\n"
   ]
  },
  {
   "cell_type": "markdown",
   "metadata": {
    "pycharm": {
     "name": "#%% md\n"
    }
   },
   "source": [
    "## Fonction"
   ]
  },
  {
   "cell_type": "code",
   "execution_count": 59,
   "metadata": {
    "pycharm": {
     "name": "#%%\n"
    }
   },
   "outputs": [],
   "source": [
    "premier=0 "
   ]
  },
  {
   "cell_type": "code",
   "execution_count": 60,
   "metadata": {},
   "outputs": [],
   "source": [
    "def GeneticAlgo(dim,obj_func,MAX_GENERATIONS,BOUND_LOW,BOUND_UP,POPULATION_SIZE=40,P_CROSSOVER = 0.9,P_MUTATION = 0.1):\n",
    "\tglobal premier\n",
    "\tONE_MAX_LENGTH=dim\n",
    "\tHALL_OF_FAME_SIZE = 5\n",
    "\tCROWDING_FACTOR=20\n",
    "\tRANDOM_SEED = 40\n",
    "\trandom.seed(RANDOM_SEED)\n",
    "\tif premier> 0 :\n",
    "\t\tdel creator.FitnessMax\n",
    "\t\tdel creator.Individual\n",
    "\tpremier=premier+1\n",
    "\ttoolbox = base.Toolbox()\n",
    "\ttoolbox.register(\"Num\", random.randint, BOUND_LOW, BOUND_UP)\n",
    "\tcreator.create(\"FitnessMax\", base.Fitness, weights=(1.0,))\n",
    "\tcreator.create(\"Individual\", list, fitness=creator.FitnessMax)\n",
    "\ttoolbox.register(\"individualCreator\", tools.initRepeat, creator.Individual, toolbox.Num, ONE_MAX_LENGTH)\n",
    "\ttoolbox.register(\"populationCreator\", tools.initRepeat, list, toolbox.individualCreator)\n",
    "\ttoolbox.register(\"evaluate\", obj_func)\n",
    "\ttoolbox.register(\"select\", tools.selTournament, tournsize=3)\n",
    "\ttoolbox.register(\"mate\", tools.cxSimulatedBinaryBounded, low=BOUND_LOW, up=BOUND_UP, eta=CROWDING_FACTOR)\n",
    "\ttoolbox.register(\"mutate\", tools.mutPolynomialBounded, low=BOUND_LOW, up=BOUND_UP, eta=CROWDING_FACTOR, indpb=0.20)\n",
    "\tdef main():\n",
    "\t\tpopulation = toolbox.populationCreator(n=POPULATION_SIZE)\n",
    "\t\tstats = tools.Statistics(lambda ind: ind.fitness.values)\n",
    "\t\tstats.register(\"max\", np.max)\n",
    "\t\tstats.register(\"avg\", np.mean)\n",
    "\t\thof = tools.HallOfFame(HALL_OF_FAME_SIZE)\n",
    "\t\tpopulation, logbook = algorithms.eaSimple(population, toolbox, cxpb=P_CROSSOVER, mutpb=P_MUTATION,ngen=MAX_GENERATIONS\n",
    "\t\t\t, stats=stats, halloffame=hof, verbose=True)\n",
    "\t\tprint(\"Hall of Fame Individuals = \", *hof.items, sep=\"\\n\")\n",
    "\t\tprint(\"Best Ever Individual = \", [ int(i) for i in hof.items[0]])\n",
    "\t\tmaxFitnessValues, meanFitnessValues = logbook.select(\"max\", \"avg\")\n",
    "\t\tsns.set_style(\"whitegrid\")\n",
    "\t\tplt.plot(maxFitnessValues, color='red')\n",
    "\t\tplt.plot(meanFitnessValues, color='green')\n",
    "\t\tplt.xlabel('Génération')\n",
    "\t\tplt.ylabel('Max / Moyenne Fitness')\n",
    "\t\tplt.title('Max et Moyenne de  Fitness opar générations')\n",
    "\t\tplt.show()\n",
    "\tmain()"
   ]
  },
  {
   "cell_type": "code",
   "execution_count": 61,
   "metadata": {
    "pycharm": {
     "name": "#%%\n"
    }
   },
   "outputs": [],
   "source": [
    "# Coût des transactions\n",
    "ti=0.0022\n",
    "fr=0.0011\n",
    "cb=0.0011\n",
    "taux=ti+fr+cb"
   ]
  },
  {
   "cell_type": "code",
   "execution_count": 62,
   "metadata": {},
   "outputs": [],
   "source": [
    "def pmv(close,signal):\n",
    "\t\"\"\"\n",
    "\t\tLa Plus-ou-moins-value\n",
    "\t\"\"\"\n",
    "\tclose=np.array(close)\n",
    "\tsignal=np.array(signal.fillna(0))\n",
    "\tqt=signal.cumsum()\n",
    "\tachat= np.where(signal>=1,1,0)\n",
    "\tPDR=[]\n",
    "\tfor t in range(len(close)):\n",
    "\t\tp=(close[:t+1]*achat[:t+1]).sum()\n",
    "\t\tif achat[:t+1].sum()==0 :\n",
    "\t\t\tval=0\n",
    "\t\telse :\n",
    "\t\t\tp=p/(achat[:t+1].sum())\n",
    "\t\t\tval=qt[t]*p \n",
    "\t\tPDR.append(val)\n",
    "\tPMV_lat=close*qt-PDR\n",
    "\tPMV_re=[0]\n",
    "\tfor i in range(1,len(close)):\n",
    "\t\tvl=PDR[i]-PDR[i-1]+PMV_re[i-1]-close[i]*signal[i]\n",
    "\t\tPMV_re.append(vl)\n",
    "\tPMV=PMV_lat+PMV_re\n",
    "\treturn PMV"
   ]
  },
  {
   "cell_type": "code",
   "execution_count": 63,
   "metadata": {},
   "outputs": [],
   "source": [
    "def adjustsignal(signal):\n",
    "\tsig=[]\n",
    "\tqtite=0\n",
    "\tfor i in signal:\n",
    "\t\tif i > 0 :\n",
    "\t\t\tsig.append(i)\n",
    "\t\t\tqtite+=1\n",
    "\t\telif i < 0:\n",
    "\t\t\tif qtite >= abs(i) :\n",
    "\t\t\t\tsig.append(i)\n",
    "\t\t\t\tqtite+=-i\n",
    "\t\t\telse:\n",
    "\t\t\t\tsig.append(0)\n",
    "\t\telse:\n",
    "\t\t\tsig.append(0)\n",
    "\treturn sig"
   ]
  },
  {
   "cell_type": "markdown",
   "metadata": {
    "pycharm": {
     "name": "#%% md\n"
    }
   },
   "source": [
    "## OBV"
   ]
  },
  {
   "cell_type": "code",
   "execution_count": 64,
   "metadata": {},
   "outputs": [],
   "source": [
    "def obj_obv(n):\n",
    "\tn=int(n[0])\n",
    "\tsignal=pd.DataFrame(index=df.index)\n",
    "\tob=obv._calculateTi()[\"OBV\"]\n",
    "\tobs=pd.Series(ob.rolling(n).mean(), name='obvsignal')\n",
    "\tsignal[\"compa\"]=np.nan \n",
    "\tsignal[\"compa\"][n:]=np.where( ob[n:]  > obs[n:],1,0)\n",
    "\tsignal[\"signal\"]=adjustsignal(signal[\"compa\"].diff())\n",
    "\tcours=df*(1+taux*signal[\"signal\"])\n",
    "\tpmval=pmv(cours,signal[\"signal\"])\n",
    "\treturn pmval.max(),"
   ]
  },
  {
   "cell_type": "code",
   "execution_count": 65,
   "metadata": {
    "pycharm": {
     "name": "#%%\n"
    }
   },
   "outputs": [
    {
     "name": "stderr",
     "output_type": "stream",
     "text": [
      "C:\\Users\\T460s\\anaconda3\\lib\\site-packages\\deap\\creator.py:138: RuntimeWarning: A class named 'FitnessMax' has already been created and it will be overwritten. Consider deleting previous creation of that class or rename it.\n",
      "  warnings.warn(\"A class named '{0}' has already been created and it \"\n",
      "C:\\Users\\T460s\\anaconda3\\lib\\site-packages\\deap\\creator.py:138: RuntimeWarning: A class named 'Individual' has already been created and it will be overwritten. Consider deleting previous creation of that class or rename it.\n",
      "  warnings.warn(\"A class named '{0}' has already been created and it \"\n"
     ]
    },
    {
     "name": "stdout",
     "output_type": "stream",
     "text": [
      "gen\tnevals\tmax    \tavg   \n",
      "0  \t40    \t1516.26\t349.74\n",
      "1  \t35    \t1516.26\t836.677\n",
      "2  \t38    \t1516.26\t1234.7 \n",
      "3  \t38    \t1516.26\t1464.1 \n",
      "4  \t40    \t1516.26\t1509.8 \n",
      "5  \t38    \t1516.26\t1496.89\n",
      "6  \t35    \t1516.26\t1468.19\n",
      "Hall of Fame Individuals = \n",
      "[26.000137195447287]\n",
      "[26.066010946315146]\n",
      "[26.404974118833593]\n",
      "[26.00711321061508]\n",
      "[26]\n",
      "Best Ever Individual =  [26]\n"
     ]
    },
    {
     "data": {
      "image/png": "[encoded data removed]",
      "text/plain": [
       "<Figure size 432x288 with 1 Axes>"
      ]
     },
     "metadata": {},
     "output_type": "display_data"
    }
   ],
   "source": [
    "GeneticAlgo(1,obj_obv,6,10,100)"
   ]
  },
  {
   "cell_type": "code",
   "execution_count": null,
   "metadata": {},
   "outputs": [],
   "source": []
  }
 ],
 "metadata": {
  "interpreter": {
   "hash": "631af202ec7c40e141c49d63cac6c8cb664469fed6e4d5ddc6436b49edc60500"
  },
  "kernelspec": {
   "display_name": "Python 3 (ipykernel)",
   "language": "python",
   "name": "python3"
  },
  "language_info": {
   "codemirror_mode": {
    "name": "ipython",
    "version": 3
   },
   "file_extension": ".py",
   "mimetype": "text/x-python",
   "name": "python",
   "nbconvert_exporter": "python",
   "pygments_lexer": "ipython3",
   "version": "3.9.7"
  }
 },
 "nbformat": 4,
 "nbformat_minor": 4
}
