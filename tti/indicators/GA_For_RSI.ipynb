{
 "cells": [
  {
   "cell_type": "code",
   "execution_count": 1,
   "metadata": {
    "pycharm": {
     "name": "#%%\n"
    }
   },
   "outputs": [],
   "source": [
    "from deap import base\n",
    "from deap import creator\n",
    "from deap import tools\n",
    "from deap import algorithms\n",
    "import random\n",
    "import matplotlib.pyplot as plt\n",
    "import seaborn as sns\n",
    "import numpy as np\n",
    "import pandas as pd"
   ]
  },
  {
   "cell_type": "code",
   "execution_count": 2,
   "metadata": {},
   "outputs": [
    {
     "data": {
      "text/plain": [
       "'C:\\\\Users\\\\pc\\\\Desktop\\\\hft\\\\trading-technical-indicators-a-0\\\\tti\\\\indicators'"
      ]
     },
     "execution_count": 2,
     "metadata": {},
     "output_type": "execute_result"
    }
   ],
   "source": [
    "import os \n",
    "os.getcwd()#Hibaaaaaaaaaaaaaaaaaaaaaaaaaaaaaaaaa"
   ]
  },
  {
   "cell_type": "code",
   "execution_count": 3,
   "metadata": {
    "pycharm": {
     "name": "#%%\n"
    }
   },
   "outputs": [
    {
     "data": {
      "text/html": [
       "<div>\n",
       "<style scoped>\n",
       "    .dataframe tbody tr th:only-of-type {\n",
       "        vertical-align: middle;\n",
       "    }\n",
       "\n",
       "    .dataframe tbody tr th {\n",
       "        vertical-align: top;\n",
       "    }\n",
       "\n",
       "    .dataframe thead th {\n",
       "        text-align: right;\n",
       "    }\n",
       "</style>\n",
       "<table border=\"1\" class=\"dataframe\">\n",
       "  <thead>\n",
       "    <tr style=\"text-align: right;\">\n",
       "      <th></th>\n",
       "      <th>Open</th>\n",
       "      <th>High</th>\n",
       "      <th>Low</th>\n",
       "      <th>Close</th>\n",
       "      <th>Volume</th>\n",
       "      <th>Currency</th>\n",
       "    </tr>\n",
       "    <tr>\n",
       "      <th>Date</th>\n",
       "      <th></th>\n",
       "      <th></th>\n",
       "      <th></th>\n",
       "      <th></th>\n",
       "      <th></th>\n",
       "      <th></th>\n",
       "    </tr>\n",
       "  </thead>\n",
       "  <tbody>\n",
       "    <tr>\n",
       "      <th>2018-01-02</th>\n",
       "      <td>12388.82</td>\n",
       "      <td>12442.75</td>\n",
       "      <td>12372.18</td>\n",
       "      <td>12420.15</td>\n",
       "      <td>12420.15</td>\n",
       "      <td>MAD</td>\n",
       "    </tr>\n",
       "    <tr>\n",
       "      <th>2018-01-03</th>\n",
       "      <td>12420.15</td>\n",
       "      <td>12510.45</td>\n",
       "      <td>12380.18</td>\n",
       "      <td>12509.58</td>\n",
       "      <td>12509.58</td>\n",
       "      <td>MAD</td>\n",
       "    </tr>\n",
       "    <tr>\n",
       "      <th>2018-01-04</th>\n",
       "      <td>12509.58</td>\n",
       "      <td>12543.53</td>\n",
       "      <td>12434.17</td>\n",
       "      <td>12463.08</td>\n",
       "      <td>12463.08</td>\n",
       "      <td>MAD</td>\n",
       "    </tr>\n",
       "    <tr>\n",
       "      <th>2018-01-05</th>\n",
       "      <td>12463.08</td>\n",
       "      <td>12538.65</td>\n",
       "      <td>12430.09</td>\n",
       "      <td>12537.75</td>\n",
       "      <td>12537.75</td>\n",
       "      <td>MAD</td>\n",
       "    </tr>\n",
       "    <tr>\n",
       "      <th>2018-01-08</th>\n",
       "      <td>12537.75</td>\n",
       "      <td>12568.29</td>\n",
       "      <td>12462.70</td>\n",
       "      <td>12479.42</td>\n",
       "      <td>12479.42</td>\n",
       "      <td>MAD</td>\n",
       "    </tr>\n",
       "    <tr>\n",
       "      <th>...</th>\n",
       "      <td>...</td>\n",
       "      <td>...</td>\n",
       "      <td>...</td>\n",
       "      <td>...</td>\n",
       "      <td>...</td>\n",
       "      <td>...</td>\n",
       "    </tr>\n",
       "    <tr>\n",
       "      <th>2022-03-28</th>\n",
       "      <td>12602.92</td>\n",
       "      <td>12640.22</td>\n",
       "      <td>12590.87</td>\n",
       "      <td>12640.22</td>\n",
       "      <td>12640.22</td>\n",
       "      <td>MAD</td>\n",
       "    </tr>\n",
       "    <tr>\n",
       "      <th>2022-03-29</th>\n",
       "      <td>12640.22</td>\n",
       "      <td>12721.38</td>\n",
       "      <td>12625.64</td>\n",
       "      <td>12721.38</td>\n",
       "      <td>12721.38</td>\n",
       "      <td>MAD</td>\n",
       "    </tr>\n",
       "    <tr>\n",
       "      <th>2022-03-30</th>\n",
       "      <td>12721.38</td>\n",
       "      <td>12782.51</td>\n",
       "      <td>12703.18</td>\n",
       "      <td>12751.45</td>\n",
       "      <td>12751.45</td>\n",
       "      <td>MAD</td>\n",
       "    </tr>\n",
       "    <tr>\n",
       "      <th>2022-03-31</th>\n",
       "      <td>12751.45</td>\n",
       "      <td>12828.09</td>\n",
       "      <td>12742.35</td>\n",
       "      <td>12818.11</td>\n",
       "      <td>12818.11</td>\n",
       "      <td>MAD</td>\n",
       "    </tr>\n",
       "    <tr>\n",
       "      <th>2022-04-01</th>\n",
       "      <td>12818.11</td>\n",
       "      <td>12860.88</td>\n",
       "      <td>12814.59</td>\n",
       "      <td>12843.52</td>\n",
       "      <td>12843.52</td>\n",
       "      <td>MAD</td>\n",
       "    </tr>\n",
       "  </tbody>\n",
       "</table>\n",
       "<p>1056 rows × 6 columns</p>\n",
       "</div>"
      ],
      "text/plain": [
       "                Open      High       Low     Close    Volume Currency\n",
       "Date                                                                 \n",
       "2018-01-02  12388.82  12442.75  12372.18  12420.15  12420.15      MAD\n",
       "2018-01-03  12420.15  12510.45  12380.18  12509.58  12509.58      MAD\n",
       "2018-01-04  12509.58  12543.53  12434.17  12463.08  12463.08      MAD\n",
       "2018-01-05  12463.08  12538.65  12430.09  12537.75  12537.75      MAD\n",
       "2018-01-08  12537.75  12568.29  12462.70  12479.42  12479.42      MAD\n",
       "...              ...       ...       ...       ...       ...      ...\n",
       "2022-03-28  12602.92  12640.22  12590.87  12640.22  12640.22      MAD\n",
       "2022-03-29  12640.22  12721.38  12625.64  12721.38  12721.38      MAD\n",
       "2022-03-30  12721.38  12782.51  12703.18  12751.45  12751.45      MAD\n",
       "2022-03-31  12751.45  12828.09  12742.35  12818.11  12818.11      MAD\n",
       "2022-04-01  12818.11  12860.88  12814.59  12843.52  12843.52      MAD\n",
       "\n",
       "[1056 rows x 6 columns]"
      ]
     },
     "execution_count": 3,
     "metadata": {},
     "output_type": "execute_result"
    }
   ],
   "source": [
    "data=pd.read_csv(\"MASI.csv\",parse_dates=True, index_col=0)\n",
    "data[\"Volume\"]=data[\"Close\"]\n",
    "df=data[\"Close\"]\n",
    "high=data[\"High\"]\n",
    "low=data[\"Low\"]\n",
    "data"
   ]
  },
  {
   "cell_type": "markdown",
   "metadata": {
    "pycharm": {
     "name": "#%% md\n"
    }
   },
   "source": [
    "## Fonction"
   ]
  },
  {
   "cell_type": "code",
   "execution_count": 5,
   "metadata": {
    "pycharm": {
     "name": "#%%\n"
    }
   },
   "outputs": [],
   "source": [
    "premier=0 "
   ]
  },
  {
   "cell_type": "code",
   "execution_count": 22,
   "metadata": {
    "pycharm": {
     "name": "#%%\n"
    }
   },
   "outputs": [],
   "source": [
    "def GeneticAlgo(dim,obj_func,MAX_GENERATIONS,BOUND_LOW,BOUND_UP,POPULATION_SIZE=40,P_CROSSOVER = 0.9,P_MUTATION = 0.1):\n",
    "\tglobal premier\n",
    "\tONE_MAX_LENGTH=dim\n",
    "\tHALL_OF_FAME_SIZE = 5\n",
    "\tCROWDING_FACTOR=20\n",
    "\tRANDOM_SEED = 40\n",
    "\trandom.seed(RANDOM_SEED)\n",
    "\tif premier> 0 :\n",
    "\t\tdel creator.FitnessMax\n",
    "\t\tdel creator.Individual\n",
    "\tpremier=premier+1\n",
    "\ttoolbox = base.Toolbox()\n",
    "\ttoolbox.register(\"Num\", random.randint, BOUND_LOW, BOUND_UP)\n",
    "\tcreator.create(\"FitnessMax\", base.Fitness, weights=(1.0,))\n",
    "\tcreator.create(\"Individual\", list, fitness=creator.FitnessMax)\n",
    "\ttoolbox.register(\"individualCreator\", tools.initRepeat, creator.Individual, toolbox.Num, ONE_MAX_LENGTH)\n",
    "\ttoolbox.register(\"populationCreator\", tools.initRepeat, list, toolbox.individualCreator)\n",
    "\ttoolbox.register(\"evaluate\", obj_func)\n",
    "\ttoolbox.register(\"select\", tools.selTournament, tournsize=3)\n",
    "\ttoolbox.register(\"mate\", tools.cxSimulatedBinaryBounded, low=BOUND_LOW, up=BOUND_UP, eta=CROWDING_FACTOR)\n",
    "\ttoolbox.register(\"mutate\", tools.mutPolynomialBounded, low=BOUND_LOW, up=BOUND_UP, eta=CROWDING_FACTOR, indpb=0.20)\n",
    "\tdef main():\n",
    "\t\tpopulation = toolbox.populationCreator(n=POPULATION_SIZE)\n",
    "\t\tstats = tools.Statistics(lambda ind: ind.fitness.values)\n",
    "\t\tstats.register(\"max\", np.max)\n",
    "\t\tstats.register(\"avg\", np.mean)\n",
    "\t\thof = tools.HallOfFame(HALL_OF_FAME_SIZE)\n",
    "\t\tpopulation, logbook = algorithms.eaSimple(population, toolbox, cxpb=P_CROSSOVER, mutpb=P_MUTATION,ngen=MAX_GENERATIONS\n",
    "\t\t\t, stats=stats, halloffame=hof, verbose=True)\n",
    "\t\tprint(\"Hall of Fame Individuals = \", *hof.items, sep=\"\\n\")\n",
    "\t\tprint(\"Best Ever Individual = \", [ int(i) for i in hof.items[0]])\n",
    "\t\tmaxFitnessValues, meanFitnessValues = logbook.select(\"max\", \"avg\")\n",
    "\t\tsns.set_style(\"whitegrid\")\n",
    "\t\tplt.plot(maxFitnessValues, color='red')\n",
    "\t\tplt.plot(meanFitnessValues, color='green')\n",
    "\t\tplt.xlabel('Génération')\n",
    "\t\tplt.ylabel('Max / Moyenne Fitness')\n",
    "\t\tplt.title('Max et Moyenne de  Fitness opar générations')\n",
    "\t\tplt.show()\n",
    "\tmain()"
   ]
  },
  {
   "cell_type": "code",
   "execution_count": 23,
   "metadata": {
    "pycharm": {
     "name": "#%%\n"
    }
   },
   "outputs": [],
   "source": [
    "# Coût des transactions\n",
    "ti=0.0022\n",
    "fr=0.0011\n",
    "cb=0.0011\n",
    "taux=ti+fr+cb"
   ]
  },
  {
   "cell_type": "markdown",
   "metadata": {
    "pycharm": {
     "name": "#%% md\n"
    }
   },
   "source": [
    "## **TEST RSI**"
   ]
  },
  {
   "cell_type": "code",
   "execution_count": 7,
   "metadata": {},
   "outputs": [],
   "source": [
    "from _relative_strength_index import RelativeStrengthIndex"
   ]
  },
  {
   "cell_type": "code",
   "execution_count": 8,
   "metadata": {},
   "outputs": [
    {
     "data": {
      "text/html": [
       "<div>\n",
       "<style scoped>\n",
       "    .dataframe tbody tr th:only-of-type {\n",
       "        vertical-align: middle;\n",
       "    }\n",
       "\n",
       "    .dataframe tbody tr th {\n",
       "        vertical-align: top;\n",
       "    }\n",
       "\n",
       "    .dataframe thead th {\n",
       "        text-align: right;\n",
       "    }\n",
       "</style>\n",
       "<table border=\"1\" class=\"dataframe\">\n",
       "  <thead>\n",
       "    <tr style=\"text-align: right;\">\n",
       "      <th></th>\n",
       "      <th>Open</th>\n",
       "      <th>High</th>\n",
       "      <th>Low</th>\n",
       "      <th>Close</th>\n",
       "      <th>Volume</th>\n",
       "      <th>Currency</th>\n",
       "    </tr>\n",
       "    <tr>\n",
       "      <th>Date</th>\n",
       "      <th></th>\n",
       "      <th></th>\n",
       "      <th></th>\n",
       "      <th></th>\n",
       "      <th></th>\n",
       "      <th></th>\n",
       "    </tr>\n",
       "  </thead>\n",
       "  <tbody>\n",
       "    <tr>\n",
       "      <th>2018-01-02</th>\n",
       "      <td>12388.82</td>\n",
       "      <td>12442.75</td>\n",
       "      <td>12372.18</td>\n",
       "      <td>12420.15</td>\n",
       "      <td>12420.15</td>\n",
       "      <td>MAD</td>\n",
       "    </tr>\n",
       "    <tr>\n",
       "      <th>2018-01-03</th>\n",
       "      <td>12420.15</td>\n",
       "      <td>12510.45</td>\n",
       "      <td>12380.18</td>\n",
       "      <td>12509.58</td>\n",
       "      <td>12509.58</td>\n",
       "      <td>MAD</td>\n",
       "    </tr>\n",
       "    <tr>\n",
       "      <th>2018-01-04</th>\n",
       "      <td>12509.58</td>\n",
       "      <td>12543.53</td>\n",
       "      <td>12434.17</td>\n",
       "      <td>12463.08</td>\n",
       "      <td>12463.08</td>\n",
       "      <td>MAD</td>\n",
       "    </tr>\n",
       "    <tr>\n",
       "      <th>2018-01-05</th>\n",
       "      <td>12463.08</td>\n",
       "      <td>12538.65</td>\n",
       "      <td>12430.09</td>\n",
       "      <td>12537.75</td>\n",
       "      <td>12537.75</td>\n",
       "      <td>MAD</td>\n",
       "    </tr>\n",
       "    <tr>\n",
       "      <th>2018-01-08</th>\n",
       "      <td>12537.75</td>\n",
       "      <td>12568.29</td>\n",
       "      <td>12462.70</td>\n",
       "      <td>12479.42</td>\n",
       "      <td>12479.42</td>\n",
       "      <td>MAD</td>\n",
       "    </tr>\n",
       "    <tr>\n",
       "      <th>...</th>\n",
       "      <td>...</td>\n",
       "      <td>...</td>\n",
       "      <td>...</td>\n",
       "      <td>...</td>\n",
       "      <td>...</td>\n",
       "      <td>...</td>\n",
       "    </tr>\n",
       "    <tr>\n",
       "      <th>2022-03-28</th>\n",
       "      <td>12602.92</td>\n",
       "      <td>12640.22</td>\n",
       "      <td>12590.87</td>\n",
       "      <td>12640.22</td>\n",
       "      <td>12640.22</td>\n",
       "      <td>MAD</td>\n",
       "    </tr>\n",
       "    <tr>\n",
       "      <th>2022-03-29</th>\n",
       "      <td>12640.22</td>\n",
       "      <td>12721.38</td>\n",
       "      <td>12625.64</td>\n",
       "      <td>12721.38</td>\n",
       "      <td>12721.38</td>\n",
       "      <td>MAD</td>\n",
       "    </tr>\n",
       "    <tr>\n",
       "      <th>2022-03-30</th>\n",
       "      <td>12721.38</td>\n",
       "      <td>12782.51</td>\n",
       "      <td>12703.18</td>\n",
       "      <td>12751.45</td>\n",
       "      <td>12751.45</td>\n",
       "      <td>MAD</td>\n",
       "    </tr>\n",
       "    <tr>\n",
       "      <th>2022-03-31</th>\n",
       "      <td>12751.45</td>\n",
       "      <td>12828.09</td>\n",
       "      <td>12742.35</td>\n",
       "      <td>12818.11</td>\n",
       "      <td>12818.11</td>\n",
       "      <td>MAD</td>\n",
       "    </tr>\n",
       "    <tr>\n",
       "      <th>2022-04-01</th>\n",
       "      <td>12818.11</td>\n",
       "      <td>12860.88</td>\n",
       "      <td>12814.59</td>\n",
       "      <td>12843.52</td>\n",
       "      <td>12843.52</td>\n",
       "      <td>MAD</td>\n",
       "    </tr>\n",
       "  </tbody>\n",
       "</table>\n",
       "<p>1056 rows × 6 columns</p>\n",
       "</div>"
      ],
      "text/plain": [
       "                Open      High       Low     Close    Volume Currency\n",
       "Date                                                                 \n",
       "2018-01-02  12388.82  12442.75  12372.18  12420.15  12420.15      MAD\n",
       "2018-01-03  12420.15  12510.45  12380.18  12509.58  12509.58      MAD\n",
       "2018-01-04  12509.58  12543.53  12434.17  12463.08  12463.08      MAD\n",
       "2018-01-05  12463.08  12538.65  12430.09  12537.75  12537.75      MAD\n",
       "2018-01-08  12537.75  12568.29  12462.70  12479.42  12479.42      MAD\n",
       "...              ...       ...       ...       ...       ...      ...\n",
       "2022-03-28  12602.92  12640.22  12590.87  12640.22  12640.22      MAD\n",
       "2022-03-29  12640.22  12721.38  12625.64  12721.38  12721.38      MAD\n",
       "2022-03-30  12721.38  12782.51  12703.18  12751.45  12751.45      MAD\n",
       "2022-03-31  12751.45  12828.09  12742.35  12818.11  12818.11      MAD\n",
       "2022-04-01  12818.11  12860.88  12814.59  12843.52  12843.52      MAD\n",
       "\n",
       "[1056 rows x 6 columns]"
      ]
     },
     "execution_count": 8,
     "metadata": {},
     "output_type": "execute_result"
    }
   ],
   "source": [
    "data"
   ]
  },
  {
   "cell_type": "code",
   "execution_count": 9,
   "metadata": {
    "pycharm": {
     "name": "#%% md\n"
    }
   },
   "outputs": [],
   "source": [
    "rsi=RelativeStrengthIndex(data)"
   ]
  },
  {
   "cell_type": "code",
   "execution_count": 10,
   "metadata": {},
   "outputs": [
    {
     "data": {
      "text/html": [
       "<div>\n",
       "<style scoped>\n",
       "    .dataframe tbody tr th:only-of-type {\n",
       "        vertical-align: middle;\n",
       "    }\n",
       "\n",
       "    .dataframe tbody tr th {\n",
       "        vertical-align: top;\n",
       "    }\n",
       "\n",
       "    .dataframe thead th {\n",
       "        text-align: right;\n",
       "    }\n",
       "</style>\n",
       "<table border=\"1\" class=\"dataframe\">\n",
       "  <thead>\n",
       "    <tr style=\"text-align: right;\">\n",
       "      <th></th>\n",
       "      <th>COURS_CLOTURE</th>\n",
       "      <th>rsi</th>\n",
       "    </tr>\n",
       "    <tr>\n",
       "      <th>Date</th>\n",
       "      <th></th>\n",
       "      <th></th>\n",
       "    </tr>\n",
       "  </thead>\n",
       "  <tbody>\n",
       "    <tr>\n",
       "      <th>2018-01-02</th>\n",
       "      <td>12420.15</td>\n",
       "      <td>NaN</td>\n",
       "    </tr>\n",
       "    <tr>\n",
       "      <th>2018-01-03</th>\n",
       "      <td>12509.58</td>\n",
       "      <td>NaN</td>\n",
       "    </tr>\n",
       "    <tr>\n",
       "      <th>2018-01-04</th>\n",
       "      <td>12463.08</td>\n",
       "      <td>NaN</td>\n",
       "    </tr>\n",
       "    <tr>\n",
       "      <th>2018-01-05</th>\n",
       "      <td>12537.75</td>\n",
       "      <td>NaN</td>\n",
       "    </tr>\n",
       "    <tr>\n",
       "      <th>2018-01-08</th>\n",
       "      <td>12479.42</td>\n",
       "      <td>NaN</td>\n",
       "    </tr>\n",
       "    <tr>\n",
       "      <th>...</th>\n",
       "      <td>...</td>\n",
       "      <td>...</td>\n",
       "    </tr>\n",
       "    <tr>\n",
       "      <th>2022-03-28</th>\n",
       "      <td>12640.22</td>\n",
       "      <td>0.462647</td>\n",
       "    </tr>\n",
       "    <tr>\n",
       "      <th>2022-03-29</th>\n",
       "      <td>12721.38</td>\n",
       "      <td>0.592328</td>\n",
       "    </tr>\n",
       "    <tr>\n",
       "      <th>2022-03-30</th>\n",
       "      <td>12751.45</td>\n",
       "      <td>0.527930</td>\n",
       "    </tr>\n",
       "    <tr>\n",
       "      <th>2022-03-31</th>\n",
       "      <td>12818.11</td>\n",
       "      <td>0.481570</td>\n",
       "    </tr>\n",
       "    <tr>\n",
       "      <th>2022-04-01</th>\n",
       "      <td>12843.52</td>\n",
       "      <td>0.634026</td>\n",
       "    </tr>\n",
       "  </tbody>\n",
       "</table>\n",
       "<p>1056 rows × 2 columns</p>\n",
       "</div>"
      ],
      "text/plain": [
       "            COURS_CLOTURE       rsi\n",
       "Date                               \n",
       "2018-01-02       12420.15       NaN\n",
       "2018-01-03       12509.58       NaN\n",
       "2018-01-04       12463.08       NaN\n",
       "2018-01-05       12537.75       NaN\n",
       "2018-01-08       12479.42       NaN\n",
       "...                   ...       ...\n",
       "2022-03-28       12640.22  0.462647\n",
       "2022-03-29       12721.38  0.592328\n",
       "2022-03-30       12751.45  0.527930\n",
       "2022-03-31       12818.11  0.481570\n",
       "2022-04-01       12843.52  0.634026\n",
       "\n",
       "[1056 rows x 2 columns]"
      ]
     },
     "execution_count": 10,
     "metadata": {},
     "output_type": "execute_result"
    }
   ],
   "source": [
    "rsi._calculateTi(period=16)"
   ]
  },
  {
   "cell_type": "code",
   "execution_count": 11,
   "metadata": {},
   "outputs": [
    {
     "data": {
      "text/plain": [
       "<module 'matplotlib.pyplot' from 'C:\\\\Users\\\\pc\\\\anaconda3\\\\lib\\\\site-packages\\\\matplotlib\\\\pyplot.py'>"
      ]
     },
     "execution_count": 11,
     "metadata": {},
     "output_type": "execute_result"
    },
    {
     "data": {
      "image/png": "[encoded data removed]",
      "text/plain": [
       "<Figure size 504x360 with 2 Axes>"
      ]
     },
     "metadata": {
      "needs_background": "light"
     },
     "output_type": "display_data"
    }
   ],
   "source": [
    "rsi.getTiGraph()"
   ]
  },
  {
   "cell_type": "code",
   "execution_count": 12,
   "metadata": {},
   "outputs": [
    {
     "data": {
      "text/plain": [
       "('hold', 0)"
      ]
     },
     "execution_count": 12,
     "metadata": {},
     "output_type": "execute_result"
    }
   ],
   "source": [
    "rsi.getTiSignal()"
   ]
  },
  {
   "cell_type": "code",
   "execution_count": 13,
   "metadata": {},
   "outputs": [
    {
     "data": {
      "text/plain": [
       "[12843.52, 0.46019879540096864]"
      ]
     },
     "execution_count": 13,
     "metadata": {},
     "output_type": "execute_result"
    }
   ],
   "source": [
    "rsi.getTiValue()"
   ]
  },
  {
   "cell_type": "code",
   "execution_count": 14,
   "metadata": {},
   "outputs": [],
   "source": [
    "data=df"
   ]
  },
  {
   "cell_type": "code",
   "execution_count": 15,
   "metadata": {},
   "outputs": [],
   "source": [
    "df=pd.DataFrame(df)"
   ]
  },
  {
   "cell_type": "code",
   "execution_count": 16,
   "metadata": {},
   "outputs": [
    {
     "name": "stdout",
     "output_type": "stream",
     "text": [
      "\n",
      "Simulation Data:\n",
      "            signal open_trading_action stock_value exposure portfolio_value  \\\n",
      "Date                                                                         \n",
      "2018-01-02   hold                none    12420.15      0.0             0.0   \n",
      "2018-01-03   hold                none    12509.58      0.0             0.0   \n",
      "2018-01-04   hold                none    12463.08      0.0             0.0   \n",
      "2018-01-05   hold                none    12537.75      0.0             0.0   \n",
      "2018-01-08   hold                none    12479.42      0.0             0.0   \n",
      "...           ...                 ...         ...      ...             ...   \n",
      "2022-03-28   hold                none    12640.22      0.0             0.0   \n",
      "2022-03-29   hold                none    12721.38      0.0             0.0   \n",
      "2022-03-30   hold                none    12751.45      0.0             0.0   \n",
      "2022-03-31   hold                none    12818.11      0.0             0.0   \n",
      "2022-04-01   hold                none    12843.52      0.0             0.0   \n",
      "\n",
      "           earnings balance  \n",
      "Date                         \n",
      "2018-01-02      0.0     0.0  \n",
      "2018-01-03      0.0     0.0  \n",
      "2018-01-04      0.0     0.0  \n",
      "2018-01-05      0.0     0.0  \n",
      "2018-01-08      0.0     0.0  \n",
      "...             ...     ...  \n",
      "2022-03-28      0.0     0.0  \n",
      "2022-03-29      0.0     0.0  \n",
      "2022-03-30      0.0     0.0  \n",
      "2022-03-31      0.0     0.0  \n",
      "2022-04-01      0.0     0.0  \n",
      "\n",
      "[1056 rows x 7 columns]\n",
      "\n",
      "Simulation Statistics:\n",
      " {'number_of_trading_days': 1056, 'number_of_buy_signals': 0, 'number_of_ignored_buy_signals': 0, 'number_of_sell_signals': 0, 'number_of_ignored_sell_signals': 0, 'last_stock_value': 12843.52, 'last_exposure': 0.0, 'last_open_long_positions': 0, 'last_open_short_positions': 0, 'last_portfolio_value': 0.0, 'last_earnings': 0.0, 'final_balance': 0.0}\n"
     ]
    },
    {
     "data": {
      "text/plain": [
       "'\\nsimulation_data=pd.DataFrame(simulation_data)\\nsimulation_statistics=pd.DataFrame(simulation_statistics)\\n'"
      ]
     },
     "execution_count": 16,
     "metadata": {},
     "output_type": "execute_result"
    },
    {
     "data": {
      "image/png": "[encoded data removed]",
      "text/plain": [
       "<Figure size 504x360 with 3 Axes>"
      ]
     },
     "metadata": {
      "needs_background": "light"
     },
     "output_type": "display_data"
    }
   ],
   "source": [
    "simulation_data, simulation_statistics, simulation_graph = \\\n",
    "rsi.getTiSimulation(close_values=df[['Close']], max_exposure=None,short_exposure_factor=1.5)\n",
    "print('\\nSimulation Data:\\n', simulation_data)\n",
    "print('\\nSimulation Statistics:\\n', simulation_statistics)\n",
    "\"\"\"\n",
    "simulation_data=pd.DataFrame(simulation_data)\n",
    "simulation_statistics=pd.DataFrame(simulation_statistics)\n",
    "\"\"\""
   ]
  },
  {
   "cell_type": "code",
   "execution_count": 17,
   "metadata": {},
   "outputs": [
    {
     "data": {
      "text/html": [
       "<div>\n",
       "<style scoped>\n",
       "    .dataframe tbody tr th:only-of-type {\n",
       "        vertical-align: middle;\n",
       "    }\n",
       "\n",
       "    .dataframe tbody tr th {\n",
       "        vertical-align: top;\n",
       "    }\n",
       "\n",
       "    .dataframe thead th {\n",
       "        text-align: right;\n",
       "    }\n",
       "</style>\n",
       "<table border=\"1\" class=\"dataframe\">\n",
       "  <thead>\n",
       "    <tr style=\"text-align: right;\">\n",
       "      <th></th>\n",
       "      <th>number_of_trading_days</th>\n",
       "      <th>number_of_buy_signals</th>\n",
       "      <th>number_of_ignored_buy_signals</th>\n",
       "      <th>number_of_sell_signals</th>\n",
       "      <th>number_of_ignored_sell_signals</th>\n",
       "      <th>last_stock_value</th>\n",
       "      <th>last_exposure</th>\n",
       "      <th>last_open_long_positions</th>\n",
       "      <th>last_open_short_positions</th>\n",
       "      <th>last_portfolio_value</th>\n",
       "      <th>last_earnings</th>\n",
       "      <th>final_balance</th>\n",
       "    </tr>\n",
       "    <tr>\n",
       "      <th>Date</th>\n",
       "      <th></th>\n",
       "      <th></th>\n",
       "      <th></th>\n",
       "      <th></th>\n",
       "      <th></th>\n",
       "      <th></th>\n",
       "      <th></th>\n",
       "      <th></th>\n",
       "      <th></th>\n",
       "      <th></th>\n",
       "      <th></th>\n",
       "      <th></th>\n",
       "    </tr>\n",
       "  </thead>\n",
       "  <tbody>\n",
       "    <tr>\n",
       "      <th>2018-01-02</th>\n",
       "      <td>1056</td>\n",
       "      <td>0</td>\n",
       "      <td>0</td>\n",
       "      <td>0</td>\n",
       "      <td>0</td>\n",
       "      <td>12843.52</td>\n",
       "      <td>0.0</td>\n",
       "      <td>0</td>\n",
       "      <td>0</td>\n",
       "      <td>0.0</td>\n",
       "      <td>0.0</td>\n",
       "      <td>0.0</td>\n",
       "    </tr>\n",
       "    <tr>\n",
       "      <th>2018-01-03</th>\n",
       "      <td>1056</td>\n",
       "      <td>0</td>\n",
       "      <td>0</td>\n",
       "      <td>0</td>\n",
       "      <td>0</td>\n",
       "      <td>12843.52</td>\n",
       "      <td>0.0</td>\n",
       "      <td>0</td>\n",
       "      <td>0</td>\n",
       "      <td>0.0</td>\n",
       "      <td>0.0</td>\n",
       "      <td>0.0</td>\n",
       "    </tr>\n",
       "    <tr>\n",
       "      <th>2018-01-04</th>\n",
       "      <td>1056</td>\n",
       "      <td>0</td>\n",
       "      <td>0</td>\n",
       "      <td>0</td>\n",
       "      <td>0</td>\n",
       "      <td>12843.52</td>\n",
       "      <td>0.0</td>\n",
       "      <td>0</td>\n",
       "      <td>0</td>\n",
       "      <td>0.0</td>\n",
       "      <td>0.0</td>\n",
       "      <td>0.0</td>\n",
       "    </tr>\n",
       "    <tr>\n",
       "      <th>2018-01-05</th>\n",
       "      <td>1056</td>\n",
       "      <td>0</td>\n",
       "      <td>0</td>\n",
       "      <td>0</td>\n",
       "      <td>0</td>\n",
       "      <td>12843.52</td>\n",
       "      <td>0.0</td>\n",
       "      <td>0</td>\n",
       "      <td>0</td>\n",
       "      <td>0.0</td>\n",
       "      <td>0.0</td>\n",
       "      <td>0.0</td>\n",
       "    </tr>\n",
       "    <tr>\n",
       "      <th>2018-01-08</th>\n",
       "      <td>1056</td>\n",
       "      <td>0</td>\n",
       "      <td>0</td>\n",
       "      <td>0</td>\n",
       "      <td>0</td>\n",
       "      <td>12843.52</td>\n",
       "      <td>0.0</td>\n",
       "      <td>0</td>\n",
       "      <td>0</td>\n",
       "      <td>0.0</td>\n",
       "      <td>0.0</td>\n",
       "      <td>0.0</td>\n",
       "    </tr>\n",
       "    <tr>\n",
       "      <th>...</th>\n",
       "      <td>...</td>\n",
       "      <td>...</td>\n",
       "      <td>...</td>\n",
       "      <td>...</td>\n",
       "      <td>...</td>\n",
       "      <td>...</td>\n",
       "      <td>...</td>\n",
       "      <td>...</td>\n",
       "      <td>...</td>\n",
       "      <td>...</td>\n",
       "      <td>...</td>\n",
       "      <td>...</td>\n",
       "    </tr>\n",
       "    <tr>\n",
       "      <th>2022-03-28</th>\n",
       "      <td>1056</td>\n",
       "      <td>0</td>\n",
       "      <td>0</td>\n",
       "      <td>0</td>\n",
       "      <td>0</td>\n",
       "      <td>12843.52</td>\n",
       "      <td>0.0</td>\n",
       "      <td>0</td>\n",
       "      <td>0</td>\n",
       "      <td>0.0</td>\n",
       "      <td>0.0</td>\n",
       "      <td>0.0</td>\n",
       "    </tr>\n",
       "    <tr>\n",
       "      <th>2022-03-29</th>\n",
       "      <td>1056</td>\n",
       "      <td>0</td>\n",
       "      <td>0</td>\n",
       "      <td>0</td>\n",
       "      <td>0</td>\n",
       "      <td>12843.52</td>\n",
       "      <td>0.0</td>\n",
       "      <td>0</td>\n",
       "      <td>0</td>\n",
       "      <td>0.0</td>\n",
       "      <td>0.0</td>\n",
       "      <td>0.0</td>\n",
       "    </tr>\n",
       "    <tr>\n",
       "      <th>2022-03-30</th>\n",
       "      <td>1056</td>\n",
       "      <td>0</td>\n",
       "      <td>0</td>\n",
       "      <td>0</td>\n",
       "      <td>0</td>\n",
       "      <td>12843.52</td>\n",
       "      <td>0.0</td>\n",
       "      <td>0</td>\n",
       "      <td>0</td>\n",
       "      <td>0.0</td>\n",
       "      <td>0.0</td>\n",
       "      <td>0.0</td>\n",
       "    </tr>\n",
       "    <tr>\n",
       "      <th>2022-03-31</th>\n",
       "      <td>1056</td>\n",
       "      <td>0</td>\n",
       "      <td>0</td>\n",
       "      <td>0</td>\n",
       "      <td>0</td>\n",
       "      <td>12843.52</td>\n",
       "      <td>0.0</td>\n",
       "      <td>0</td>\n",
       "      <td>0</td>\n",
       "      <td>0.0</td>\n",
       "      <td>0.0</td>\n",
       "      <td>0.0</td>\n",
       "    </tr>\n",
       "    <tr>\n",
       "      <th>2022-04-01</th>\n",
       "      <td>1056</td>\n",
       "      <td>0</td>\n",
       "      <td>0</td>\n",
       "      <td>0</td>\n",
       "      <td>0</td>\n",
       "      <td>12843.52</td>\n",
       "      <td>0.0</td>\n",
       "      <td>0</td>\n",
       "      <td>0</td>\n",
       "      <td>0.0</td>\n",
       "      <td>0.0</td>\n",
       "      <td>0.0</td>\n",
       "    </tr>\n",
       "  </tbody>\n",
       "</table>\n",
       "<p>1056 rows × 12 columns</p>\n",
       "</div>"
      ],
      "text/plain": [
       "            number_of_trading_days  number_of_buy_signals  \\\n",
       "Date                                                        \n",
       "2018-01-02                    1056                      0   \n",
       "2018-01-03                    1056                      0   \n",
       "2018-01-04                    1056                      0   \n",
       "2018-01-05                    1056                      0   \n",
       "2018-01-08                    1056                      0   \n",
       "...                            ...                    ...   \n",
       "2022-03-28                    1056                      0   \n",
       "2022-03-29                    1056                      0   \n",
       "2022-03-30                    1056                      0   \n",
       "2022-03-31                    1056                      0   \n",
       "2022-04-01                    1056                      0   \n",
       "\n",
       "            number_of_ignored_buy_signals  number_of_sell_signals  \\\n",
       "Date                                                                \n",
       "2018-01-02                              0                       0   \n",
       "2018-01-03                              0                       0   \n",
       "2018-01-04                              0                       0   \n",
       "2018-01-05                              0                       0   \n",
       "2018-01-08                              0                       0   \n",
       "...                                   ...                     ...   \n",
       "2022-03-28                              0                       0   \n",
       "2022-03-29                              0                       0   \n",
       "2022-03-30                              0                       0   \n",
       "2022-03-31                              0                       0   \n",
       "2022-04-01                              0                       0   \n",
       "\n",
       "            number_of_ignored_sell_signals  last_stock_value  last_exposure  \\\n",
       "Date                                                                          \n",
       "2018-01-02                               0          12843.52            0.0   \n",
       "2018-01-03                               0          12843.52            0.0   \n",
       "2018-01-04                               0          12843.52            0.0   \n",
       "2018-01-05                               0          12843.52            0.0   \n",
       "2018-01-08                               0          12843.52            0.0   \n",
       "...                                    ...               ...            ...   \n",
       "2022-03-28                               0          12843.52            0.0   \n",
       "2022-03-29                               0          12843.52            0.0   \n",
       "2022-03-30                               0          12843.52            0.0   \n",
       "2022-03-31                               0          12843.52            0.0   \n",
       "2022-04-01                               0          12843.52            0.0   \n",
       "\n",
       "            last_open_long_positions  last_open_short_positions  \\\n",
       "Date                                                              \n",
       "2018-01-02                         0                          0   \n",
       "2018-01-03                         0                          0   \n",
       "2018-01-04                         0                          0   \n",
       "2018-01-05                         0                          0   \n",
       "2018-01-08                         0                          0   \n",
       "...                              ...                        ...   \n",
       "2022-03-28                         0                          0   \n",
       "2022-03-29                         0                          0   \n",
       "2022-03-30                         0                          0   \n",
       "2022-03-31                         0                          0   \n",
       "2022-04-01                         0                          0   \n",
       "\n",
       "            last_portfolio_value  last_earnings  final_balance  \n",
       "Date                                                            \n",
       "2018-01-02                   0.0            0.0            0.0  \n",
       "2018-01-03                   0.0            0.0            0.0  \n",
       "2018-01-04                   0.0            0.0            0.0  \n",
       "2018-01-05                   0.0            0.0            0.0  \n",
       "2018-01-08                   0.0            0.0            0.0  \n",
       "...                          ...            ...            ...  \n",
       "2022-03-28                   0.0            0.0            0.0  \n",
       "2022-03-29                   0.0            0.0            0.0  \n",
       "2022-03-30                   0.0            0.0            0.0  \n",
       "2022-03-31                   0.0            0.0            0.0  \n",
       "2022-04-01                   0.0            0.0            0.0  \n",
       "\n",
       "[1056 rows x 12 columns]"
      ]
     },
     "execution_count": 17,
     "metadata": {},
     "output_type": "execute_result"
    }
   ],
   "source": [
    "simulation_data=pd.DataFrame(simulation_data,index=df.index)\n",
    "simulation_statistics=pd.DataFrame(simulation_statistics,index=df.index)\n",
    "simulation_statistics"
   ]
  },
  {
   "cell_type": "code",
   "execution_count": 18,
   "metadata": {},
   "outputs": [],
   "source": [
    "def pmv(close,signal):\n",
    "\t\"\"\"\n",
    "\t\tLa Plus-ou-moins-value\n",
    "\n",
    "\t\"\"\"\n",
    "\tclose=np.array(close)\n",
    "\tsignal=np.array(signal.fillna(0))\n",
    "\tqt=signal.cumsum()\n",
    "\tachat= np.where(signal>=1,1,0)\n",
    "\tPDR=[]\n",
    "\tfor t in range(len(close)):\n",
    "\t\tp=(close[:t+1]*achat[:t+1]).sum()\n",
    "\t\tif achat[:t+1].sum()==0 :\n",
    "\t\t\tval=0\n",
    "\t\telse :\n",
    "\t\t\tp=p/(achat[:t+1].sum())\n",
    "\t\t\tval=qt[t]*p \n",
    "\t\tPDR.append(val)\n",
    "\tPMV_lat=close*qt-PDR\n",
    "\tPMV_re=[0]\n",
    "\tfor i in range(1,len(close)):\n",
    "\t\tvl=PDR[i]-PDR[i-1]+PMV_re[i-1]-close[i]*signal[i]\n",
    "\t\tPMV_re.append(vl)\n",
    "\tPMV=PMV_lat+PMV_re\n",
    "\treturn PMV"
   ]
  },
  {
   "cell_type": "code",
   "execution_count": 19,
   "metadata": {},
   "outputs": [],
   "source": [
    "def adjustsignal(signal):\n",
    "\tsig=[]\n",
    "\tqtite=0\n",
    "\tfor i in signal:\n",
    "\t\tif i > 0 :\n",
    "\t\t\tsig.append(i)\n",
    "\t\t\tqtite+=1\n",
    "\t\telif i < 0:\n",
    "\t\t\tif qtite >= abs(i) :\n",
    "\t\t\t\tsig.append(i)\n",
    "\t\t\t\tqtite+=-i\n",
    "\t\t\telse:\n",
    "\t\t\t\tsig.append(0)\n",
    "\t\telse:\n",
    "\t\t\tsig.append(0)\n",
    "\treturn sig"
   ]
  },
  {
   "cell_type": "markdown",
   "metadata": {
    "pycharm": {
     "name": "#%% md\n"
    }
   },
   "source": [
    "## RSI"
   ]
  },
  {
   "cell_type": "code",
   "execution_count": 20,
   "metadata": {
    "pycharm": {
     "name": "#%%\n"
    }
   },
   "outputs": [],
   "source": [
    "def  obj_rsi(period):\n",
    "    global haut\n",
    "    global bas\n",
    "    period=int(period[0])\n",
    "    signal=pd.DataFrame(index=df.index)\n",
    "    rs=rsi._calculateTi(period)[\"rsi\"]\n",
    "    signal[\"compa_achat\"]=np.nan\n",
    "    signal[\"compa_vente\"]=np.nan\n",
    "    signal[\"compa_achat\"][period:]=np.where(rs[period:] > bas,1,0)\n",
    "    signal[\"signal_achat\"]=signal[\"compa_achat\"].diff()\n",
    "    signal[\"compa_vente\"][period:]=np.where(rs[period:] < haut,4,2)\n",
    "    signal[\"signal_vente\"]=signal[\"compa_vente\"].diff()\n",
    "    sig=np.where(signal[\"signal_achat\"]==1,1,0)+np.where(signal[\"signal_vente\"]==2,-1,0)\n",
    "    sig=adjustsignal(sig)\n",
    "    sig=pd.Series(sig, index=df.index)\n",
    "    cours=df.Close*(1+taux*sig)\n",
    "    pmval=pmv(cours,sig)\n",
    "    return pmval.max(),"
   ]
  },
  {
   "cell_type": "code",
   "execution_count": 24,
   "metadata": {},
   "outputs": [
    {
     "name": "stdout",
     "output_type": "stream",
     "text": [
      "gen\tnevals\tmax    \tavg    \n",
      "0  \t40    \t15634.7\t8852.53\n",
      "1  \t36    \t14119.6\t10815.8\n",
      "2  \t38    \t15358.8\t13150.9\n",
      "3  \t39    \t15358.8\t13961.2\n",
      "4  \t38    \t15358.8\t14312  \n",
      "5  \t33    \t15358.8\t14326.4\n",
      "Hall of Fame Individuals = \n",
      "[24]\n",
      "[15.75387298837767]\n",
      "[15.751154814185655]\n",
      "[15.990802359145134]\n",
      "[15.789733287984333]\n",
      "Best Ever Individual =  [24]\n"
     ]
    },
    {
     "data": {
      "image/png": "[encoded data removed]",
      "text/plain": [
       "<Figure size 432x288 with 1 Axes>"
      ]
     },
     "metadata": {},
     "output_type": "display_data"
    }
   ],
   "source": [
    "haut,bas=0.7,0.3\n",
    "GeneticAlgo(1,obj_rsi,5,13,30)"
   ]
  },
  {
   "cell_type": "code",
   "execution_count": 25,
   "metadata": {},
   "outputs": [
    {
     "name": "stdout",
     "output_type": "stream",
     "text": [
      "gen\tnevals\tmax    \tavg    \n",
      "0  \t40    \t11688.4\t4226.83\n",
      "1  \t32    \t11688.4\t6058.01\n",
      "2  \t38    \t11688.4\t7922.32\n",
      "3  \t36    \t11688.4\t10615.6\n",
      "4  \t38    \t11688.4\t11688.4\n",
      "5  \t38    \t11688.4\t11200.5\n",
      "Hall of Fame Individuals = \n",
      "[23.077149661220993]\n",
      "[23.020759617201666]\n",
      "[23.00271936816877]\n",
      "[23.99728063183123]\n",
      "[23]\n",
      "Best Ever Individual =  [23]\n"
     ]
    },
    {
     "data": {
      "image/png": "[encoded data removed]",
      "text/plain": [
       "<Figure size 432x288 with 1 Axes>"
      ]
     },
     "metadata": {},
     "output_type": "display_data"
    }
   ],
   "source": [
    "haut,bas=0.75,0.25\n",
    "GeneticAlgo(1,obj_rsi,5,13,30)"
   ]
  },
  {
   "cell_type": "code",
   "execution_count": 26,
   "metadata": {},
   "outputs": [
    {
     "name": "stdout",
     "output_type": "stream",
     "text": [
      "gen\tnevals\tmax    \tavg    \n",
      "0  \t40    \t9467.87\t4557.44\n",
      "1  \t32    \t9467.87\t6910.24\n",
      "2  \t38    \t9467.87\t8026.1 \n",
      "3  \t36    \t9467.87\t8918.03\n",
      "4  \t40    \t9467.87\t9394.96\n",
      "5  \t37    \t9467.87\t9432.02\n",
      "Hall of Fame Individuals = \n",
      "[19.060811053114637]\n",
      "[19.222429431644212]\n",
      "[19.266137364124827]\n",
      "[19.016570161536567]\n",
      "[19]\n",
      "Best Ever Individual =  [19]\n"
     ]
    },
    {
     "data": {
      "image/png": "[encoded data removed]",
      "text/plain": [
       "<Figure size 432x288 with 1 Axes>"
      ]
     },
     "metadata": {},
     "output_type": "display_data"
    }
   ],
   "source": [
    "haut,bas=0.8,0.20\n",
    "GeneticAlgo(1,obj_rsi,5,13,30)\n"
   ]
  },
  {
   "cell_type": "code",
   "execution_count": 27,
   "metadata": {},
   "outputs": [
    {
     "name": "stdout",
     "output_type": "stream",
     "text": [
      "gen\tnevals\tmax    \tavg    \n",
      "0  \t40    \t1705.72\t594.941\n",
      "1  \t32    \t1705.72\t1111.26\n",
      "2  \t38    \t1705.72\t1632.77\n",
      "3  \t35    \t1705.72\t1686.97\n",
      "4  \t38    \t1705.72\t1701.07\n",
      "5  \t38    \t1705.72\t1701.49\n",
      "6  \t34    \t1705.72\t1700.65\n",
      "Hall of Fame Individuals = \n",
      "[17.930698178264976]\n",
      "[17.961560848247043]\n",
      "[17.97694204070671]\n",
      "[17.983429838463433]\n",
      "[17]\n",
      "Best Ever Individual =  [17]\n"
     ]
    },
    {
     "data": {
      "image/png": "[encoded data removed]",
      "text/plain": [
       "<Figure size 432x288 with 1 Axes>"
      ]
     },
     "metadata": {},
     "output_type": "display_data"
    }
   ],
   "source": [
    "haut,bas=0.9,0.1\n",
    "GeneticAlgo(1,obj_rsi,6,13,30)"
   ]
  }
 ],
 "metadata": {
  "kernelspec": {
   "display_name": "Python 3 (ipykernel)",
   "language": "python",
   "name": "python3"
  },
  "language_info": {
   "codemirror_mode": {
    "name": "ipython",
    "version": 3
   },
   "file_extension": ".py",
   "mimetype": "text/x-python",
   "name": "python",
   "nbconvert_exporter": "python",
   "pygments_lexer": "ipython3",
   "version": "3.9.7"
  }
 },
 "nbformat": 4,
 "nbformat_minor": 4
}
