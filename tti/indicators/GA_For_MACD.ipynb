{
 "cells": [
  {
   "cell_type": "code",
   "execution_count": 4,
   "metadata": {
    "pycharm": {
     "name": "#%%\n"
    }
   },
   "outputs": [],
   "source": [
    "from deap import base\n",
    "from deap import creator\n",
    "from deap import tools\n",
    "from deap import algorithms"
   ]
  },
  {
   "cell_type": "code",
   "execution_count": 5,
   "metadata": {
    "pycharm": {
     "name": "#%%\n"
    }
   },
   "outputs": [],
   "source": [
    "from _moving_average_convergence_divergence import MovingAverageConvergenceDivergence"
   ]
  },
  {
   "cell_type": "code",
   "execution_count": 6,
   "metadata": {
    "pycharm": {
     "name": "#%%\n"
    }
   },
   "outputs": [],
   "source": [
    "import random\n",
    "import matplotlib.pyplot as plt\n",
    "import seaborn as sns\n",
    "import numpy as np\n",
    "import pandas as pd"
   ]
  },
  {
   "cell_type": "code",
   "execution_count": 26,
   "metadata": {
    "pycharm": {
     "name": "#%%\n"
    }
   },
   "outputs": [],
   "source": [
    "data=pd.read_csv(\"MASI.csv\",parse_dates=True, index_col=0)"
   ]
  },
  {
   "cell_type": "code",
   "execution_count": 24,
   "metadata": {
    "pycharm": {
     "name": "#%%\n"
    }
   },
   "outputs": [
    {
     "data": {
      "text/html": [
       "<div>\n",
       "<style scoped>\n",
       "    .dataframe tbody tr th:only-of-type {\n",
       "        vertical-align: middle;\n",
       "    }\n",
       "\n",
       "    .dataframe tbody tr th {\n",
       "        vertical-align: top;\n",
       "    }\n",
       "\n",
       "    .dataframe thead th {\n",
       "        text-align: right;\n",
       "    }\n",
       "</style>\n",
       "<table border=\"1\" class=\"dataframe\">\n",
       "  <thead>\n",
       "    <tr style=\"text-align: right;\">\n",
       "      <th></th>\n",
       "      <th>open</th>\n",
       "      <th>high</th>\n",
       "      <th>low</th>\n",
       "      <th>close</th>\n",
       "      <th>volume</th>\n",
       "      <th>currency</th>\n",
       "    </tr>\n",
       "    <tr>\n",
       "      <th>Date</th>\n",
       "      <th></th>\n",
       "      <th></th>\n",
       "      <th></th>\n",
       "      <th></th>\n",
       "      <th></th>\n",
       "      <th></th>\n",
       "    </tr>\n",
       "  </thead>\n",
       "  <tbody>\n",
       "    <tr>\n",
       "      <th>2018-01-02</th>\n",
       "      <td>12388.82</td>\n",
       "      <td>12442.75</td>\n",
       "      <td>12372.18</td>\n",
       "      <td>12420.15</td>\n",
       "      <td>0</td>\n",
       "      <td>MAD</td>\n",
       "    </tr>\n",
       "    <tr>\n",
       "      <th>2018-01-03</th>\n",
       "      <td>12420.15</td>\n",
       "      <td>12510.45</td>\n",
       "      <td>12380.18</td>\n",
       "      <td>12509.58</td>\n",
       "      <td>0</td>\n",
       "      <td>MAD</td>\n",
       "    </tr>\n",
       "    <tr>\n",
       "      <th>2018-01-04</th>\n",
       "      <td>12509.58</td>\n",
       "      <td>12543.53</td>\n",
       "      <td>12434.17</td>\n",
       "      <td>12463.08</td>\n",
       "      <td>0</td>\n",
       "      <td>MAD</td>\n",
       "    </tr>\n",
       "    <tr>\n",
       "      <th>2018-01-05</th>\n",
       "      <td>12463.08</td>\n",
       "      <td>12538.65</td>\n",
       "      <td>12430.09</td>\n",
       "      <td>12537.75</td>\n",
       "      <td>0</td>\n",
       "      <td>MAD</td>\n",
       "    </tr>\n",
       "    <tr>\n",
       "      <th>2018-01-08</th>\n",
       "      <td>12537.75</td>\n",
       "      <td>12568.29</td>\n",
       "      <td>12462.70</td>\n",
       "      <td>12479.42</td>\n",
       "      <td>0</td>\n",
       "      <td>MAD</td>\n",
       "    </tr>\n",
       "    <tr>\n",
       "      <th>...</th>\n",
       "      <td>...</td>\n",
       "      <td>...</td>\n",
       "      <td>...</td>\n",
       "      <td>...</td>\n",
       "      <td>...</td>\n",
       "      <td>...</td>\n",
       "    </tr>\n",
       "    <tr>\n",
       "      <th>2022-03-28</th>\n",
       "      <td>12602.92</td>\n",
       "      <td>12640.22</td>\n",
       "      <td>12590.87</td>\n",
       "      <td>12640.22</td>\n",
       "      <td>0</td>\n",
       "      <td>MAD</td>\n",
       "    </tr>\n",
       "    <tr>\n",
       "      <th>2022-03-29</th>\n",
       "      <td>12640.22</td>\n",
       "      <td>12721.38</td>\n",
       "      <td>12625.64</td>\n",
       "      <td>12721.38</td>\n",
       "      <td>0</td>\n",
       "      <td>MAD</td>\n",
       "    </tr>\n",
       "    <tr>\n",
       "      <th>2022-03-30</th>\n",
       "      <td>12721.38</td>\n",
       "      <td>12782.51</td>\n",
       "      <td>12703.18</td>\n",
       "      <td>12751.45</td>\n",
       "      <td>0</td>\n",
       "      <td>MAD</td>\n",
       "    </tr>\n",
       "    <tr>\n",
       "      <th>2022-03-31</th>\n",
       "      <td>12751.45</td>\n",
       "      <td>12828.09</td>\n",
       "      <td>12742.35</td>\n",
       "      <td>12818.11</td>\n",
       "      <td>0</td>\n",
       "      <td>MAD</td>\n",
       "    </tr>\n",
       "    <tr>\n",
       "      <th>2022-04-01</th>\n",
       "      <td>12818.11</td>\n",
       "      <td>12860.88</td>\n",
       "      <td>12814.59</td>\n",
       "      <td>12843.52</td>\n",
       "      <td>0</td>\n",
       "      <td>MAD</td>\n",
       "    </tr>\n",
       "  </tbody>\n",
       "</table>\n",
       "<p>1056 rows × 6 columns</p>\n",
       "</div>"
      ],
      "text/plain": [
       "                open      high       low     close  volume currency\n",
       "Date                                                               \n",
       "2018-01-02  12388.82  12442.75  12372.18  12420.15       0      MAD\n",
       "2018-01-03  12420.15  12510.45  12380.18  12509.58       0      MAD\n",
       "2018-01-04  12509.58  12543.53  12434.17  12463.08       0      MAD\n",
       "2018-01-05  12463.08  12538.65  12430.09  12537.75       0      MAD\n",
       "2018-01-08  12537.75  12568.29  12462.70  12479.42       0      MAD\n",
       "...              ...       ...       ...       ...     ...      ...\n",
       "2022-03-28  12602.92  12640.22  12590.87  12640.22       0      MAD\n",
       "2022-03-29  12640.22  12721.38  12625.64  12721.38       0      MAD\n",
       "2022-03-30  12721.38  12782.51  12703.18  12751.45       0      MAD\n",
       "2022-03-31  12751.45  12828.09  12742.35  12818.11       0      MAD\n",
       "2022-04-01  12818.11  12860.88  12814.59  12843.52       0      MAD\n",
       "\n",
       "[1056 rows x 6 columns]"
      ]
     },
     "execution_count": 24,
     "metadata": {},
     "output_type": "execute_result"
    }
   ],
   "source": [
    "data"
   ]
  },
  {
   "cell_type": "code",
   "execution_count": 9,
   "metadata": {
    "pycharm": {
     "name": "#%%\n"
    }
   },
   "outputs": [],
   "source": [
    "df=data[\"Close\"].loc[\"2018-01-02\":]\n",
    "high=data[\"High\"].loc[\"2018-01-02\":]\n",
    "low=data[\"Low\"].loc[\"2018-01-02\":]\n"
   ]
  },
  {
   "cell_type": "markdown",
   "metadata": {
    "pycharm": {
     "name": "#%% md\n"
    }
   },
   "source": [
    "## Fonction"
   ]
  },
  {
   "cell_type": "code",
   "execution_count": 10,
   "metadata": {
    "pycharm": {
     "name": "#%%\n"
    }
   },
   "outputs": [],
   "source": [
    "premier=0 "
   ]
  },
  {
   "cell_type": "code",
   "execution_count": 11,
   "metadata": {
    "pycharm": {
     "name": "#%%\n"
    }
   },
   "outputs": [],
   "source": [
    "def GeneticAlgo(dim,obj_func,MAX_GENERATIONS,BOUND_LOW,BOUND_UP,POPULATION_SIZE=40,P_CROSSOVER = 0.9,P_MUTATION = 0.1):\n",
    "\tglobal premier\n",
    "\tONE_MAX_LENGTH=dim\n",
    "\tHALL_OF_FAME_SIZE = 5\n",
    "\tCROWDING_FACTOR=20\n",
    "\tRANDOM_SEED = 40\n",
    "\trandom.seed(RANDOM_SEED)\n",
    "\tif premier> 0 :\n",
    "\t\tdel creator.FitnessMax\n",
    "\t\tdel creator.Individual\n",
    "\tpremier=premier+1\n",
    "\ttoolbox = base.Toolbox()\n",
    "\ttoolbox.register(\"Num\", random.randint, BOUND_LOW, BOUND_UP)\n",
    "\tcreator.create(\"FitnessMax\", base.Fitness, weights=(1.0,))\n",
    "\tcreator.create(\"Individual\", list, fitness=creator.FitnessMax)\n",
    "\ttoolbox.register(\"individualCreator\", tools.initRepeat, creator.Individual, toolbox.Num, ONE_MAX_LENGTH)\n",
    "\ttoolbox.register(\"populationCreator\", tools.initRepeat, list, toolbox.individualCreator)\n",
    "\ttoolbox.register(\"evaluate\", obj_func)\n",
    "\ttoolbox.register(\"select\", tools.selTournament, tournsize=3)\n",
    "\ttoolbox.register(\"mate\", tools.cxSimulatedBinaryBounded, low=BOUND_LOW, up=BOUND_UP, eta=CROWDING_FACTOR)\n",
    "\ttoolbox.register(\"mutate\", tools.mutPolynomialBounded, low=BOUND_LOW, up=BOUND_UP, eta=CROWDING_FACTOR, indpb=0.20)\n",
    "\tdef main():\n",
    "\t\tpopulation = toolbox.populationCreator(n=POPULATION_SIZE)\n",
    "\t\tstats = tools.Statistics(lambda ind: ind.fitness.values)\n",
    "\t\tstats.register(\"max\", np.max)\n",
    "\t\tstats.register(\"avg\", np.mean)\n",
    "\t\thof = tools.HallOfFame(HALL_OF_FAME_SIZE)\n",
    "\t\tpopulation, logbook = algorithms.eaSimple(population, toolbox, cxpb=P_CROSSOVER, mutpb=P_MUTATION,ngen=MAX_GENERATIONS\n",
    "\t\t\t, stats=stats, halloffame=hof, verbose=True)\n",
    "\t\tprint(\"Hall of Fame Individuals = \", *hof.items, sep=\"\\n\")\n",
    "\t\tprint(\"Best Ever Individual = \", [ int(i) for i in hof.items[0]])\n",
    "\t\tmaxFitnessValues, meanFitnessValues = logbook.select(\"max\", \"avg\")\n",
    "\t\tsns.set_style(\"whitegrid\")\n",
    "\t\tplt.plot(maxFitnessValues, color='red')\n",
    "\t\tplt.plot(meanFitnessValues, color='green')\n",
    "\t\tplt.xlabel('Génération')\n",
    "\t\tplt.ylabel('Max / Moyenne Fitness')\n",
    "\t\tplt.title('Max et Moyenne de  Fitness opar générations')\n",
    "\t\tplt.show()\n",
    "\tmain()"
   ]
  },
  {
   "cell_type": "code",
   "execution_count": 12,
   "metadata": {
    "pycharm": {
     "name": "#%%\n"
    }
   },
   "outputs": [],
   "source": [
    "# Coût des transactions\n",
    "ti=0.0022\n",
    "fr=0.0011\n",
    "cb=0.0011\n",
    "taux=ti+fr+cb"
   ]
  },
  {
   "cell_type": "markdown",
   "metadata": {
    "pycharm": {
     "name": "#%% md\n"
    }
   },
   "source": [
    "## **TEST macd**"
   ]
  },
  {
   "cell_type": "code",
   "execution_count": 28,
   "metadata": {
    "pycharm": {
     "name": "#%% md\n"
    }
   },
   "outputs": [],
   "source": [
    "macd=MovingAverageConvergenceDivergence(data)"
   ]
  },
  {
   "cell_type": "code",
   "execution_count": 29,
   "metadata": {},
   "outputs": [],
   "source": [
    "macd=MovingAverageConvergenceDivergence(data)"
   ]
  },
  {
   "cell_type": "code",
   "execution_count": 30,
   "metadata": {},
   "outputs": [
    {
     "data": {
      "text/html": [
       "<div>\n",
       "<style scoped>\n",
       "    .dataframe tbody tr th:only-of-type {\n",
       "        vertical-align: middle;\n",
       "    }\n",
       "\n",
       "    .dataframe tbody tr th {\n",
       "        vertical-align: top;\n",
       "    }\n",
       "\n",
       "    .dataframe thead th {\n",
       "        text-align: right;\n",
       "    }\n",
       "</style>\n",
       "<table border=\"1\" class=\"dataframe\">\n",
       "  <thead>\n",
       "    <tr style=\"text-align: right;\">\n",
       "      <th></th>\n",
       "      <th>macd</th>\n",
       "      <th>signal_line</th>\n",
       "    </tr>\n",
       "    <tr>\n",
       "      <th>Date</th>\n",
       "      <th></th>\n",
       "      <th></th>\n",
       "    </tr>\n",
       "  </thead>\n",
       "  <tbody>\n",
       "    <tr>\n",
       "      <th>2018-01-02</th>\n",
       "      <td>NaN</td>\n",
       "      <td>NaN</td>\n",
       "    </tr>\n",
       "    <tr>\n",
       "      <th>2018-01-03</th>\n",
       "      <td>NaN</td>\n",
       "      <td>NaN</td>\n",
       "    </tr>\n",
       "    <tr>\n",
       "      <th>2018-01-04</th>\n",
       "      <td>NaN</td>\n",
       "      <td>NaN</td>\n",
       "    </tr>\n",
       "    <tr>\n",
       "      <th>2018-01-05</th>\n",
       "      <td>NaN</td>\n",
       "      <td>NaN</td>\n",
       "    </tr>\n",
       "    <tr>\n",
       "      <th>2018-01-08</th>\n",
       "      <td>NaN</td>\n",
       "      <td>NaN</td>\n",
       "    </tr>\n",
       "    <tr>\n",
       "      <th>...</th>\n",
       "      <td>...</td>\n",
       "      <td>...</td>\n",
       "    </tr>\n",
       "    <tr>\n",
       "      <th>2022-03-28</th>\n",
       "      <td>-183.6008</td>\n",
       "      <td>-200.0047</td>\n",
       "    </tr>\n",
       "    <tr>\n",
       "      <th>2022-03-29</th>\n",
       "      <td>-170.1133</td>\n",
       "      <td>-194.0264</td>\n",
       "    </tr>\n",
       "    <tr>\n",
       "      <th>2022-03-30</th>\n",
       "      <td>-155.2088</td>\n",
       "      <td>-186.2629</td>\n",
       "    </tr>\n",
       "    <tr>\n",
       "      <th>2022-03-31</th>\n",
       "      <td>-136.4451</td>\n",
       "      <td>-176.2993</td>\n",
       "    </tr>\n",
       "    <tr>\n",
       "      <th>2022-04-01</th>\n",
       "      <td>-118.1623</td>\n",
       "      <td>-164.6719</td>\n",
       "    </tr>\n",
       "  </tbody>\n",
       "</table>\n",
       "<p>1056 rows × 2 columns</p>\n",
       "</div>"
      ],
      "text/plain": [
       "                macd  signal_line\n",
       "Date                             \n",
       "2018-01-02       NaN          NaN\n",
       "2018-01-03       NaN          NaN\n",
       "2018-01-04       NaN          NaN\n",
       "2018-01-05       NaN          NaN\n",
       "2018-01-08       NaN          NaN\n",
       "...              ...          ...\n",
       "2022-03-28 -183.6008    -200.0047\n",
       "2022-03-29 -170.1133    -194.0264\n",
       "2022-03-30 -155.2088    -186.2629\n",
       "2022-03-31 -136.4451    -176.2993\n",
       "2022-04-01 -118.1623    -164.6719\n",
       "\n",
       "[1056 rows x 2 columns]"
      ]
     },
     "execution_count": 30,
     "metadata": {},
     "output_type": "execute_result"
    }
   ],
   "source": [
    "macd._calculateTi(wl=26,ws=12)"
   ]
  },
  {
   "cell_type": "code",
   "execution_count": 16,
   "metadata": {},
   "outputs": [
    {
     "data": {
      "text/plain": [
       "('hold', 0)"
      ]
     },
     "execution_count": 16,
     "metadata": {},
     "output_type": "execute_result"
    }
   ],
   "source": [
    "macd.getTiSignal()"
   ]
  },
  {
   "cell_type": "code",
   "execution_count": 18,
   "metadata": {},
   "outputs": [
    {
     "data": {
      "text/plain": [
       "<module 'matplotlib.pyplot' from 'C:\\\\Users\\\\pc\\\\anaconda3\\\\lib\\\\site-packages\\\\matplotlib\\\\pyplot.py'>"
      ]
     },
     "execution_count": 18,
     "metadata": {},
     "output_type": "execute_result"
    },
    {
     "data": {
      "image/png": "[encoded data removed]",
      "text/plain": [
       "<Figure size 504x360 with 2 Axes>"
      ]
     },
     "metadata": {
      "needs_background": "light"
     },
     "output_type": "display_data"
    }
   ],
   "source": [
    "\"\"\"\n",
    "graph = macd.getTiGraph()\n",
    "st.chi7aja(graph)"
   ]
  },
  {
   "cell_type": "code",
   "execution_count": 20,
   "metadata": {},
   "outputs": [
    {
     "data": {
      "text/plain": [
       "('hold', 0)"
      ]
     },
     "execution_count": 20,
     "metadata": {},
     "output_type": "execute_result"
    }
   ],
   "source": [
    "macd.getTiSignal()"
   ]
  },
  {
   "cell_type": "code",
   "execution_count": 31,
   "metadata": {},
   "outputs": [
    {
     "ename": "KeyError",
     "evalue": "\"None of [Index(['Close'], dtype='object', name='Date')] are in the [index]\"",
     "output_type": "error",
     "traceback": [
      "\u001b[1;31m---------------------------------------------------------------------------\u001b[0m",
      "\u001b[1;31mKeyError\u001b[0m                                  Traceback (most recent call last)",
      "\u001b[1;32m~\\AppData\\Local\\Temp/ipykernel_14100/2284207993.py\u001b[0m in \u001b[0;36m<module>\u001b[1;34m\u001b[0m\n\u001b[0;32m      1\u001b[0m \u001b[0msimulation_data\u001b[0m\u001b[1;33m,\u001b[0m \u001b[0msimulation_statistics\u001b[0m\u001b[1;33m,\u001b[0m \u001b[0msimulation_graph\u001b[0m \u001b[1;33m=\u001b[0m\u001b[0;31m \u001b[0m\u001b[0;31m\\\u001b[0m\u001b[1;33m\u001b[0m\u001b[1;33m\u001b[0m\u001b[0m\n\u001b[1;32m----> 2\u001b[1;33m \u001b[0mmacd\u001b[0m\u001b[1;33m.\u001b[0m\u001b[0mgetTiSimulation\u001b[0m\u001b[1;33m(\u001b[0m\u001b[0mclose_values\u001b[0m\u001b[1;33m=\u001b[0m\u001b[0mdf\u001b[0m\u001b[1;33m[\u001b[0m\u001b[1;33m[\u001b[0m\u001b[1;34m'Close'\u001b[0m\u001b[1;33m]\u001b[0m\u001b[1;33m]\u001b[0m\u001b[1;33m,\u001b[0m \u001b[0mmax_exposure\u001b[0m\u001b[1;33m=\u001b[0m\u001b[1;32mNone\u001b[0m\u001b[1;33m,\u001b[0m\u001b[0mshort_exposure_factor\u001b[0m\u001b[1;33m=\u001b[0m\u001b[1;36m1.5\u001b[0m\u001b[1;33m)\u001b[0m\u001b[1;33m\u001b[0m\u001b[1;33m\u001b[0m\u001b[0m\n\u001b[0m\u001b[0;32m      3\u001b[0m \u001b[0mprint\u001b[0m\u001b[1;33m(\u001b[0m\u001b[1;34m'\\nSimulation Data:\\n'\u001b[0m\u001b[1;33m,\u001b[0m \u001b[0msimulation_data\u001b[0m\u001b[1;33m)\u001b[0m\u001b[1;33m\u001b[0m\u001b[1;33m\u001b[0m\u001b[0m\n\u001b[0;32m      4\u001b[0m \u001b[0mprint\u001b[0m\u001b[1;33m(\u001b[0m\u001b[1;34m'\\nSimulation Statistics:\\n'\u001b[0m\u001b[1;33m,\u001b[0m \u001b[0msimulation_statistics\u001b[0m\u001b[1;33m)\u001b[0m\u001b[1;33m\u001b[0m\u001b[1;33m\u001b[0m\u001b[0m\n",
      "\u001b[1;32m~\\anaconda3\\lib\\site-packages\\pandas\\core\\series.py\u001b[0m in \u001b[0;36m__getitem__\u001b[1;34m(self, key)\u001b[0m\n\u001b[0;32m    964\u001b[0m             \u001b[1;32mreturn\u001b[0m \u001b[0mself\u001b[0m\u001b[1;33m.\u001b[0m\u001b[0m_get_values\u001b[0m\u001b[1;33m(\u001b[0m\u001b[0mkey\u001b[0m\u001b[1;33m)\u001b[0m\u001b[1;33m\u001b[0m\u001b[1;33m\u001b[0m\u001b[0m\n\u001b[0;32m    965\u001b[0m \u001b[1;33m\u001b[0m\u001b[0m\n\u001b[1;32m--> 966\u001b[1;33m         \u001b[1;32mreturn\u001b[0m \u001b[0mself\u001b[0m\u001b[1;33m.\u001b[0m\u001b[0m_get_with\u001b[0m\u001b[1;33m(\u001b[0m\u001b[0mkey\u001b[0m\u001b[1;33m)\u001b[0m\u001b[1;33m\u001b[0m\u001b[1;33m\u001b[0m\u001b[0m\n\u001b[0m\u001b[0;32m    967\u001b[0m \u001b[1;33m\u001b[0m\u001b[0m\n\u001b[0;32m    968\u001b[0m     \u001b[1;32mdef\u001b[0m \u001b[0m_get_with\u001b[0m\u001b[1;33m(\u001b[0m\u001b[0mself\u001b[0m\u001b[1;33m,\u001b[0m \u001b[0mkey\u001b[0m\u001b[1;33m)\u001b[0m\u001b[1;33m:\u001b[0m\u001b[1;33m\u001b[0m\u001b[1;33m\u001b[0m\u001b[0m\n",
      "\u001b[1;32m~\\anaconda3\\lib\\site-packages\\pandas\\core\\series.py\u001b[0m in \u001b[0;36m_get_with\u001b[1;34m(self, key)\u001b[0m\n\u001b[0;32m   1004\u001b[0m \u001b[1;33m\u001b[0m\u001b[0m\n\u001b[0;32m   1005\u001b[0m         \u001b[1;31m# handle the dup indexing case GH#4246\u001b[0m\u001b[1;33m\u001b[0m\u001b[1;33m\u001b[0m\u001b[0m\n\u001b[1;32m-> 1006\u001b[1;33m         \u001b[1;32mreturn\u001b[0m \u001b[0mself\u001b[0m\u001b[1;33m.\u001b[0m\u001b[0mloc\u001b[0m\u001b[1;33m[\u001b[0m\u001b[0mkey\u001b[0m\u001b[1;33m]\u001b[0m\u001b[1;33m\u001b[0m\u001b[1;33m\u001b[0m\u001b[0m\n\u001b[0m\u001b[0;32m   1007\u001b[0m \u001b[1;33m\u001b[0m\u001b[0m\n\u001b[0;32m   1008\u001b[0m     \u001b[1;32mdef\u001b[0m \u001b[0m_get_values_tuple\u001b[0m\u001b[1;33m(\u001b[0m\u001b[0mself\u001b[0m\u001b[1;33m,\u001b[0m \u001b[0mkey\u001b[0m\u001b[1;33m)\u001b[0m\u001b[1;33m:\u001b[0m\u001b[1;33m\u001b[0m\u001b[1;33m\u001b[0m\u001b[0m\n",
      "\u001b[1;32m~\\anaconda3\\lib\\site-packages\\pandas\\core\\indexing.py\u001b[0m in \u001b[0;36m__getitem__\u001b[1;34m(self, key)\u001b[0m\n\u001b[0;32m    929\u001b[0m \u001b[1;33m\u001b[0m\u001b[0m\n\u001b[0;32m    930\u001b[0m             \u001b[0mmaybe_callable\u001b[0m \u001b[1;33m=\u001b[0m \u001b[0mcom\u001b[0m\u001b[1;33m.\u001b[0m\u001b[0mapply_if_callable\u001b[0m\u001b[1;33m(\u001b[0m\u001b[0mkey\u001b[0m\u001b[1;33m,\u001b[0m \u001b[0mself\u001b[0m\u001b[1;33m.\u001b[0m\u001b[0mobj\u001b[0m\u001b[1;33m)\u001b[0m\u001b[1;33m\u001b[0m\u001b[1;33m\u001b[0m\u001b[0m\n\u001b[1;32m--> 931\u001b[1;33m             \u001b[1;32mreturn\u001b[0m \u001b[0mself\u001b[0m\u001b[1;33m.\u001b[0m\u001b[0m_getitem_axis\u001b[0m\u001b[1;33m(\u001b[0m\u001b[0mmaybe_callable\u001b[0m\u001b[1;33m,\u001b[0m \u001b[0maxis\u001b[0m\u001b[1;33m=\u001b[0m\u001b[0maxis\u001b[0m\u001b[1;33m)\u001b[0m\u001b[1;33m\u001b[0m\u001b[1;33m\u001b[0m\u001b[0m\n\u001b[0m\u001b[0;32m    932\u001b[0m \u001b[1;33m\u001b[0m\u001b[0m\n\u001b[0;32m    933\u001b[0m     \u001b[1;32mdef\u001b[0m \u001b[0m_is_scalar_access\u001b[0m\u001b[1;33m(\u001b[0m\u001b[0mself\u001b[0m\u001b[1;33m,\u001b[0m \u001b[0mkey\u001b[0m\u001b[1;33m:\u001b[0m \u001b[0mtuple\u001b[0m\u001b[1;33m)\u001b[0m\u001b[1;33m:\u001b[0m\u001b[1;33m\u001b[0m\u001b[1;33m\u001b[0m\u001b[0m\n",
      "\u001b[1;32m~\\anaconda3\\lib\\site-packages\\pandas\\core\\indexing.py\u001b[0m in \u001b[0;36m_getitem_axis\u001b[1;34m(self, key, axis)\u001b[0m\n\u001b[0;32m   1151\u001b[0m                     \u001b[1;32mraise\u001b[0m \u001b[0mValueError\u001b[0m\u001b[1;33m(\u001b[0m\u001b[1;34m\"Cannot index with multidimensional key\"\u001b[0m\u001b[1;33m)\u001b[0m\u001b[1;33m\u001b[0m\u001b[1;33m\u001b[0m\u001b[0m\n\u001b[0;32m   1152\u001b[0m \u001b[1;33m\u001b[0m\u001b[0m\n\u001b[1;32m-> 1153\u001b[1;33m                 \u001b[1;32mreturn\u001b[0m \u001b[0mself\u001b[0m\u001b[1;33m.\u001b[0m\u001b[0m_getitem_iterable\u001b[0m\u001b[1;33m(\u001b[0m\u001b[0mkey\u001b[0m\u001b[1;33m,\u001b[0m \u001b[0maxis\u001b[0m\u001b[1;33m=\u001b[0m\u001b[0maxis\u001b[0m\u001b[1;33m)\u001b[0m\u001b[1;33m\u001b[0m\u001b[1;33m\u001b[0m\u001b[0m\n\u001b[0m\u001b[0;32m   1154\u001b[0m \u001b[1;33m\u001b[0m\u001b[0m\n\u001b[0;32m   1155\u001b[0m             \u001b[1;31m# nested tuple slicing\u001b[0m\u001b[1;33m\u001b[0m\u001b[1;33m\u001b[0m\u001b[0m\n",
      "\u001b[1;32m~\\anaconda3\\lib\\site-packages\\pandas\\core\\indexing.py\u001b[0m in \u001b[0;36m_getitem_iterable\u001b[1;34m(self, key, axis)\u001b[0m\n\u001b[0;32m   1091\u001b[0m \u001b[1;33m\u001b[0m\u001b[0m\n\u001b[0;32m   1092\u001b[0m         \u001b[1;31m# A collection of keys\u001b[0m\u001b[1;33m\u001b[0m\u001b[1;33m\u001b[0m\u001b[0m\n\u001b[1;32m-> 1093\u001b[1;33m         \u001b[0mkeyarr\u001b[0m\u001b[1;33m,\u001b[0m \u001b[0mindexer\u001b[0m \u001b[1;33m=\u001b[0m \u001b[0mself\u001b[0m\u001b[1;33m.\u001b[0m\u001b[0m_get_listlike_indexer\u001b[0m\u001b[1;33m(\u001b[0m\u001b[0mkey\u001b[0m\u001b[1;33m,\u001b[0m \u001b[0maxis\u001b[0m\u001b[1;33m)\u001b[0m\u001b[1;33m\u001b[0m\u001b[1;33m\u001b[0m\u001b[0m\n\u001b[0m\u001b[0;32m   1094\u001b[0m         return self.obj._reindex_with_indexers(\n\u001b[0;32m   1095\u001b[0m             \u001b[1;33m{\u001b[0m\u001b[0maxis\u001b[0m\u001b[1;33m:\u001b[0m \u001b[1;33m[\u001b[0m\u001b[0mkeyarr\u001b[0m\u001b[1;33m,\u001b[0m \u001b[0mindexer\u001b[0m\u001b[1;33m]\u001b[0m\u001b[1;33m}\u001b[0m\u001b[1;33m,\u001b[0m \u001b[0mcopy\u001b[0m\u001b[1;33m=\u001b[0m\u001b[1;32mTrue\u001b[0m\u001b[1;33m,\u001b[0m \u001b[0mallow_dups\u001b[0m\u001b[1;33m=\u001b[0m\u001b[1;32mTrue\u001b[0m\u001b[1;33m\u001b[0m\u001b[1;33m\u001b[0m\u001b[0m\n",
      "\u001b[1;32m~\\anaconda3\\lib\\site-packages\\pandas\\core\\indexing.py\u001b[0m in \u001b[0;36m_get_listlike_indexer\u001b[1;34m(self, key, axis)\u001b[0m\n\u001b[0;32m   1312\u001b[0m             \u001b[0mkeyarr\u001b[0m\u001b[1;33m,\u001b[0m \u001b[0mindexer\u001b[0m\u001b[1;33m,\u001b[0m \u001b[0mnew_indexer\u001b[0m \u001b[1;33m=\u001b[0m \u001b[0max\u001b[0m\u001b[1;33m.\u001b[0m\u001b[0m_reindex_non_unique\u001b[0m\u001b[1;33m(\u001b[0m\u001b[0mkeyarr\u001b[0m\u001b[1;33m)\u001b[0m\u001b[1;33m\u001b[0m\u001b[1;33m\u001b[0m\u001b[0m\n\u001b[0;32m   1313\u001b[0m \u001b[1;33m\u001b[0m\u001b[0m\n\u001b[1;32m-> 1314\u001b[1;33m         \u001b[0mself\u001b[0m\u001b[1;33m.\u001b[0m\u001b[0m_validate_read_indexer\u001b[0m\u001b[1;33m(\u001b[0m\u001b[0mkeyarr\u001b[0m\u001b[1;33m,\u001b[0m \u001b[0mindexer\u001b[0m\u001b[1;33m,\u001b[0m \u001b[0maxis\u001b[0m\u001b[1;33m)\u001b[0m\u001b[1;33m\u001b[0m\u001b[1;33m\u001b[0m\u001b[0m\n\u001b[0m\u001b[0;32m   1315\u001b[0m \u001b[1;33m\u001b[0m\u001b[0m\n\u001b[0;32m   1316\u001b[0m         if needs_i8_conversion(ax.dtype) or isinstance(\n",
      "\u001b[1;32m~\\anaconda3\\lib\\site-packages\\pandas\\core\\indexing.py\u001b[0m in \u001b[0;36m_validate_read_indexer\u001b[1;34m(self, key, indexer, axis)\u001b[0m\n\u001b[0;32m   1372\u001b[0m                 \u001b[1;32mif\u001b[0m \u001b[0muse_interval_msg\u001b[0m\u001b[1;33m:\u001b[0m\u001b[1;33m\u001b[0m\u001b[1;33m\u001b[0m\u001b[0m\n\u001b[0;32m   1373\u001b[0m                     \u001b[0mkey\u001b[0m \u001b[1;33m=\u001b[0m \u001b[0mlist\u001b[0m\u001b[1;33m(\u001b[0m\u001b[0mkey\u001b[0m\u001b[1;33m)\u001b[0m\u001b[1;33m\u001b[0m\u001b[1;33m\u001b[0m\u001b[0m\n\u001b[1;32m-> 1374\u001b[1;33m                 \u001b[1;32mraise\u001b[0m \u001b[0mKeyError\u001b[0m\u001b[1;33m(\u001b[0m\u001b[1;34mf\"None of [{key}] are in the [{axis_name}]\"\u001b[0m\u001b[1;33m)\u001b[0m\u001b[1;33m\u001b[0m\u001b[1;33m\u001b[0m\u001b[0m\n\u001b[0m\u001b[0;32m   1375\u001b[0m \u001b[1;33m\u001b[0m\u001b[0m\n\u001b[0;32m   1376\u001b[0m             \u001b[0mnot_found\u001b[0m \u001b[1;33m=\u001b[0m \u001b[0mlist\u001b[0m\u001b[1;33m(\u001b[0m\u001b[0mensure_index\u001b[0m\u001b[1;33m(\u001b[0m\u001b[0mkey\u001b[0m\u001b[1;33m)\u001b[0m\u001b[1;33m[\u001b[0m\u001b[0mmissing_mask\u001b[0m\u001b[1;33m.\u001b[0m\u001b[0mnonzero\u001b[0m\u001b[1;33m(\u001b[0m\u001b[1;33m)\u001b[0m\u001b[1;33m[\u001b[0m\u001b[1;36m0\u001b[0m\u001b[1;33m]\u001b[0m\u001b[1;33m]\u001b[0m\u001b[1;33m.\u001b[0m\u001b[0munique\u001b[0m\u001b[1;33m(\u001b[0m\u001b[1;33m)\u001b[0m\u001b[1;33m)\u001b[0m\u001b[1;33m\u001b[0m\u001b[1;33m\u001b[0m\u001b[0m\n",
      "\u001b[1;31mKeyError\u001b[0m: \"None of [Index(['Close'], dtype='object', name='Date')] are in the [index]\""
     ]
    }
   ],
   "source": [
    "simulation_data, simulation_statistics, simulation_graph = \\\n",
    "macd.getTiSimulation(close_values=df[['Close']], max_exposure=None,short_exposure_factor=1.5)\n",
    "print('\\nSimulation Data:\\n', simulation_data)\n",
    "print('\\nSimulation Statistics:\\n', simulation_statistics)"
   ]
  },
  {
   "cell_type": "code",
   "execution_count": 32,
   "metadata": {},
   "outputs": [],
   "source": [
    "def pmv(close,signal):\n",
    "\t\"\"\"\n",
    "\t\tLa Plus-ou-moins-value\n",
    "\t\"\"\"\n",
    "\tclose=np.array(close)\n",
    "\tsignal=np.array(signal.fillna(0))\n",
    "\tqt=signal.cumsum()\n",
    "\tachat= np.where(signal>=1,1,0)\n",
    "\tPDR=[]\n",
    "\tfor t in range(len(close)):\n",
    "\t\tp=(close[:t+1]*achat[:t+1]).sum()\n",
    "\t\tif achat[:t+1].sum()==0 :\n",
    "\t\t\tval=0\n",
    "\t\telse :\n",
    "\t\t\tp=p/(achat[:t+1].sum())\n",
    "\t\t\tval=qt[t]*p \n",
    "\t\tPDR.append(val)\n",
    "\tPMV_lat=close*qt-PDR\n",
    "\tPMV_re=[0]\n",
    "\tfor i in range(1,len(close)):\n",
    "\t\tvl=PDR[i]-PDR[i-1]+PMV_re[i-1]-close[i]*signal[i]\n",
    "\t\tPMV_re.append(vl)\n",
    "\tPMV=PMV_lat+PMV_re\n",
    "\treturn PMV"
   ]
  },
  {
   "cell_type": "code",
   "execution_count": 33,
   "metadata": {},
   "outputs": [],
   "source": [
    "def adjustsignal(signal):\n",
    "\tsig=[]\n",
    "\tqtite=0\n",
    "\tfor i in signal:\n",
    "\t\tif i > 0 :\n",
    "\t\t\tsig.append(i)\n",
    "\t\t\tqtite+=1\n",
    "\t\telif i < 0:\n",
    "\t\t\tif qtite >= abs(i) :\n",
    "\t\t\t\tsig.append(i)\n",
    "\t\t\t\tqtite+=-i\n",
    "\t\t\telse:\n",
    "\t\t\t\tsig.append(0)\n",
    "\t\telse:\n",
    "\t\t\tsig.append(0)\n",
    "\treturn sig"
   ]
  },
  {
   "cell_type": "code",
   "execution_count": null,
   "metadata": {},
   "outputs": [],
   "source": [
    "def obj_macd(wl):\n",
    " macd.calculateTi(df,wl,ws)[\"macd\"]\n",
    " wl=int(wl[1])\n",
    " ws=int(ws[0])\n",
    " print(\"tf\")\t\n",
    "if wl > ws :\n",
    "\tws,wl=wl,ws\n",
    "\tsignal=pd.DataFrame(index=df.index)\n",
    "\tMACD=macd.calculateTi(df,wl,ws)[\"macd\"]\n",
    "\tsignal[\"compa\"]=np.nan\n",
    "\tsignal[\"compa\"][wl:]=np.where(MACD[wl:]>0 ,1 ,0)\n",
    "\tsignal[\"signal\"]=adjustsignal(signal[\"compa\"].diff())\n",
    "\tcours=df*(1+taux*signal[\"signal\"])\n",
    "\tpmval=pmv(cours,signal[\"signal\"])\n",
    "return pmval.max()\n",
    "\t"
   ]
  },
  {
   "cell_type": "code",
   "execution_count": null,
   "metadata": {},
   "outputs": [],
   "source": [
    "def obj_macd2(n):\n",
    "    macd = MovingAverageConvergenceDivergence(input_data=df)\n",
    "\tws=int(n[0])\n",
    "\twl=int(n[1])\n",
    "\tif ws > wl :\n",
    "\t\tws,wl=wl,ws\n",
    "\t    signal=pd.DataFrame(index=df.index)\n",
    "\t    signal[\"compa\"]=np.nan\n",
    "        macd.calculateTi(df,wl,ws)[[\"macd\",\"signal_line\"]]\n",
    "\t    signal[\"compa\"][wl:]=np.where(MACD[\"MACD\"][wl:] > MACD[\"MACDsignal\"][wl:] ,1 ,0 )\n",
    "\t    signal[\"signal\"]=adjustsignal(signal[\"compa\"].diff())\n",
    "\t    cours=df*(1+taux*signal[\"signal\"])\n",
    "\t    pmval=at.pmv(cours,signal[\"signal\"])\n",
    "\t    return pmval.max(),"
   ]
  },
  {
   "cell_type": "code",
   "execution_count": null,
   "metadata": {
    "pycharm": {
     "name": "#%%\n"
    }
   },
   "outputs": [],
   "source": [
    "def obj_mms(n):\n",
    "    n=int(n[0])\n",
    "    signal=pd.DataFrame(index=df.index)\n",
    "    signal['signal']=0\n",
    "    signal[\"compa\"]=0\n",
    "    MMS=at.mms(df,n)[\"MMS\"]\n",
    "    signal[\"compa\"].loc[n:]=np.where(df[n:] > MMS[n:],1,0)\n",
    "    signal[\"signal\"]=at.adjustsignal(signal[\"compa\"].diff())\n",
    "    cours=df*(1+taux*signal[\"signal\"])\n",
    "    pmval=at.pmv(cours,signal[\"signal\"])\n",
    "    pmval=pd.Series(pmval,index=df.index)\n",
    "    return pmval.max(), "
   ]
  },
  {
   "cell_type": "code",
   "execution_count": null,
   "metadata": {
    "pycharm": {
     "name": "#%%\n"
    }
   },
   "outputs": [],
   "source": [
    "GeneticAlgo(1,obj_mms,10,5,100)"
   ]
  },
  {
   "cell_type": "markdown",
   "metadata": {
    "pycharm": {
     "name": "#%% md\n"
    }
   },
   "source": [
    "## MMS2"
   ]
  },
  {
   "cell_type": "code",
   "execution_count": null,
   "metadata": {
    "pycharm": {
     "name": "#%%\n"
    }
   },
   "outputs": [],
   "source": []
  },
  {
   "cell_type": "code",
   "execution_count": null,
   "metadata": {
    "pycharm": {
     "name": "#%%\n"
    }
   },
   "outputs": [],
   "source": [
    "def obj_mms2(n):\n",
    "\tws=int(n[0])\n",
    "\twl=int(n[1])\n",
    "\tif ws > wl :\n",
    "\t\tws,wl=wl,ws\n",
    "\tsignal=pd.DataFrame(index=df.index)\n",
    "\tsignal['compa']=np.nan\n",
    "\tsignal[\"MMS_COURT\"]=Techni.mms(df,ws)[\"MMS\"]\n",
    "\tsignal[\"MMS_LONG\"]=at.mms(df,wl)[\"MMS\"]\n",
    "\tsignal[\"compa\"].loc[wl:]=np.where(signal[\"MMS_COURT\"][wl:] > signal[\"MMS_LONG\"][wl:],1,0)\n",
    "\tsignal[\"signal\"]=at.adjustsignal(signal[\"compa\"].diff())\n",
    "\tcours=df*(1+taux*signal[\"signal\"])\n",
    "\tpmval=at.pmv(cours,signal[\"signal\"])\n",
    "\treturn pmval.max(),"
   ]
  },
  {
   "cell_type": "code",
   "execution_count": null,
   "metadata": {
    "pycharm": {
     "name": "#%%\n"
    }
   },
   "outputs": [],
   "source": [
    "GeneticAlgo(2,obj_mms2,6,5,50)"
   ]
  },
  {
   "cell_type": "markdown",
   "metadata": {
    "pycharm": {
     "name": "#%% md\n"
    }
   },
   "source": [
    "## MACD1"
   ]
  },
  {
   "cell_type": "code",
   "execution_count": null,
   "metadata": {
    "pycharm": {
     "name": "#%%\n"
    }
   },
   "outputs": [],
   "source": [
    "def obj_macd1(n):\n",
    "\tws=int(n[0])\n",
    "\twl=int(n[1])\n",
    "\tif ws > wl :\n",
    "\t\tws,wl=wl,ws\n",
    "\tsignal=pd.DataFrame(index=df.index)\n",
    "\tMACD=at.macd(df,ws,wl)[\"MACD\"]\n",
    "\tsignal[\"compa\"]=np.nan\n",
    "\tsignal[\"compa\"][wl:]=np.where(MACD[wl:]>0 ,1 ,0)\n",
    "\tsignal[\"signal\"]=at.adjustsignal(signal[\"compa\"].diff())\n",
    "\tcours=df*(1+taux*signal[\"signal\"])\n",
    "\tpmval=at.pmv(cours,signal[\"signal\"])\n",
    "\treturn pmval.max(),"
   ]
  },
  {
   "cell_type": "code",
   "execution_count": null,
   "metadata": {
    "pycharm": {
     "name": "#%%\n"
    }
   },
   "outputs": [],
   "source": [
    "GeneticAlgo(2,obj_macd1,6,10,60)"
   ]
  },
  {
   "cell_type": "markdown",
   "metadata": {
    "pycharm": {
     "name": "#%% md\n"
    }
   },
   "source": [
    "## MACD2"
   ]
  },
  {
   "cell_type": "code",
   "execution_count": null,
   "metadata": {
    "pycharm": {
     "name": "#%%\n"
    }
   },
   "outputs": [],
   "source": [
    "from _technical_indicator import TechnicalIndicator"
   ]
  },
  {
   "cell_type": "code",
   "execution_count": null,
   "metadata": {
    "pycharm": {
     "name": "#%%\n"
    }
   },
   "outputs": [],
   "source": [
    "\n",
    "import MACD\n",
    "from MACD import *"
   ]
  },
  {
   "cell_type": "code",
   "execution_count": null,
   "metadata": {
    "pycharm": {
     "name": "#%%\n"
    }
   },
   "outputs": [],
   "source": [
    "from MACD import *\n",
    "def obj_macd2(n):\n",
    "\tws=int(n[0])\n",
    "\twl=int(n[1])\n",
    "\tif ws > wl :\n",
    "\t\tws,wl=wl,ws\n",
    "\t\tsignal=pd.DataFrame(index=df.index)\n",
    "\t\tMACD=_calculateTi(df,ws,wl)[[\"macd\",\"signal\"]]\n",
    "\t\t\n",
    "\t\tsignal[\"compa\"][wl:]=np.where(MACD[\"MACD\"][wl:] > MACD[\"MACDsignal\"][wl:] ,1 ,0 )\n",
    "\t    signal[\"signal\"]=adjustsignal(signal[\"compa\"].diff())\n",
    "\t    cours=df*(1+taux*signal[\"signal\"])\n",
    "\t    pmval=pmv(cours,signal[\"signal\"])\n",
    "\t    return pmval.max(),"
   ]
  },
  {
   "cell_type": "code",
   "execution_count": null,
   "metadata": {
    "pycharm": {
     "name": "#%%\n"
    }
   },
   "outputs": [],
   "source": [
    "def obj_macd2(n):\n",
    "\tws=int(n[0])\n",
    "\twl=int(n[1])\n",
    "\tif ws > wl :\n",
    "\t\tws,wl=wl,ws\n",
    "\tsignal=pd.DataFrame(index=df.index)\n",
    "\tsignal[\"compa\"]=np.nan\n",
    "\tMACD=at.macd(df,ws,wl)[[\"MACD\",\"MACDsignal\"]]\n",
    "\tsignal[\"compa\"][wl:]=np.where(MACD[\"MACD\"][wl:] > MACD[\"MACDsignal\"][wl:] ,1 ,0 )\n",
    "\tsignal[\"signal\"]=at.adjustsignal(signal[\"compa\"].diff())\n",
    "\tcours=df*(1+taux*signal[\"signal\"])\n",
    "\tpmval=at.pmv(cours,signal[\"signal\"])\n",
    "\treturn pmval.max(),"
   ]
  },
  {
   "cell_type": "code",
   "execution_count": null,
   "metadata": {
    "pycharm": {
     "name": "#%%\n"
    }
   },
   "outputs": [],
   "source": [
    "GeneticAlgo(2,obj_macd2,10,12,40)"
   ]
  },
  {
   "cell_type": "markdown",
   "metadata": {
    "pycharm": {
     "name": "#%% md\n"
    }
   },
   "source": [
    "## Bollinger "
   ]
  },
  {
   "cell_type": "code",
   "execution_count": null,
   "metadata": {
    "pycharm": {
     "name": "#%%\n"
    }
   },
   "outputs": [],
   "source": [
    "def obj_bollinger(n):\n",
    "\tglobal k \n",
    "\tn=int(n[0])\n",
    "\tsignal=pd.DataFrame(index=df.index)\n",
    "\tsignal[\"compa\"]=np.nan\n",
    "\tsignal[\"compa2\"]=np.nan\n",
    "\tbb=at.bollinger(df,n,k)[[\"BBDOWN\",\"BBUP\"]]\n",
    "\tsignal[\"compa\"][n:] = np.where( (df[n:] > bb[\"BBUP\"][n:] ) ,1,0)\n",
    "\tsignal[\"compa2\"][n:] = np.where( (df[n:] < bb[\"BBDOWN\"][n:] ) ,4,2)\n",
    "\tsignal[\"signal\"]=signal[\"compa\"].diff()\n",
    "\tsignal[\"signal2\"]=signal[\"compa2\"].diff()\n",
    "\tsig=np.where(signal[\"signal\"]==1,-1,0)+np.where(signal[\"signal2\"]==2,1,0)\n",
    "\tsig=at.adjustsignal(sig)\n",
    "\tsig=pd.Series(sig, index=df.index)\n",
    "\tcours=df*(1+taux*sig)\n",
    "\tpmval=at.pmv(cours,sig)\n",
    "\treturn pmval.max(),"
   ]
  },
  {
   "cell_type": "code",
   "execution_count": null,
   "metadata": {
    "pycharm": {
     "name": "#%%\n"
    }
   },
   "outputs": [],
   "source": [
    "k=2\n",
    "GeneticAlgo(1,obj_bollinger,10,18,35)"
   ]
  },
  {
   "cell_type": "code",
   "execution_count": null,
   "metadata": {
    "pycharm": {
     "name": "#%%\n"
    }
   },
   "outputs": [],
   "source": [
    "k=2.5\n",
    "GeneticAlgo(1,obj_bollinger,5,20,60)"
   ]
  },
  {
   "cell_type": "code",
   "execution_count": null,
   "metadata": {
    "pycharm": {
     "name": "#%%\n"
    }
   },
   "outputs": [],
   "source": [
    "k=3 \n",
    "GeneticAlgo(1,obj_bollinger,5,20,60)"
   ]
  },
  {
   "cell_type": "markdown",
   "metadata": {
    "pycharm": {
     "name": "#%% md\n"
    }
   },
   "source": [
    "## RSI"
   ]
  },
  {
   "cell_type": "code",
   "execution_count": null,
   "metadata": {
    "pycharm": {
     "name": "#%%\n"
    }
   },
   "outputs": [],
   "source": [
    "def  obj_rsi(n):\n",
    "\tglobal haut\n",
    "\tglobal bas\n",
    "\tn=int(n[0])\n",
    "\tsignal=pd.DataFrame(index=df.index)\n",
    "\trs=at.rsi(df,n)[\"RSI\"]\n",
    "\tsignal[\"compa_achat\"]=np.nan\n",
    "\tsignal[\"compa_vente\"]=np.nan\n",
    "\tsignal[\"compa_achat\"][n:]=np.where(rs[n:] > bas,1,0)\n",
    "\tsignal[\"signal_achat\"]=signal[\"compa_achat\"].diff()\n",
    "\tsignal[\"compa_vente\"][n:]=np.where(rs[n:] < haut,4,2)\n",
    "\tsignal[\"signal_vente\"]=signal[\"compa_vente\"].diff()\n",
    "\tsig=np.where(signal[\"signal_achat\"]==1,1,0)+np.where(signal[\"signal_vente\"]==2,-1,0)\n",
    "\tsig=at.adjustsignal(sig)\n",
    "\tsig=pd.Series(sig, index=df.index)\n",
    "\tcours=df*(1+taux*sig)\n",
    "\tpmval=at.pmv(cours,sig)\n",
    "\treturn pmval.max(),"
   ]
  },
  {
   "cell_type": "code",
   "execution_count": null,
   "metadata": {
    "pycharm": {
     "name": "#%%\n"
    }
   },
   "outputs": [],
   "source": [
    "haut,bas=0.7,0.3\n",
    "GeneticAlgo(1,obj_rsi,5,13,30)"
   ]
  },
  {
   "cell_type": "code",
   "execution_count": null,
   "metadata": {
    "pycharm": {
     "name": "#%%\n"
    }
   },
   "outputs": [],
   "source": [
    "haut,bas=0.75,0.25\n",
    "GeneticAlgo(1,obj_rsi,5,13,30)"
   ]
  },
  {
   "cell_type": "code",
   "execution_count": null,
   "metadata": {
    "pycharm": {
     "name": "#%%\n"
    }
   },
   "outputs": [],
   "source": [
    "haut,bas=0.8,0.20\n",
    "GeneticAlgo(1,obj_rsi,5,13,30)"
   ]
  },
  {
   "cell_type": "code",
   "execution_count": null,
   "metadata": {
    "pycharm": {
     "name": "#%%\n"
    }
   },
   "outputs": [],
   "source": [
    "haut,bas=0.85,0.15\n",
    "GeneticAlgo(1,obj_rsi,6,13,30)"
   ]
  },
  {
   "cell_type": "code",
   "execution_count": null,
   "metadata": {
    "pycharm": {
     "name": "#%%\n"
    }
   },
   "outputs": [],
   "source": [
    "haut,bas=0.9,0.1\n",
    "GeneticAlgo(1,obj_rsi,6,13,30)"
   ]
  },
  {
   "cell_type": "markdown",
   "metadata": {
    "pycharm": {
     "name": "#%% md\n"
    }
   },
   "source": [
    "## Stochastique 1 "
   ]
  },
  {
   "cell_type": "code",
   "execution_count": null,
   "metadata": {
    "pycharm": {
     "name": "#%%\n"
    }
   },
   "outputs": [],
   "source": [
    "df1=data[\"COURS_CLOTURE\"].loc[\"2008-01-01\":]\n",
    "high1=data[\"COURS_PLUS_HAUT\"].loc[\"2008-01-01\":]\n",
    "low1=data[\"COURS_PLUS_BAS\"].loc[\"2008-01-01\":]\n",
    "vol1=data[\"Volume_Marche_Bloc\"].loc[\"2008-01-01\":] + data[\"Volume_Marche_Central\"].loc[\"2008-01-01\":]"
   ]
  },
  {
   "cell_type": "code",
   "execution_count": null,
   "metadata": {
    "pycharm": {
     "name": "#%%\n"
    }
   },
   "outputs": [],
   "source": [
    "def obj_stochastique1(n):\n",
    "\tglobal haut\n",
    "\tglobal bas\n",
    "\tn=int(n[0])\n",
    "\tsignal=pd.DataFrame(index=df1.index)\n",
    "\tk=at.stochastique(df1 ,high1,low1, n , 3)[\"%K\"]\n",
    "\tsignal[\"compa_achat\"]=np.nan\n",
    "\tsignal[\"compa_vente\"]=np.nan\n",
    "\tsignal[\"compa_achat\"][n:]=np.where(k[n:] > bas,1,0)\n",
    "\tsignal[\"signal_achat\"]=signal[\"compa_achat\"].diff()\n",
    "\tsignal[\"compa_vente\"][n:]=np.where(k[n:] < haut,4,2)\n",
    "\tsignal[\"signal_vente\"]=signal[\"compa_vente\"].diff()\n",
    "\tsig=np.where(signal[\"signal_achat\"]==1,1,0)+np.where(signal[\"signal_vente\"]==2,-1,0)\n",
    "\tsig=at.adjustsignal(sig)\n",
    "\tsig=pd.Series(sig, index=df1.index)\n",
    "\tcours=df1*(1+taux*sig)\n",
    "\tpmval=at.pmv(cours,sig)\n",
    "\treturn pmval.max(),"
   ]
  },
  {
   "cell_type": "code",
   "execution_count": null,
   "metadata": {
    "pycharm": {
     "name": "#%%\n"
    },
    "scrolled": true
   },
   "outputs": [],
   "source": [
    "haut,bas=70,30\n",
    "GeneticAlgo(1,obj_stochastique1,10,12,30)"
   ]
  },
  {
   "cell_type": "code",
   "execution_count": null,
   "metadata": {
    "pycharm": {
     "name": "#%%\n"
    }
   },
   "outputs": [],
   "source": [
    "haut,bas=75,25\n",
    "GeneticAlgo(1,obj_stochastique1,6,12,30)"
   ]
  },
  {
   "cell_type": "code",
   "execution_count": null,
   "metadata": {
    "pycharm": {
     "name": "#%%\n"
    }
   },
   "outputs": [],
   "source": [
    "haut,bas=80,20\n",
    "GeneticAlgo(1,obj_stochastique1,6,12,30)"
   ]
  },
  {
   "cell_type": "code",
   "execution_count": null,
   "metadata": {
    "pycharm": {
     "name": "#%%\n"
    }
   },
   "outputs": [],
   "source": [
    "haut,bas=85,15\n",
    "GeneticAlgo(1,obj_stochastique1,6,12,30)"
   ]
  },
  {
   "cell_type": "code",
   "execution_count": null,
   "metadata": {
    "pycharm": {
     "name": "#%%\n"
    }
   },
   "outputs": [],
   "source": [
    "haut,bas=90,10\n",
    "GeneticAlgo(1,obj_stochastique1,6,12,30)"
   ]
  },
  {
   "cell_type": "markdown",
   "metadata": {
    "pycharm": {
     "name": "#%% md\n"
    }
   },
   "source": [
    "## Stochastique 2"
   ]
  },
  {
   "cell_type": "code",
   "execution_count": null,
   "metadata": {
    "pycharm": {
     "name": "#%%\n"
    }
   },
   "outputs": [],
   "source": [
    "def obj_stochastique2(n ):\n",
    "\tn.sort()\n",
    "\tw=int(n[0])\n",
    "\tn=int(n[1])\n",
    "\tsignal=pd.DataFrame(index=df1.index)\n",
    "\tk=at.stochastique(df1 ,high1,low1, n , w)[[\"%K\",\"%D\"]]\n",
    "\tsignal[\"compa\"]=np.nan\n",
    "\tsignal[\"compa\"][n+w :]=np.where(k[\"%K\"][n+w:] > k[\"%D\"][n+w:],1,0)\n",
    "\tsignal[\"signal\"]=at.adjustsignal(signal[\"compa\"].diff())\n",
    "\tcours=df1*(1+taux*signal[\"signal\"])\n",
    "\tpmval=at.pmv(cours,signal[\"signal\"])\n",
    "\treturn pmval.max(),"
   ]
  },
  {
   "cell_type": "code",
   "execution_count": null,
   "metadata": {
    "pycharm": {
     "name": "#%%\n"
    }
   },
   "outputs": [],
   "source": [
    "GeneticAlgo(2,obj_stochastique2,6,3,30)"
   ]
  },
  {
   "cell_type": "markdown",
   "metadata": {
    "pycharm": {
     "name": "#%% md\n"
    }
   },
   "source": [
    "## OBV"
   ]
  },
  {
   "cell_type": "code",
   "execution_count": null,
   "metadata": {
    "pycharm": {
     "name": "#%%\n"
    }
   },
   "outputs": [],
   "source": [
    "def obj_obv(n):\n",
    "\tn=int(n[0])\n",
    "\tsignal=pd.DataFrame(index=df.index)\n",
    "\tob=at.obv(df,vol)[\"OBV\"]\n",
    "\tobs=pd.Series(ob.rolling(n).mean(), name='obvsignal')\n",
    "\tsignal[\"compa\"]=np.nan \n",
    "\tsignal[\"compa\"][n:]=np.where( ob[n:]  > obs[n:],1,0)\n",
    "\tsignal[\"signal\"]=at.adjustsignal(signal[\"compa\"].diff())\n",
    "\tcours=df*(1+taux*signal[\"signal\"])\n",
    "\tpmval=at.pmv(cours,signal[\"signal\"])\n",
    "\treturn pmval.max(),"
   ]
  },
  {
   "cell_type": "code",
   "execution_count": null,
   "metadata": {
    "pycharm": {
     "name": "#%%\n"
    }
   },
   "outputs": [],
   "source": [
    "GeneticAlgo(1,obj_obv,6,10,100)"
   ]
  },
  {
   "cell_type": "markdown",
   "metadata": {
    "pycharm": {
     "name": "#%% md\n"
    }
   },
   "source": [
    "## ROC"
   ]
  },
  {
   "cell_type": "code",
   "execution_count": null,
   "metadata": {
    "pycharm": {
     "name": "#%%\n"
    }
   },
   "outputs": [],
   "source": [
    "def obj_roc(n):\n",
    "\tw=int(n[0])\n",
    "\tsignal=pd.DataFrame(index=df.index)\n",
    "\troc=at.rate_of_change(df,w)[\"ROC\"]\n",
    "\tsignal[\"compa\"]=np.nan\n",
    "\tsignal[\"compa\"][w:]=np.where( roc[w:]> 0,1,0)\n",
    "\tsignal[\"signal\"]=at.adjustsignal(signal[\"compa\"].diff())\n",
    "\tcours=df*(1+taux*signal[\"signal\"])\n",
    "\tpmval=at.pmv(cours,signal[\"signal\"])\n",
    "\treturn pmval.max(),"
   ]
  },
  {
   "cell_type": "code",
   "execution_count": null,
   "metadata": {
    "pycharm": {
     "name": "#%%\n"
    }
   },
   "outputs": [],
   "source": [
    "GeneticAlgo(1,obj_roc,10,10,30)"
   ]
  },
  {
   "cell_type": "markdown",
   "metadata": {
    "pycharm": {
     "name": "#%% md\n"
    }
   },
   "source": [
    "## MFI"
   ]
  },
  {
   "cell_type": "code",
   "execution_count": null,
   "metadata": {
    "pycharm": {
     "name": "#%%\n"
    }
   },
   "outputs": [],
   "source": [
    "def obj_mfi(n):\n",
    "\tglobal haut\n",
    "\tglobal bas\n",
    "\tn=int(n[0])\n",
    "\tsignal=pd.DataFrame(index=df1.index)\n",
    "\tmfi=at.MFI(df1,vol1,high1,low1,n)['MFI']\n",
    "\tsignal[\"compa_achat\"]=np.nan\n",
    "\tsignal[\"compa_vente\"]=np.nan\n",
    "\tsignal[\"compa_achat\"][n:]=np.where(mfi[n:] > bas,1,0)\n",
    "\tsignal[\"signal_achat\"]=signal[\"compa_achat\"].diff()\n",
    "\tsignal[\"compa_vente\"][n:]=np.where(mfi[n:] < haut,4,2)\n",
    "\tsignal[\"signal_vente\"]=signal[\"compa_vente\"].diff()\n",
    "\tsig=np.where(signal[\"signal_achat\"]==1,1,0)+np.where(signal[\"signal_vente\"]==2,-1,0)\n",
    "\tsig=at.adjustsignal(sig)\n",
    "\tsig=pd.Series(sig, index=df1.index)\n",
    "\tcours=df1*(1+taux*sig)\n",
    "\tpmval=at.pmv(cours,sig)\n",
    "\treturn pmval.max(),"
   ]
  },
  {
   "cell_type": "code",
   "execution_count": null,
   "metadata": {
    "pycharm": {
     "name": "#%%\n"
    }
   },
   "outputs": [],
   "source": [
    "haut,bas=80,20\n",
    "GeneticAlgo(1,obj_mfi,6,10,30)"
   ]
  },
  {
   "cell_type": "code",
   "execution_count": null,
   "metadata": {
    "pycharm": {
     "name": "#%%\n"
    }
   },
   "outputs": [],
   "source": [
    "haut,bas=70,30\n",
    "GeneticAlgo(1,obj_mfi,6,10,30)"
   ]
  },
  {
   "cell_type": "markdown",
   "metadata": {
    "pycharm": {
     "name": "#%% md\n"
    }
   },
   "source": [
    "## CHO"
   ]
  },
  {
   "cell_type": "code",
   "execution_count": null,
   "metadata": {
    "pycharm": {
     "name": "#%%\n"
    }
   },
   "outputs": [],
   "source": [
    "def obj_cho(ind):\n",
    "\tind.sort()\n",
    "\tws=int(ind[0])\n",
    "\twl=int(ind[1])\n",
    "\tn=int(ind[2])\n",
    "\tsignal=pd.DataFrame(index=df1.index)\n",
    "\tsignal[\"compa\"]=np.nan \n",
    "\tch=at.cho(df1,vol1,high1,low1,n,ws,wl)[\"CHO\"]\n",
    "\tsignal[\"compa\"][ws+wl:]=np.where(ch[ws+wl:] > 0, 1,0)\n",
    "\tsignal[\"signal\"]=at.adjustsignal(signal[\"compa\"].diff())\n",
    "\tcours=df1*(1+taux*signal[\"signal\"])\n",
    "\tpmval=at.pmv(cours,signal[\"signal\"])\n",
    "\treturn pmval.max(),"
   ]
  },
  {
   "cell_type": "code",
   "execution_count": null,
   "metadata": {
    "pycharm": {
     "name": "#%%\n"
    }
   },
   "outputs": [],
   "source": [
    "GeneticAlgo(3,obj_cho,10,3,30)"
   ]
  },
  {
   "cell_type": "markdown",
   "metadata": {
    "pycharm": {
     "name": "#%% md\n"
    }
   },
   "source": [
    "## NVI"
   ]
  },
  {
   "cell_type": "code",
   "execution_count": null,
   "metadata": {
    "pycharm": {
     "name": "#%%\n"
    }
   },
   "outputs": [],
   "source": [
    "def obj_nvi(n):\n",
    "\tn=int(n[0])\n",
    "\tsignal=pd.DataFrame(index=df.index)\n",
    "\tsignal[\"compa\"]=np.nan \n",
    "\tnv=at.nvi(df,vol)\n",
    "\tnvis=pd.Series(nv.rolling(n).mean(), name=\"NVIsignal\")\n",
    "\tsignal[\"compa\"][n:]=np.where(nv[n:] > nvis[n:] ,1,0)\n",
    "\tsignal[\"signal\"]=at.adjustsignal(signal[\"compa\"].diff())\n",
    "\tcours=df*(1+taux*signal[\"signal\"])\n",
    "\tpmval=at.pmv(cours,signal[\"signal\"])\n",
    "\treturn pmval.max(),"
   ]
  },
  {
   "cell_type": "code",
   "execution_count": null,
   "metadata": {
    "pycharm": {
     "name": "#%%\n"
    }
   },
   "outputs": [],
   "source": [
    "GeneticAlgo(1,obj_nvi,5,8,50)"
   ]
  },
  {
   "cell_type": "markdown",
   "metadata": {
    "pycharm": {
     "name": "#%% md\n"
    }
   },
   "source": [
    "## PVI"
   ]
  },
  {
   "cell_type": "code",
   "execution_count": null,
   "metadata": {
    "pycharm": {
     "name": "#%%\n"
    }
   },
   "outputs": [],
   "source": [
    "def obj_pvi(n):\n",
    "\tn=int(n[0])\n",
    "\tsignal=pd.DataFrame(index=df.index)\n",
    "\tsignal[\"compa\"]=np.nan \n",
    "\tpv=at.pvi(df,vol)\n",
    "\tpvis=pd.Series(pv.rolling(n).mean(), name=\"NVIsignal\")\n",
    "\tsignal[\"compa\"][n:]=np.where(pv[n:] > pvis[n:] ,1,0)\n",
    "\tsignal[\"signal\"]=at.adjustsignal(signal[\"compa\"].diff())\n",
    "\tcours=df*(1+taux*signal[\"signal\"])\n",
    "\tpmval=at.pmv(cours,signal[\"signal\"])\n",
    "\treturn pmval.max(),"
   ]
  },
  {
   "cell_type": "code",
   "execution_count": null,
   "metadata": {
    "pycharm": {
     "name": "#%%\n"
    }
   },
   "outputs": [],
   "source": [
    "GeneticAlgo(1,obj_pvi,5,8,50)"
   ]
  },
  {
   "cell_type": "code",
   "execution_count": null,
   "metadata": {
    "pycharm": {
     "name": "#%%\n"
    }
   },
   "outputs": [],
   "source": [
    "## Momentum "
   ]
  },
  {
   "cell_type": "code",
   "execution_count": null,
   "metadata": {
    "pycharm": {
     "name": "#%%\n"
    }
   },
   "outputs": [],
   "source": [
    "def obj_momentum(n):\n",
    "\tw=int(n[0])\n",
    "\tMOM=at.momentum(df,w,wsig=9)[[\"MOM\",\"MOMsignal\"]]\n",
    "\tsignal=pd.DataFrame(index=df.index)\n",
    "\tsignal[\"compa\"]=np.nan\n",
    "\tsignal[\"compa\"][w:]=np.where(MOM[\"MOM\"][w:] > MOM[\"MOMsignal\"][w:],1,0)\n",
    "\tsignal[\"signal\"]=at.adjustsignal(signal[\"compa\"].diff())\n",
    "\tcours=df*(1+taux*signal[\"signal\"])\n",
    "\tpmval=at.pmv(cours,signal[\"signal\"])\n",
    "\treturn pmval.max(),"
   ]
  },
  {
   "cell_type": "code",
   "execution_count": null,
   "metadata": {
    "pycharm": {
     "name": "#%%\n"
    }
   },
   "outputs": [],
   "source": [
    "GeneticAlgo(1,obj_momentum,5,8,30)"
   ]
  },
  {
   "cell_type": "code",
   "execution_count": null,
   "metadata": {
    "pycharm": {
     "name": "#%%\n"
    }
   },
   "outputs": [],
   "source": []
  }
 ],
 "metadata": {
  "kernelspec": {
   "display_name": "Python 3 (ipykernel)",
   "language": "python",
   "name": "python3"
  },
  "language_info": {
   "codemirror_mode": {
    "name": "ipython",
    "version": 3
   },
   "file_extension": ".py",
   "mimetype": "text/x-python",
   "name": "python",
   "nbconvert_exporter": "python",
   "pygments_lexer": "ipython3",
   "version": "3.9.7"
  }
 },
 "nbformat": 4,
 "nbformat_minor": 4
}
