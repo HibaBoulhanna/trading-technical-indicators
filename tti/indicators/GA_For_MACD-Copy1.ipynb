{
 "cells": [
  {
   "cell_type": "code",
   "execution_count": 10,
   "metadata": {
    "pycharm": {
     "name": "#%%\n"
    }
   },
   "outputs": [],
   "source": [
    "from deap import base\n",
    "from deap import creator\n",
    "from deap import tools\n",
    "from deap import algorithms"
   ]
  },
  {
   "cell_type": "code",
   "execution_count": 11,
   "metadata": {
    "pycharm": {
     "name": "#%%\n"
    }
   },
   "outputs": [],
   "source": [
    "import random\n",
    "import matplotlib.pyplot as plt\n",
    "import seaborn as sns\n",
    "import numpy as np\n",
    "import pandas as pd"
   ]
  },
  {
   "cell_type": "code",
   "execution_count": 12,
   "metadata": {},
   "outputs": [],
   "source": [
    "from _moving_average_convergence_divergence import MovingAverageConvergenceDivergence"
   ]
  },
  {
   "cell_type": "code",
   "execution_count": 13,
   "metadata": {
    "pycharm": {
     "name": "#%%\n"
    }
   },
   "outputs": [],
   "source": [
    "#data=pd.read_csv(\"MASI_2.csv\",parse_dates=True, index_col=0)"
   ]
  },
  {
   "cell_type": "code",
   "execution_count": 58,
   "metadata": {},
   "outputs": [],
   "source": [
    "data=pd.read_csv(\"MASI.csv\",parse_dates=True, index_col=0)"
   ]
  },
  {
   "cell_type": "code",
   "execution_count": 29,
   "metadata": {
    "pycharm": {
     "name": "#%%\n"
    }
   },
   "outputs": [
    {
     "data": {
      "text/html": [
       "<div>\n",
       "<style scoped>\n",
       "    .dataframe tbody tr th:only-of-type {\n",
       "        vertical-align: middle;\n",
       "    }\n",
       "\n",
       "    .dataframe tbody tr th {\n",
       "        vertical-align: top;\n",
       "    }\n",
       "\n",
       "    .dataframe thead th {\n",
       "        text-align: right;\n",
       "    }\n",
       "</style>\n",
       "<table border=\"1\" class=\"dataframe\">\n",
       "  <thead>\n",
       "    <tr style=\"text-align: right;\">\n",
       "      <th></th>\n",
       "      <th>Open</th>\n",
       "      <th>High</th>\n",
       "      <th>Low</th>\n",
       "      <th>Close</th>\n",
       "      <th>Volume</th>\n",
       "      <th>Currency</th>\n",
       "    </tr>\n",
       "    <tr>\n",
       "      <th>Date</th>\n",
       "      <th></th>\n",
       "      <th></th>\n",
       "      <th></th>\n",
       "      <th></th>\n",
       "      <th></th>\n",
       "      <th></th>\n",
       "    </tr>\n",
       "  </thead>\n",
       "  <tbody>\n",
       "    <tr>\n",
       "      <th>2018-01-02</th>\n",
       "      <td>12388.82</td>\n",
       "      <td>12442.75</td>\n",
       "      <td>12372.18</td>\n",
       "      <td>12420.15</td>\n",
       "      <td>0</td>\n",
       "      <td>MAD</td>\n",
       "    </tr>\n",
       "    <tr>\n",
       "      <th>2018-01-03</th>\n",
       "      <td>12420.15</td>\n",
       "      <td>12510.45</td>\n",
       "      <td>12380.18</td>\n",
       "      <td>12509.58</td>\n",
       "      <td>0</td>\n",
       "      <td>MAD</td>\n",
       "    </tr>\n",
       "    <tr>\n",
       "      <th>2018-01-04</th>\n",
       "      <td>12509.58</td>\n",
       "      <td>12543.53</td>\n",
       "      <td>12434.17</td>\n",
       "      <td>12463.08</td>\n",
       "      <td>0</td>\n",
       "      <td>MAD</td>\n",
       "    </tr>\n",
       "    <tr>\n",
       "      <th>2018-01-05</th>\n",
       "      <td>12463.08</td>\n",
       "      <td>12538.65</td>\n",
       "      <td>12430.09</td>\n",
       "      <td>12537.75</td>\n",
       "      <td>0</td>\n",
       "      <td>MAD</td>\n",
       "    </tr>\n",
       "    <tr>\n",
       "      <th>2018-01-08</th>\n",
       "      <td>12537.75</td>\n",
       "      <td>12568.29</td>\n",
       "      <td>12462.70</td>\n",
       "      <td>12479.42</td>\n",
       "      <td>0</td>\n",
       "      <td>MAD</td>\n",
       "    </tr>\n",
       "    <tr>\n",
       "      <th>...</th>\n",
       "      <td>...</td>\n",
       "      <td>...</td>\n",
       "      <td>...</td>\n",
       "      <td>...</td>\n",
       "      <td>...</td>\n",
       "      <td>...</td>\n",
       "    </tr>\n",
       "    <tr>\n",
       "      <th>2022-03-28</th>\n",
       "      <td>12602.92</td>\n",
       "      <td>12640.22</td>\n",
       "      <td>12590.87</td>\n",
       "      <td>12640.22</td>\n",
       "      <td>0</td>\n",
       "      <td>MAD</td>\n",
       "    </tr>\n",
       "    <tr>\n",
       "      <th>2022-03-29</th>\n",
       "      <td>12640.22</td>\n",
       "      <td>12721.38</td>\n",
       "      <td>12625.64</td>\n",
       "      <td>12721.38</td>\n",
       "      <td>0</td>\n",
       "      <td>MAD</td>\n",
       "    </tr>\n",
       "    <tr>\n",
       "      <th>2022-03-30</th>\n",
       "      <td>12721.38</td>\n",
       "      <td>12782.51</td>\n",
       "      <td>12703.18</td>\n",
       "      <td>12751.45</td>\n",
       "      <td>0</td>\n",
       "      <td>MAD</td>\n",
       "    </tr>\n",
       "    <tr>\n",
       "      <th>2022-03-31</th>\n",
       "      <td>12751.45</td>\n",
       "      <td>12828.09</td>\n",
       "      <td>12742.35</td>\n",
       "      <td>12818.11</td>\n",
       "      <td>0</td>\n",
       "      <td>MAD</td>\n",
       "    </tr>\n",
       "    <tr>\n",
       "      <th>2022-04-01</th>\n",
       "      <td>12818.11</td>\n",
       "      <td>12860.88</td>\n",
       "      <td>12814.59</td>\n",
       "      <td>12843.52</td>\n",
       "      <td>0</td>\n",
       "      <td>MAD</td>\n",
       "    </tr>\n",
       "  </tbody>\n",
       "</table>\n",
       "<p>1056 rows × 6 columns</p>\n",
       "</div>"
      ],
      "text/plain": [
       "                Open      High       Low     Close  Volume Currency\n",
       "Date                                                               \n",
       "2018-01-02  12388.82  12442.75  12372.18  12420.15       0      MAD\n",
       "2018-01-03  12420.15  12510.45  12380.18  12509.58       0      MAD\n",
       "2018-01-04  12509.58  12543.53  12434.17  12463.08       0      MAD\n",
       "2018-01-05  12463.08  12538.65  12430.09  12537.75       0      MAD\n",
       "2018-01-08  12537.75  12568.29  12462.70  12479.42       0      MAD\n",
       "...              ...       ...       ...       ...     ...      ...\n",
       "2022-03-28  12602.92  12640.22  12590.87  12640.22       0      MAD\n",
       "2022-03-29  12640.22  12721.38  12625.64  12721.38       0      MAD\n",
       "2022-03-30  12721.38  12782.51  12703.18  12751.45       0      MAD\n",
       "2022-03-31  12751.45  12828.09  12742.35  12818.11       0      MAD\n",
       "2022-04-01  12818.11  12860.88  12814.59  12843.52       0      MAD\n",
       "\n",
       "[1056 rows x 6 columns]"
      ]
     },
     "execution_count": 29,
     "metadata": {},
     "output_type": "execute_result"
    }
   ],
   "source": [
    "data"
   ]
  },
  {
   "cell_type": "code",
   "execution_count": 30,
   "metadata": {},
   "outputs": [],
   "source": [
    "data[\"Volume\"]=data.Close"
   ]
  },
  {
   "cell_type": "code",
   "execution_count": 31,
   "metadata": {},
   "outputs": [
    {
     "data": {
      "text/html": [
       "<div>\n",
       "<style scoped>\n",
       "    .dataframe tbody tr th:only-of-type {\n",
       "        vertical-align: middle;\n",
       "    }\n",
       "\n",
       "    .dataframe tbody tr th {\n",
       "        vertical-align: top;\n",
       "    }\n",
       "\n",
       "    .dataframe thead th {\n",
       "        text-align: right;\n",
       "    }\n",
       "</style>\n",
       "<table border=\"1\" class=\"dataframe\">\n",
       "  <thead>\n",
       "    <tr style=\"text-align: right;\">\n",
       "      <th></th>\n",
       "      <th>Open</th>\n",
       "      <th>High</th>\n",
       "      <th>Low</th>\n",
       "      <th>Close</th>\n",
       "      <th>Volume</th>\n",
       "      <th>Currency</th>\n",
       "    </tr>\n",
       "    <tr>\n",
       "      <th>Date</th>\n",
       "      <th></th>\n",
       "      <th></th>\n",
       "      <th></th>\n",
       "      <th></th>\n",
       "      <th></th>\n",
       "      <th></th>\n",
       "    </tr>\n",
       "  </thead>\n",
       "  <tbody>\n",
       "    <tr>\n",
       "      <th>2018-01-02</th>\n",
       "      <td>12388.82</td>\n",
       "      <td>12442.75</td>\n",
       "      <td>12372.18</td>\n",
       "      <td>12420.15</td>\n",
       "      <td>12420.15</td>\n",
       "      <td>MAD</td>\n",
       "    </tr>\n",
       "    <tr>\n",
       "      <th>2018-01-03</th>\n",
       "      <td>12420.15</td>\n",
       "      <td>12510.45</td>\n",
       "      <td>12380.18</td>\n",
       "      <td>12509.58</td>\n",
       "      <td>12509.58</td>\n",
       "      <td>MAD</td>\n",
       "    </tr>\n",
       "    <tr>\n",
       "      <th>2018-01-04</th>\n",
       "      <td>12509.58</td>\n",
       "      <td>12543.53</td>\n",
       "      <td>12434.17</td>\n",
       "      <td>12463.08</td>\n",
       "      <td>12463.08</td>\n",
       "      <td>MAD</td>\n",
       "    </tr>\n",
       "    <tr>\n",
       "      <th>2018-01-05</th>\n",
       "      <td>12463.08</td>\n",
       "      <td>12538.65</td>\n",
       "      <td>12430.09</td>\n",
       "      <td>12537.75</td>\n",
       "      <td>12537.75</td>\n",
       "      <td>MAD</td>\n",
       "    </tr>\n",
       "    <tr>\n",
       "      <th>2018-01-08</th>\n",
       "      <td>12537.75</td>\n",
       "      <td>12568.29</td>\n",
       "      <td>12462.70</td>\n",
       "      <td>12479.42</td>\n",
       "      <td>12479.42</td>\n",
       "      <td>MAD</td>\n",
       "    </tr>\n",
       "    <tr>\n",
       "      <th>...</th>\n",
       "      <td>...</td>\n",
       "      <td>...</td>\n",
       "      <td>...</td>\n",
       "      <td>...</td>\n",
       "      <td>...</td>\n",
       "      <td>...</td>\n",
       "    </tr>\n",
       "    <tr>\n",
       "      <th>2022-03-28</th>\n",
       "      <td>12602.92</td>\n",
       "      <td>12640.22</td>\n",
       "      <td>12590.87</td>\n",
       "      <td>12640.22</td>\n",
       "      <td>12640.22</td>\n",
       "      <td>MAD</td>\n",
       "    </tr>\n",
       "    <tr>\n",
       "      <th>2022-03-29</th>\n",
       "      <td>12640.22</td>\n",
       "      <td>12721.38</td>\n",
       "      <td>12625.64</td>\n",
       "      <td>12721.38</td>\n",
       "      <td>12721.38</td>\n",
       "      <td>MAD</td>\n",
       "    </tr>\n",
       "    <tr>\n",
       "      <th>2022-03-30</th>\n",
       "      <td>12721.38</td>\n",
       "      <td>12782.51</td>\n",
       "      <td>12703.18</td>\n",
       "      <td>12751.45</td>\n",
       "      <td>12751.45</td>\n",
       "      <td>MAD</td>\n",
       "    </tr>\n",
       "    <tr>\n",
       "      <th>2022-03-31</th>\n",
       "      <td>12751.45</td>\n",
       "      <td>12828.09</td>\n",
       "      <td>12742.35</td>\n",
       "      <td>12818.11</td>\n",
       "      <td>12818.11</td>\n",
       "      <td>MAD</td>\n",
       "    </tr>\n",
       "    <tr>\n",
       "      <th>2022-04-01</th>\n",
       "      <td>12818.11</td>\n",
       "      <td>12860.88</td>\n",
       "      <td>12814.59</td>\n",
       "      <td>12843.52</td>\n",
       "      <td>12843.52</td>\n",
       "      <td>MAD</td>\n",
       "    </tr>\n",
       "  </tbody>\n",
       "</table>\n",
       "<p>1056 rows × 6 columns</p>\n",
       "</div>"
      ],
      "text/plain": [
       "                Open      High       Low     Close    Volume Currency\n",
       "Date                                                                 \n",
       "2018-01-02  12388.82  12442.75  12372.18  12420.15  12420.15      MAD\n",
       "2018-01-03  12420.15  12510.45  12380.18  12509.58  12509.58      MAD\n",
       "2018-01-04  12509.58  12543.53  12434.17  12463.08  12463.08      MAD\n",
       "2018-01-05  12463.08  12538.65  12430.09  12537.75  12537.75      MAD\n",
       "2018-01-08  12537.75  12568.29  12462.70  12479.42  12479.42      MAD\n",
       "...              ...       ...       ...       ...       ...      ...\n",
       "2022-03-28  12602.92  12640.22  12590.87  12640.22  12640.22      MAD\n",
       "2022-03-29  12640.22  12721.38  12625.64  12721.38  12721.38      MAD\n",
       "2022-03-30  12721.38  12782.51  12703.18  12751.45  12751.45      MAD\n",
       "2022-03-31  12751.45  12828.09  12742.35  12818.11  12818.11      MAD\n",
       "2022-04-01  12818.11  12860.88  12814.59  12843.52  12843.52      MAD\n",
       "\n",
       "[1056 rows x 6 columns]"
      ]
     },
     "execution_count": 31,
     "metadata": {},
     "output_type": "execute_result"
    }
   ],
   "source": [
    "data"
   ]
  },
  {
   "cell_type": "code",
   "execution_count": 59,
   "metadata": {
    "pycharm": {
     "name": "#%%\n"
    }
   },
   "outputs": [],
   "source": [
    "df=data[\"Close\"]\n",
    "high=data[\"High\"]\n",
    "low=data[\"Low\"]\n",
    "\n"
   ]
  },
  {
   "cell_type": "markdown",
   "metadata": {
    "pycharm": {
     "name": "#%% md\n"
    }
   },
   "source": [
    "## Fonction"
   ]
  },
  {
   "cell_type": "code",
   "execution_count": 33,
   "metadata": {
    "pycharm": {
     "name": "#%%\n"
    }
   },
   "outputs": [],
   "source": [
    "premier=0 "
   ]
  },
  {
   "cell_type": "code",
   "execution_count": 34,
   "metadata": {
    "pycharm": {
     "name": "#%%\n"
    }
   },
   "outputs": [],
   "source": [
    "def GeneticAlgo(dim,obj_func,MAX_GENERATIONS,BOUND_LOW,BOUND_UP,POPULATION_SIZE=40,P_CROSSOVER = 0.9,P_MUTATION = 0.1):\n",
    "\tglobal premier\n",
    "\tONE_MAX_LENGTH=dim\n",
    "\tHALL_OF_FAME_SIZE = 5\n",
    "\tCROWDING_FACTOR=20\n",
    "\tRANDOM_SEED = 40\n",
    "\trandom.seed(RANDOM_SEED)\n",
    "\tif premier> 0 :\n",
    "\t\tdel creator.FitnessMax\n",
    "\t\tdel creator.Individual\n",
    "\tpremier=premier+1\n",
    "\ttoolbox = base.Toolbox()\n",
    "\ttoolbox.register(\"Num\", random.randint, BOUND_LOW, BOUND_UP)\n",
    "\tcreator.create(\"FitnessMax\", base.Fitness, weights=(1.0,))\n",
    "\tcreator.create(\"Individual\", list, fitness=creator.FitnessMax)\n",
    "\ttoolbox.register(\"individualCreator\", tools.initRepeat, creator.Individual, toolbox.Num, ONE_MAX_LENGTH)\n",
    "\ttoolbox.register(\"populationCreator\", tools.initRepeat, list, toolbox.individualCreator)\n",
    "\ttoolbox.register(\"evaluate\", obj_func)\n",
    "\ttoolbox.register(\"select\", tools.selTournament, tournsize=3)\n",
    "\ttoolbox.register(\"mate\", tools.cxSimulatedBinaryBounded, low=BOUND_LOW, up=BOUND_UP, eta=CROWDING_FACTOR)\n",
    "\ttoolbox.register(\"mutate\", tools.mutPolynomialBounded, low=BOUND_LOW, up=BOUND_UP, eta=CROWDING_FACTOR, indpb=0.20)\n",
    "\tdef main():\n",
    "\t\tpopulation = toolbox.populationCreator(n=POPULATION_SIZE)\n",
    "\t\tstats = tools.Statistics(lambda ind: ind.fitness.values)\n",
    "\t\tstats.register(\"max\", np.max)\n",
    "\t\tstats.register(\"avg\", np.mean)\n",
    "\t\thof = tools.HallOfFame(HALL_OF_FAME_SIZE)\n",
    "\t\tpopulation, logbook = algorithms.eaSimple(population, toolbox, cxpb=P_CROSSOVER, mutpb=P_MUTATION,ngen=MAX_GENERATIONS\n",
    "\t\t\t, stats=stats, halloffame=hof, verbose=True)\n",
    "\t\tprint(\"Hall of Fame Individuals = \", *hof.items, sep=\"\\n\")\n",
    "\t\tprint(\"Best Ever Individual = \", [ int(i) for i in hof.items[0]])\n",
    "\t\tmaxFitnessValues, meanFitnessValues = logbook.select(\"max\", \"avg\")\n",
    "\t\tsns.set_style(\"whitegrid\")\n",
    "\t\tplt.plot(maxFitnessValues, color='red')\n",
    "\t\tplt.plot(meanFitnessValues, color='green')\n",
    "\t\tplt.xlabel('Génération')\n",
    "\t\tplt.ylabel('Max / Moyenne Fitness')\n",
    "\t\tplt.title('Max et Moyenne de  Fitness opar générations')\n",
    "\t\tplt.show()\n",
    "\tmain()"
   ]
  },
  {
   "cell_type": "code",
   "execution_count": 35,
   "metadata": {
    "pycharm": {
     "name": "#%%\n"
    }
   },
   "outputs": [],
   "source": [
    "# Coût des transactions\n",
    "ti=0.0022\n",
    "fr=0.0011\n",
    "cb=0.0011\n",
    "taux=ti+fr+cb"
   ]
  },
  {
   "cell_type": "markdown",
   "metadata": {
    "pycharm": {
     "name": "#%% md\n"
    }
   },
   "source": [
    "## **TEST macd**"
   ]
  },
  {
   "cell_type": "code",
   "execution_count": 42,
   "metadata": {},
   "outputs": [],
   "source": [
    "macd=MovingAverageConvergenceDivergence(data)"
   ]
  },
  {
   "cell_type": "code",
   "execution_count": 37,
   "metadata": {},
   "outputs": [],
   "source": [
    "def pmv(close,signal):\n",
    "\t\"\"\"\n",
    "\t\tLa Plus-ou-moins-value\n",
    "\t\"\"\"\n",
    "\tclose=np.array(close)\n",
    "\tsignal=np.array(signal.fillna(0))\n",
    "\tqt=signal.cumsum()\n",
    "\tachat= np.where(signal>=1,1,0)\n",
    "\tPDR=[]\n",
    "\tfor t in range(len(close)):\n",
    "\t\tp=(close[:t+1]*achat[:t+1]).sum()\n",
    "\t\tif achat[:t+1].sum()==0 :\n",
    "\t\t\tval=0\n",
    "\t\telse :\n",
    "\t\t\tp=p/(achat[:t+1].sum())\n",
    "\t\t\tval=qt[t]*p \n",
    "\t\tPDR.append(val)\n",
    "\tPMV_lat=close*qt-PDR\n",
    "\tPMV_re=[0]\n",
    "\tfor i in range(1,len(close)):\n",
    "\t\tvl=PDR[i]-PDR[i-1]+PMV_re[i-1]-close[i]*signal[i]\n",
    "\t\tPMV_re.append(vl)\n",
    "\tPMV=PMV_lat+PMV_re\n",
    "\treturn PMV"
   ]
  },
  {
   "cell_type": "code",
   "execution_count": 38,
   "metadata": {},
   "outputs": [],
   "source": [
    "def adjustsignal(signal):\n",
    "\tsig=[]\n",
    "\tqtite=0\n",
    "\tfor i in signal:\n",
    "\t\tif i > 0 :\n",
    "\t\t\tsig.append(i)\n",
    "\t\t\tqtite+=1\n",
    "\t\telif i < 0:\n",
    "\t\t\tif qtite >= abs(i) :\n",
    "\t\t\t\tsig.append(i)\n",
    "\t\t\t\tqtite+=-i\n",
    "\t\t\telse:\n",
    "\t\t\t\tsig.append(0)\n",
    "\t\telse:\n",
    "\t\t\tsig.append(0)\n",
    "\treturn sig"
   ]
  },
  {
   "cell_type": "markdown",
   "metadata": {},
   "source": [
    "def obj_macd1(n):\n",
    "\tws=int(n[0])\n",
    "\twl=int(n[1])\n",
    "\tif ws > wl :\n",
    "\t\tws,wl=wl,ws\n",
    "\t\tsignal=pd.DataFrame(index=df.index)\n",
    "\t\tMACD=macd.calculateTi(wl,ws)[\"macd\"]\n",
    "\t\t\t#MACD=at.macd(df,ws,wl)[\"MACD\"]\n",
    "\t\tsignal[\"compa\"]=np.nan\n",
    "\t\tsignal[\"compa\"][wl:]=np.where(MACD[wl:]>0 ,1 ,0)\n",
    "\t\tsignal[\"signal\"]=adjustsignal(signal[\"compa\"].diff())\n",
    "\t\tcours=df*(1+taux*signal[\"signal\"])\n",
    "\t\tpmval=pmv(cours,signal[\"signal\"])\n",
    "\t\treturn pmval.max(),"
   ]
  },
  {
   "cell_type": "code",
   "execution_count": 39,
   "metadata": {},
   "outputs": [
    {
     "data": {
      "text/html": [
       "<div>\n",
       "<style scoped>\n",
       "    .dataframe tbody tr th:only-of-type {\n",
       "        vertical-align: middle;\n",
       "    }\n",
       "\n",
       "    .dataframe tbody tr th {\n",
       "        vertical-align: top;\n",
       "    }\n",
       "\n",
       "    .dataframe thead th {\n",
       "        text-align: right;\n",
       "    }\n",
       "</style>\n",
       "<table border=\"1\" class=\"dataframe\">\n",
       "  <thead>\n",
       "    <tr style=\"text-align: right;\">\n",
       "      <th></th>\n",
       "      <th>open</th>\n",
       "      <th>high</th>\n",
       "      <th>low</th>\n",
       "      <th>close</th>\n",
       "      <th>volume</th>\n",
       "      <th>currency</th>\n",
       "    </tr>\n",
       "    <tr>\n",
       "      <th>Date</th>\n",
       "      <th></th>\n",
       "      <th></th>\n",
       "      <th></th>\n",
       "      <th></th>\n",
       "      <th></th>\n",
       "      <th></th>\n",
       "    </tr>\n",
       "  </thead>\n",
       "  <tbody>\n",
       "    <tr>\n",
       "      <th>2018-01-02</th>\n",
       "      <td>12388.82</td>\n",
       "      <td>12442.75</td>\n",
       "      <td>12372.18</td>\n",
       "      <td>12420.15</td>\n",
       "      <td>12420.15</td>\n",
       "      <td>MAD</td>\n",
       "    </tr>\n",
       "    <tr>\n",
       "      <th>2018-01-03</th>\n",
       "      <td>12420.15</td>\n",
       "      <td>12510.45</td>\n",
       "      <td>12380.18</td>\n",
       "      <td>12509.58</td>\n",
       "      <td>12509.58</td>\n",
       "      <td>MAD</td>\n",
       "    </tr>\n",
       "    <tr>\n",
       "      <th>2018-01-04</th>\n",
       "      <td>12509.58</td>\n",
       "      <td>12543.53</td>\n",
       "      <td>12434.17</td>\n",
       "      <td>12463.08</td>\n",
       "      <td>12463.08</td>\n",
       "      <td>MAD</td>\n",
       "    </tr>\n",
       "    <tr>\n",
       "      <th>2018-01-05</th>\n",
       "      <td>12463.08</td>\n",
       "      <td>12538.65</td>\n",
       "      <td>12430.09</td>\n",
       "      <td>12537.75</td>\n",
       "      <td>12537.75</td>\n",
       "      <td>MAD</td>\n",
       "    </tr>\n",
       "    <tr>\n",
       "      <th>2018-01-08</th>\n",
       "      <td>12537.75</td>\n",
       "      <td>12568.29</td>\n",
       "      <td>12462.70</td>\n",
       "      <td>12479.42</td>\n",
       "      <td>12479.42</td>\n",
       "      <td>MAD</td>\n",
       "    </tr>\n",
       "    <tr>\n",
       "      <th>...</th>\n",
       "      <td>...</td>\n",
       "      <td>...</td>\n",
       "      <td>...</td>\n",
       "      <td>...</td>\n",
       "      <td>...</td>\n",
       "      <td>...</td>\n",
       "    </tr>\n",
       "    <tr>\n",
       "      <th>2022-03-28</th>\n",
       "      <td>12602.92</td>\n",
       "      <td>12640.22</td>\n",
       "      <td>12590.87</td>\n",
       "      <td>12640.22</td>\n",
       "      <td>12640.22</td>\n",
       "      <td>MAD</td>\n",
       "    </tr>\n",
       "    <tr>\n",
       "      <th>2022-03-29</th>\n",
       "      <td>12640.22</td>\n",
       "      <td>12721.38</td>\n",
       "      <td>12625.64</td>\n",
       "      <td>12721.38</td>\n",
       "      <td>12721.38</td>\n",
       "      <td>MAD</td>\n",
       "    </tr>\n",
       "    <tr>\n",
       "      <th>2022-03-30</th>\n",
       "      <td>12721.38</td>\n",
       "      <td>12782.51</td>\n",
       "      <td>12703.18</td>\n",
       "      <td>12751.45</td>\n",
       "      <td>12751.45</td>\n",
       "      <td>MAD</td>\n",
       "    </tr>\n",
       "    <tr>\n",
       "      <th>2022-03-31</th>\n",
       "      <td>12751.45</td>\n",
       "      <td>12828.09</td>\n",
       "      <td>12742.35</td>\n",
       "      <td>12818.11</td>\n",
       "      <td>12818.11</td>\n",
       "      <td>MAD</td>\n",
       "    </tr>\n",
       "    <tr>\n",
       "      <th>2022-04-01</th>\n",
       "      <td>12818.11</td>\n",
       "      <td>12860.88</td>\n",
       "      <td>12814.59</td>\n",
       "      <td>12843.52</td>\n",
       "      <td>12843.52</td>\n",
       "      <td>MAD</td>\n",
       "    </tr>\n",
       "  </tbody>\n",
       "</table>\n",
       "<p>1056 rows × 6 columns</p>\n",
       "</div>"
      ],
      "text/plain": [
       "                open      high       low     close    volume currency\n",
       "Date                                                                 \n",
       "2018-01-02  12388.82  12442.75  12372.18  12420.15  12420.15      MAD\n",
       "2018-01-03  12420.15  12510.45  12380.18  12509.58  12509.58      MAD\n",
       "2018-01-04  12509.58  12543.53  12434.17  12463.08  12463.08      MAD\n",
       "2018-01-05  12463.08  12538.65  12430.09  12537.75  12537.75      MAD\n",
       "2018-01-08  12537.75  12568.29  12462.70  12479.42  12479.42      MAD\n",
       "...              ...       ...       ...       ...       ...      ...\n",
       "2022-03-28  12602.92  12640.22  12590.87  12640.22  12640.22      MAD\n",
       "2022-03-29  12640.22  12721.38  12625.64  12721.38  12721.38      MAD\n",
       "2022-03-30  12721.38  12782.51  12703.18  12751.45  12751.45      MAD\n",
       "2022-03-31  12751.45  12828.09  12742.35  12818.11  12818.11      MAD\n",
       "2022-04-01  12818.11  12860.88  12814.59  12843.52  12843.52      MAD\n",
       "\n",
       "[1056 rows x 6 columns]"
      ]
     },
     "execution_count": 39,
     "metadata": {},
     "output_type": "execute_result"
    }
   ],
   "source": [
    "data"
   ]
  },
  {
   "cell_type": "code",
   "execution_count": 43,
   "metadata": {},
   "outputs": [
    {
     "data": {
      "text/html": [
       "<div>\n",
       "<style scoped>\n",
       "    .dataframe tbody tr th:only-of-type {\n",
       "        vertical-align: middle;\n",
       "    }\n",
       "\n",
       "    .dataframe tbody tr th {\n",
       "        vertical-align: top;\n",
       "    }\n",
       "\n",
       "    .dataframe thead th {\n",
       "        text-align: right;\n",
       "    }\n",
       "</style>\n",
       "<table border=\"1\" class=\"dataframe\">\n",
       "  <thead>\n",
       "    <tr style=\"text-align: right;\">\n",
       "      <th></th>\n",
       "      <th>macd</th>\n",
       "      <th>signal_line</th>\n",
       "    </tr>\n",
       "    <tr>\n",
       "      <th>Date</th>\n",
       "      <th></th>\n",
       "      <th></th>\n",
       "    </tr>\n",
       "  </thead>\n",
       "  <tbody>\n",
       "    <tr>\n",
       "      <th>2018-01-02</th>\n",
       "      <td>NaN</td>\n",
       "      <td>NaN</td>\n",
       "    </tr>\n",
       "    <tr>\n",
       "      <th>2018-01-03</th>\n",
       "      <td>NaN</td>\n",
       "      <td>NaN</td>\n",
       "    </tr>\n",
       "    <tr>\n",
       "      <th>2018-01-04</th>\n",
       "      <td>NaN</td>\n",
       "      <td>NaN</td>\n",
       "    </tr>\n",
       "    <tr>\n",
       "      <th>2018-01-05</th>\n",
       "      <td>NaN</td>\n",
       "      <td>NaN</td>\n",
       "    </tr>\n",
       "    <tr>\n",
       "      <th>2018-01-08</th>\n",
       "      <td>NaN</td>\n",
       "      <td>NaN</td>\n",
       "    </tr>\n",
       "    <tr>\n",
       "      <th>...</th>\n",
       "      <td>...</td>\n",
       "      <td>...</td>\n",
       "    </tr>\n",
       "    <tr>\n",
       "      <th>2022-03-28</th>\n",
       "      <td>183.6008</td>\n",
       "      <td>200.0047</td>\n",
       "    </tr>\n",
       "    <tr>\n",
       "      <th>2022-03-29</th>\n",
       "      <td>170.1133</td>\n",
       "      <td>194.0264</td>\n",
       "    </tr>\n",
       "    <tr>\n",
       "      <th>2022-03-30</th>\n",
       "      <td>155.2088</td>\n",
       "      <td>186.2629</td>\n",
       "    </tr>\n",
       "    <tr>\n",
       "      <th>2022-03-31</th>\n",
       "      <td>136.4451</td>\n",
       "      <td>176.2993</td>\n",
       "    </tr>\n",
       "    <tr>\n",
       "      <th>2022-04-01</th>\n",
       "      <td>118.1623</td>\n",
       "      <td>164.6719</td>\n",
       "    </tr>\n",
       "  </tbody>\n",
       "</table>\n",
       "<p>1056 rows × 2 columns</p>\n",
       "</div>"
      ],
      "text/plain": [
       "                macd  signal_line\n",
       "Date                             \n",
       "2018-01-02       NaN          NaN\n",
       "2018-01-03       NaN          NaN\n",
       "2018-01-04       NaN          NaN\n",
       "2018-01-05       NaN          NaN\n",
       "2018-01-08       NaN          NaN\n",
       "...              ...          ...\n",
       "2022-03-28  183.6008     200.0047\n",
       "2022-03-29  170.1133     194.0264\n",
       "2022-03-30  155.2088     186.2629\n",
       "2022-03-31  136.4451     176.2993\n",
       "2022-04-01  118.1623     164.6719\n",
       "\n",
       "[1056 rows x 2 columns]"
      ]
     },
     "execution_count": 43,
     "metadata": {},
     "output_type": "execute_result"
    }
   ],
   "source": [
    "macd._calculateTi(wl=12,ws=26)[[\"macd\",\"signal_line\"]]"
   ]
  },
  {
   "cell_type": "code",
   "execution_count": 47,
   "metadata": {},
   "outputs": [
    {
     "data": {
      "text/plain": [
       "('hold', 0)"
      ]
     },
     "execution_count": 47,
     "metadata": {},
     "output_type": "execute_result"
    }
   ],
   "source": [
    "macd.getTiSignal()"
   ]
  },
  {
   "cell_type": "code",
   "execution_count": 48,
   "metadata": {},
   "outputs": [
    {
     "data": {
      "text/plain": [
       "<module 'matplotlib.pyplot' from 'C:\\\\Users\\\\pc\\\\anaconda3\\\\lib\\\\site-packages\\\\matplotlib\\\\pyplot.py'>"
      ]
     },
     "execution_count": 48,
     "metadata": {},
     "output_type": "execute_result"
    },
    {
     "data": {
      "image/png": "[encoded data removed]",
      "text/plain": [
       "<Figure size 504x360 with 2 Axes>"
      ]
     },
     "metadata": {},
     "output_type": "display_data"
    }
   ],
   "source": [
    "macd.getTiGraph()"
   ]
  },
  {
   "cell_type": "code",
   "execution_count": 52,
   "metadata": {},
   "outputs": [],
   "source": [
    "data=df"
   ]
  },
  {
   "cell_type": "code",
   "execution_count": 53,
   "metadata": {},
   "outputs": [],
   "source": [
    "df=pd.DataFrame(df)"
   ]
  },
  {
   "cell_type": "code",
   "execution_count": 54,
   "metadata": {},
   "outputs": [
    {
     "data": {
      "text/html": [
       "<div>\n",
       "<style scoped>\n",
       "    .dataframe tbody tr th:only-of-type {\n",
       "        vertical-align: middle;\n",
       "    }\n",
       "\n",
       "    .dataframe tbody tr th {\n",
       "        vertical-align: top;\n",
       "    }\n",
       "\n",
       "    .dataframe thead th {\n",
       "        text-align: right;\n",
       "    }\n",
       "</style>\n",
       "<table border=\"1\" class=\"dataframe\">\n",
       "  <thead>\n",
       "    <tr style=\"text-align: right;\">\n",
       "      <th></th>\n",
       "      <th>Close</th>\n",
       "    </tr>\n",
       "    <tr>\n",
       "      <th>Date</th>\n",
       "      <th></th>\n",
       "    </tr>\n",
       "  </thead>\n",
       "  <tbody>\n",
       "    <tr>\n",
       "      <th>2018-01-02</th>\n",
       "      <td>12420.15</td>\n",
       "    </tr>\n",
       "    <tr>\n",
       "      <th>2018-01-03</th>\n",
       "      <td>12509.58</td>\n",
       "    </tr>\n",
       "    <tr>\n",
       "      <th>2018-01-04</th>\n",
       "      <td>12463.08</td>\n",
       "    </tr>\n",
       "    <tr>\n",
       "      <th>2018-01-05</th>\n",
       "      <td>12537.75</td>\n",
       "    </tr>\n",
       "    <tr>\n",
       "      <th>2018-01-08</th>\n",
       "      <td>12479.42</td>\n",
       "    </tr>\n",
       "    <tr>\n",
       "      <th>...</th>\n",
       "      <td>...</td>\n",
       "    </tr>\n",
       "    <tr>\n",
       "      <th>2020-05-26</th>\n",
       "      <td>9847.80</td>\n",
       "    </tr>\n",
       "    <tr>\n",
       "      <th>2020-05-27</th>\n",
       "      <td>9935.25</td>\n",
       "    </tr>\n",
       "    <tr>\n",
       "      <th>2020-05-28</th>\n",
       "      <td>9844.88</td>\n",
       "    </tr>\n",
       "    <tr>\n",
       "      <th>2020-05-29</th>\n",
       "      <td>9852.80</td>\n",
       "    </tr>\n",
       "    <tr>\n",
       "      <th>2020-06-01</th>\n",
       "      <td>9938.61</td>\n",
       "    </tr>\n",
       "  </tbody>\n",
       "</table>\n",
       "<p>599 rows × 1 columns</p>\n",
       "</div>"
      ],
      "text/plain": [
       "               Close\n",
       "Date                \n",
       "2018-01-02  12420.15\n",
       "2018-01-03  12509.58\n",
       "2018-01-04  12463.08\n",
       "2018-01-05  12537.75\n",
       "2018-01-08  12479.42\n",
       "...              ...\n",
       "2020-05-26   9847.80\n",
       "2020-05-27   9935.25\n",
       "2020-05-28   9844.88\n",
       "2020-05-29   9852.80\n",
       "2020-06-01   9938.61\n",
       "\n",
       "[599 rows x 1 columns]"
      ]
     },
     "execution_count": 54,
     "metadata": {},
     "output_type": "execute_result"
    }
   ],
   "source": [
    "df"
   ]
  },
  {
   "cell_type": "code",
   "execution_count": 60,
   "metadata": {},
   "outputs": [],
   "source": [
    "def obj_macd2(n):\n",
    "    ws=int(n[0])\n",
    "    wl=int(n[1])\n",
    "    if ws > wl :\n",
    "        ws,wl=wl,ws\n",
    "    #MACD=at.macd(df,ws,wl)[[\"MACD\",\"MACDsignal\"]]\n",
    "    MACD=macd._calculateTi(wl,ws)[[\"macd\",\"signal_line\"]]\n",
    "    #MACD=MACD.dropna()\n",
    "    signal=pd.DataFrame(columns=[\"compa\"],index=df.index)\n",
    "    #signal[\"compa\"]=np.nan\n",
    "    signal[\"compa\"][wl:]=np.where(MACD[\"macd\"][wl:] > MACD[\"signal_line\"][wl:] ,1 ,0 )\n",
    "    signal[\"signal\"]=adjustsignal(signal[\"compa\"].diff())\n",
    "    cours=df*(1+taux*signal[\"signal\"])\n",
    "    pmval=pmv(cours,signal[\"signal\"])\n",
    "    return pmval.max(),"
   ]
  },
  {
   "cell_type": "markdown",
   "metadata": {},
   "source": [
    "wl, ws = 26,12\n",
    "\n",
    "signal=pd.DataFrame(index=df.index)\n",
    "MACD=macd._calculateTi(wl,ws)[[\"macd\",\"signal_line\"]]\n",
    "signal[\"compa\"]=np.nan"
   ]
  },
  {
   "cell_type": "markdown",
   "metadata": {},
   "source": [
    "    MACD=macd._calculateTi(wl,ws)[[\"macd\",\"signal_line\"]]\n",
    "    signal=pd.DataFrame(index=MACD.index)\n",
    "    signal[\"compa\"]=np.nan\n",
    "    signal[\"compa\"][wl:]=np.where(MACD[\"macd\"][wl:] > MACD[\"signal_line\"][wl:] ,1 ,0 )"
   ]
  },
  {
   "cell_type": "code",
   "execution_count": null,
   "metadata": {},
   "outputs": [],
   "source": [
    "arr = np.where(MACD[\"macd\"][wl:] > MACD[\"signal_line\"][wl:] ,1 ,0 )"
   ]
  },
  {
   "cell_type": "code",
   "execution_count": null,
   "metadata": {},
   "outputs": [],
   "source": [
    "len(arr)"
   ]
  },
  {
   "cell_type": "code",
   "execution_count": null,
   "metadata": {},
   "outputs": [],
   "source": [
    "signal['compa'][wl:]"
   ]
  },
  {
   "cell_type": "code",
   "execution_count": null,
   "metadata": {},
   "outputs": [],
   "source": [
    "signal[\"compa\"][wl:]=np.where(MACD[\"macd\"][wl:] > MACD[\"signal_line\"][wl:] ,1 ,0 )"
   ]
  },
  {
   "cell_type": "markdown",
   "metadata": {},
   "source": [
    "def obj_macd2(n):\n",
    "\tws=int(n[0])\n",
    "\twl=int(n[1])\n",
    "\tif ws > wl :\n",
    "\t\tws,wl=wl,ws\n",
    "\tsignal=pd.DataFrame(index=df.index)\n",
    "\tsignal[\"compa\"]=np.nan\n",
    "\tMACD=at.macd(df,ws,wl)[[\"MACD\",\"MACDsignal\"]]\n",
    "\tsignal[\"compa\"][wl:]=np.where(MACD[\"MACD\"][wl:] > MACD[\"MACDsignal\"][wl:] ,1 ,0 )\n",
    "\tsignal[\"signal\"]=at.adjustsignal(signal[\"compa\"].diff())\n",
    "\tcours=df*(1+taux*signal[\"signal\"])\n",
    "\tpmval=at.pmv(cours,signal[\"signal\"])\n",
    "\treturn pmval.max(),"
   ]
  },
  {
   "cell_type": "code",
   "execution_count": 61,
   "metadata": {},
   "outputs": [
    {
     "name": "stdout",
     "output_type": "stream",
     "text": [
      "gen\tnevals\tmax    \tavg   \n",
      "0  \t40    \t2781.72\t1664.7\n",
      "1  \t34    \t2781.72\t2323.97\n",
      "2  \t32    \t2781.72\t2438.09\n",
      "3  \t34    \t2804.61\t2619.25\n",
      "4  \t36    \t2850.29\t2604.16\n",
      "5  \t35    \t2850.29\t2714.12\n",
      "6  \t38    \t2873.47\t2752.08\n",
      "Hall of Fame Individuals = \n",
      "[57.102636100047214, 31.063609277041188]\n",
      "[57.974331572643536, 31]\n",
      "[57.999978022610954, 31]\n",
      "[30.06008002985284, 31.993570315735905]\n",
      "[30.054740213421294, 31]\n",
      "Best Ever Individual =  [57, 31]\n"
     ]
    },
    {
     "data": {
      "image/png": "[encoded data removed]",
      "text/plain": [
       "<Figure size 432x288 with 1 Axes>"
      ]
     },
     "metadata": {},
     "output_type": "display_data"
    }
   ],
   "source": [
    "GeneticAlgo(2,obj_macd2,6,10,60)\n",
    "#58-30\n",
    "#10-"
   ]
  },
  {
   "cell_type": "code",
   "execution_count": null,
   "metadata": {},
   "outputs": [],
   "source": []
  },
  {
   "cell_type": "code",
   "execution_count": 62,
   "metadata": {},
   "outputs": [
    {
     "name": "stdout",
     "output_type": "stream",
     "text": [
      "gen\tnevals\tmax    \tavg    \n",
      "0  \t40    \t2877.06\t1023.61\n",
      "1  \t36    \t2877.06\t1697.99\n",
      "2  \t35    \t2947.66\t2395.41\n",
      "3  \t36    \t2947.66\t2596.97\n",
      "4  \t38    \t2947.66\t2752.76\n",
      "5  \t36    \t2947.66\t2894.02\n",
      "6  \t34    \t2947.66\t2857.92\n",
      "7  \t31    \t2947.66\t2847.8 \n",
      "8  \t33    \t2947.66\t2816.99\n",
      "9  \t36    \t2947.66\t2846.97\n",
      "10 \t40    \t2947.66\t2872.12\n",
      "Hall of Fame Individuals = \n",
      "[26.00009718389862, 36.956468138432975]\n",
      "[26.00237093541953, 36.96240250531725]\n",
      "[26, 36.95513952626992]\n",
      "[26.01215766770195, 36.956468138432975]\n",
      "[26, 36.956468138432975]\n",
      "Best Ever Individual =  [26, 36]\n"
     ]
    },
    {
     "data": {
      "image/png": "[encoded data removed]",
      "text/plain": [
       "<Figure size 432x288 with 1 Axes>"
      ]
     },
     "metadata": {},
     "output_type": "display_data"
    }
   ],
   "source": [
    "GeneticAlgo(2,obj_macd2,10,12,40)\n",
    "#39-40\n",
    "#39-36"
   ]
  }
 ],
 "metadata": {
  "interpreter": {
   "hash": "631af202ec7c40e141c49d63cac6c8cb664469fed6e4d5ddc6436b49edc60500"
  },
  "kernelspec": {
   "display_name": "Python 3 (ipykernel)",
   "language": "python",
   "name": "python3"
  },
  "language_info": {
   "codemirror_mode": {
    "name": "ipython",
    "version": 3
   },
   "file_extension": ".py",
   "mimetype": "text/x-python",
   "name": "python",
   "nbconvert_exporter": "python",
   "pygments_lexer": "ipython3",
   "version": "3.9.7"
  }
 },
 "nbformat": 4,
 "nbformat_minor": 4
}
