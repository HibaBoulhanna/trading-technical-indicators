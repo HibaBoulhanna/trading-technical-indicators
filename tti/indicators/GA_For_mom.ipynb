{
 "cells": [
  {
   "cell_type": "code",
   "execution_count": 1,
   "metadata": {
    "pycharm": {
     "name": "#%%\n"
    }
   },
   "outputs": [],
   "source": [
    "from deap import base\n",
    "from deap import creator\n",
    "from deap import tools\n",
    "from deap import algorithms"
   ]
  },
  {
   "cell_type": "code",
   "execution_count": 2,
   "metadata": {
    "pycharm": {
     "name": "#%%\n"
    }
   },
   "outputs": [],
   "source": [
    "from _momentum import Momentum"
   ]
  },
  {
   "cell_type": "code",
   "execution_count": 3,
   "metadata": {
    "pycharm": {
     "name": "#%%\n"
    }
   },
   "outputs": [],
   "source": [
    "import random\n",
    "\n",
    "import matplotlib.pyplot as plt\n",
    "import seaborn as sns\n",
    "import numpy as np\n",
    "import pandas as pd"
   ]
  },
  {
   "cell_type": "code",
   "execution_count": 4,
   "metadata": {
    "pycharm": {
     "name": "#%%\n"
    }
   },
   "outputs": [],
   "source": [
    "data=pd.read_csv(\"MASI_2.csv\",parse_dates=True, index_col=0)"
   ]
  },
  {
   "cell_type": "code",
   "execution_count": 5,
   "metadata": {
    "pycharm": {
     "name": "#%%\n"
    }
   },
   "outputs": [
    {
     "data": {
      "text/html": [
       "<div>\n",
       "<style scoped>\n",
       "    .dataframe tbody tr th:only-of-type {\n",
       "        vertical-align: middle;\n",
       "    }\n",
       "\n",
       "    .dataframe tbody tr th {\n",
       "        vertical-align: top;\n",
       "    }\n",
       "\n",
       "    .dataframe thead th {\n",
       "        text-align: right;\n",
       "    }\n",
       "</style>\n",
       "<table border=\"1\" class=\"dataframe\">\n",
       "  <thead>\n",
       "    <tr style=\"text-align: right;\">\n",
       "      <th></th>\n",
       "      <th>Open</th>\n",
       "      <th>High</th>\n",
       "      <th>Low</th>\n",
       "      <th>Close</th>\n",
       "      <th>Volume</th>\n",
       "      <th>Currency</th>\n",
       "    </tr>\n",
       "    <tr>\n",
       "      <th>Date</th>\n",
       "      <th></th>\n",
       "      <th></th>\n",
       "      <th></th>\n",
       "      <th></th>\n",
       "      <th></th>\n",
       "      <th></th>\n",
       "    </tr>\n",
       "  </thead>\n",
       "  <tbody>\n",
       "    <tr>\n",
       "      <th>2002-01-03</th>\n",
       "      <td>3684.51</td>\n",
       "      <td>3694.96</td>\n",
       "      <td>3640.00</td>\n",
       "      <td>3640.00</td>\n",
       "      <td>0</td>\n",
       "      <td>MAD</td>\n",
       "    </tr>\n",
       "    <tr>\n",
       "      <th>2002-01-04</th>\n",
       "      <td>3641.08</td>\n",
       "      <td>3671.50</td>\n",
       "      <td>3640.00</td>\n",
       "      <td>3671.50</td>\n",
       "      <td>0</td>\n",
       "      <td>MAD</td>\n",
       "    </tr>\n",
       "    <tr>\n",
       "      <th>2002-01-07</th>\n",
       "      <td>3670.56</td>\n",
       "      <td>3674.71</td>\n",
       "      <td>3662.56</td>\n",
       "      <td>3667.30</td>\n",
       "      <td>0</td>\n",
       "      <td>MAD</td>\n",
       "    </tr>\n",
       "    <tr>\n",
       "      <th>2002-01-08</th>\n",
       "      <td>3655.56</td>\n",
       "      <td>3657.54</td>\n",
       "      <td>3639.32</td>\n",
       "      <td>3641.65</td>\n",
       "      <td>0</td>\n",
       "      <td>MAD</td>\n",
       "    </tr>\n",
       "    <tr>\n",
       "      <th>2002-01-09</th>\n",
       "      <td>3637.89</td>\n",
       "      <td>3645.03</td>\n",
       "      <td>3627.77</td>\n",
       "      <td>3644.19</td>\n",
       "      <td>0</td>\n",
       "      <td>MAD</td>\n",
       "    </tr>\n",
       "    <tr>\n",
       "      <th>...</th>\n",
       "      <td>...</td>\n",
       "      <td>...</td>\n",
       "      <td>...</td>\n",
       "      <td>...</td>\n",
       "      <td>...</td>\n",
       "      <td>...</td>\n",
       "    </tr>\n",
       "    <tr>\n",
       "      <th>2022-05-16</th>\n",
       "      <td>12682.21</td>\n",
       "      <td>12738.15</td>\n",
       "      <td>12648.59</td>\n",
       "      <td>12682.77</td>\n",
       "      <td>0</td>\n",
       "      <td>MAD</td>\n",
       "    </tr>\n",
       "    <tr>\n",
       "      <th>2022-05-17</th>\n",
       "      <td>12682.77</td>\n",
       "      <td>12733.07</td>\n",
       "      <td>12681.66</td>\n",
       "      <td>12716.65</td>\n",
       "      <td>0</td>\n",
       "      <td>MAD</td>\n",
       "    </tr>\n",
       "    <tr>\n",
       "      <th>2022-05-18</th>\n",
       "      <td>12716.65</td>\n",
       "      <td>12749.42</td>\n",
       "      <td>12672.62</td>\n",
       "      <td>12679.96</td>\n",
       "      <td>0</td>\n",
       "      <td>MAD</td>\n",
       "    </tr>\n",
       "    <tr>\n",
       "      <th>2022-05-19</th>\n",
       "      <td>12679.08</td>\n",
       "      <td>12738.77</td>\n",
       "      <td>12679.08</td>\n",
       "      <td>12680.13</td>\n",
       "      <td>0</td>\n",
       "      <td>MAD</td>\n",
       "    </tr>\n",
       "    <tr>\n",
       "      <th>2022-05-20</th>\n",
       "      <td>12679.79</td>\n",
       "      <td>12691.63</td>\n",
       "      <td>12625.57</td>\n",
       "      <td>12626.59</td>\n",
       "      <td>0</td>\n",
       "      <td>MAD</td>\n",
       "    </tr>\n",
       "  </tbody>\n",
       "</table>\n",
       "<p>5081 rows × 6 columns</p>\n",
       "</div>"
      ],
      "text/plain": [
       "                Open      High       Low     Close  Volume Currency\n",
       "Date                                                               \n",
       "2002-01-03   3684.51   3694.96   3640.00   3640.00       0      MAD\n",
       "2002-01-04   3641.08   3671.50   3640.00   3671.50       0      MAD\n",
       "2002-01-07   3670.56   3674.71   3662.56   3667.30       0      MAD\n",
       "2002-01-08   3655.56   3657.54   3639.32   3641.65       0      MAD\n",
       "2002-01-09   3637.89   3645.03   3627.77   3644.19       0      MAD\n",
       "...              ...       ...       ...       ...     ...      ...\n",
       "2022-05-16  12682.21  12738.15  12648.59  12682.77       0      MAD\n",
       "2022-05-17  12682.77  12733.07  12681.66  12716.65       0      MAD\n",
       "2022-05-18  12716.65  12749.42  12672.62  12679.96       0      MAD\n",
       "2022-05-19  12679.08  12738.77  12679.08  12680.13       0      MAD\n",
       "2022-05-20  12679.79  12691.63  12625.57  12626.59       0      MAD\n",
       "\n",
       "[5081 rows x 6 columns]"
      ]
     },
     "execution_count": 5,
     "metadata": {},
     "output_type": "execute_result"
    }
   ],
   "source": [
    "data"
   ]
  },
  {
   "cell_type": "code",
   "execution_count": 6,
   "metadata": {
    "pycharm": {
     "name": "#%%\n"
    }
   },
   "outputs": [],
   "source": [
    "df=data[\"Close\"]\n",
    "high=data[\"High\"]\n",
    "low=data[\"Low\"]"
   ]
  },
  {
   "cell_type": "code",
   "execution_count": 7,
   "metadata": {},
   "outputs": [
    {
     "data": {
      "text/plain": [
       "Date\n",
       "2002-01-03       NaN\n",
       "2002-01-04       NaN\n",
       "2002-01-07       NaN\n",
       "2002-01-08       NaN\n",
       "2002-01-09       NaN\n",
       "               ...  \n",
       "2022-05-16   -527.73\n",
       "2022-05-17   -533.31\n",
       "2022-05-18   -562.47\n",
       "2022-05-19   -556.26\n",
       "2022-05-20   -655.21\n",
       "Name: MOM, Length: 5081, dtype: float64"
      ]
     },
     "execution_count": 7,
     "metadata": {},
     "output_type": "execute_result"
    }
   ],
   "source": [
    "pd.Series(data.Close.diff(100),name=\"MOM\")"
   ]
  },
  {
   "cell_type": "code",
   "execution_count": 8,
   "metadata": {},
   "outputs": [],
   "source": [
    "mom=Momentum(data)"
   ]
  },
  {
   "cell_type": "markdown",
   "metadata": {
    "pycharm": {
     "name": "#%% md\n"
    }
   },
   "source": [
    "## Fonction"
   ]
  },
  {
   "cell_type": "code",
   "execution_count": 9,
   "metadata": {
    "pycharm": {
     "name": "#%%\n"
    }
   },
   "outputs": [],
   "source": [
    "premier=0 "
   ]
  },
  {
   "cell_type": "code",
   "execution_count": 16,
   "metadata": {
    "pycharm": {
     "name": "#%%\n"
    }
   },
   "outputs": [],
   "source": [
    "def GeneticAlgo(dim,obj_func,MAX_GENERATIONS,BOUND_LOW,BOUND_UP,POPULATION_SIZE=40,P_CROSSOVER = 0.9,P_MUTATION = 0.1):\n",
    "\tglobal premier\n",
    "\tONE_MAX_LENGTH=dim\n",
    "\tHALL_OF_FAME_SIZE = 5\n",
    "\tCROWDING_FACTOR=20\n",
    "\tRANDOM_SEED = 40\n",
    "\trandom.seed(RANDOM_SEED)\n",
    "\tif premier> 0 :\n",
    "\t\tdel creator.FitnessMax\n",
    "\t\tdel creator.Individual\n",
    "\tpremier=premier+1\n",
    "\ttoolbox = base.Toolbox()\n",
    "\ttoolbox.register(\"Num\", random.randint, BOUND_LOW, BOUND_UP)\n",
    "\tcreator.create(\"FitnessMax\", base.Fitness, weights=(1.0,))\n",
    "\tcreator.create(\"Individual\", list, fitness=creator.FitnessMax)\n",
    "\ttoolbox.register(\"individualCreator\", tools.initRepeat, creator.Individual, toolbox.Num, ONE_MAX_LENGTH)\n",
    "\ttoolbox.register(\"populationCreator\", tools.initRepeat, list, toolbox.individualCreator)\n",
    "\ttoolbox.register(\"evaluate\", obj_func)\n",
    "\ttoolbox.register(\"select\", tools.selTournament, tournsize=3)\n",
    "\ttoolbox.register(\"mate\", tools.cxSimulatedBinaryBounded, low=BOUND_LOW, up=BOUND_UP, eta=CROWDING_FACTOR)\n",
    "\ttoolbox.register(\"mutate\", tools.mutPolynomialBounded, low=BOUND_LOW, up=BOUND_UP, eta=CROWDING_FACTOR, indpb=0.20)\n",
    "\tdef main():\n",
    "\t\tpopulation = toolbox.populationCreator(n=POPULATION_SIZE)\n",
    "\t\tstats = tools.Statistics(lambda ind: ind.fitness.values)\n",
    "\t\tstats.register(\"max\", np.max)\n",
    "\t\tstats.register(\"avg\", np.mean)\n",
    "\t\thof = tools.HallOfFame(HALL_OF_FAME_SIZE)\n",
    "\t\tpopulation, logbook = algorithms.eaSimple(population, toolbox, cxpb=P_CROSSOVER, mutpb=P_MUTATION,ngen=MAX_GENERATIONS\n",
    "\t\t\t, stats=stats, halloffame=hof, verbose=True)\n",
    "\t\tprint(\"Hall of Fame Individuals = \", *hof.items, sep=\"\\n\")\n",
    "\t\tprint(\"Best Ever Individual = \", [ int(i) for i in hof.items[0]])\n",
    "\t\tmaxFitnessValues, meanFitnessValues = logbook.select(\"max\", \"avg\")\n",
    "\t\tsns.set_style(\"whitegrid\")\n",
    "\t\tplt.plot(maxFitnessValues, color='red')\n",
    "\t\tplt.plot(meanFitnessValues, color='green')\n",
    "\t\tplt.xlabel('Génération')\n",
    "\t\tplt.ylabel('Max / Moyenne Fitness')\n",
    "\t\tplt.title('Max et Moyenne de  Fitness opar générations')\n",
    "\t\tplt.show()\n",
    "\tmain()\n",
    "    \n",
    "def pmv(close,signal):\n",
    "\t\"\"\"\n",
    "\t\tLa Plus-ou-moins-value\n",
    "\n",
    "\t\"\"\"\n",
    "\tclose=np.array(close)\n",
    "\tsignal=np.array(signal.fillna(0))\n",
    "\tqt=signal.cumsum()\n",
    "\tachat= np.where(signal>=1,1,0)\n",
    "\tPDR=[]\n",
    "\tfor t in range(len(close)):\n",
    "\t\tp=(close[:t+1]*achat[:t+1]).sum()\n",
    "\t\tif achat[:t+1].sum()==0 :\n",
    "\t\t\tval=0\n",
    "\t\telse :\n",
    "\t\t\tp=p/(achat[:t+1].sum())\n",
    "\t\t\tval=qt[t]*p \n",
    "\t\tPDR.append(val)\n",
    "\tPMV_lat=close*qt-PDR\n",
    "\tPMV_re=[0]\n",
    "\tfor i in range(1,len(close)):\n",
    "\t\tvl=PDR[i]-PDR[i-1]+PMV_re[i-1]-close[i]*signal[i]\n",
    "\t\tPMV_re.append(vl)\n",
    "\tPMV=PMV_lat+PMV_re\n",
    "\treturn PMV\n",
    "\n",
    "def adjustsignal(signal):\n",
    "\tsig=[]\n",
    "\tqtite=0\n",
    "\tfor i in signal:\n",
    "\t\tif i > 0 :\n",
    "\t\t\tsig.append(i)\n",
    "\t\t\tqtite+=1\n",
    "\t\telif i < 0:\n",
    "\t\t\tif qtite >= abs(i) :\n",
    "\t\t\t\tsig.append(i)\n",
    "\t\t\t\tqtite+=-i\n",
    "\t\t\telse:\n",
    "\t\t\t\tsig.append(0)\n",
    "\t\telse:\n",
    "\t\t\tsig.append(0)\n",
    "\treturn sig"
   ]
  },
  {
   "cell_type": "code",
   "execution_count": 11,
   "metadata": {
    "pycharm": {
     "name": "#%%\n"
    }
   },
   "outputs": [],
   "source": [
    "# Coût des transactions\n",
    "ti=0.0022\n",
    "fr=0.0011\n",
    "cb=0.0011\n",
    "taux=ti+fr+cb"
   ]
  },
  {
   "cell_type": "code",
   "execution_count": 17,
   "metadata": {
    "pycharm": {
     "name": "#%%\n"
    }
   },
   "outputs": [],
   "source": [
    "def obj_momentum(n):\n",
    "\tw=int(n[0])\n",
    "\tMOM=mom._calculateTi(w,wsig=9)[[\"MOM\",\"MOMsignal\"]]\n",
    "\tsignal=pd.DataFrame(index=df.index)\n",
    "\tsignal[\"compa\"]=np.nan\n",
    "\tsignal[\"compa\"][w:]=np.where(MOM[\"MOM\"][w:] > MOM[\"MOMsignal\"][w:],1,0)\n",
    "\tsignal[\"signal\"]=adjustsignal(signal[\"compa\"].diff())\n",
    "\tcours=df*(1+taux*signal[\"signal\"])\n",
    "\tpmval=pmv(cours,signal[\"signal\"])\n",
    "\treturn pmval.max(),"
   ]
  },
  {
   "cell_type": "code",
   "execution_count": 18,
   "metadata": {
    "pycharm": {
     "name": "#%%\n"
    }
   },
   "outputs": [
    {
     "name": "stdout",
     "output_type": "stream",
     "text": [
      "gen\tnevals\tmax    \tavg    \n",
      "0  \t40    \t6532.39\t5505.99\n",
      "1  \t35    \t6532.39\t5852.89\n",
      "2  \t38    \t6532.39\t6299.54\n",
      "3  \t38    \t6532.39\t6430.96\n",
      "4  \t38    \t6532.39\t6482.32\n",
      "5  \t35    \t6532.39\t6515.6 \n",
      "Hall of Fame Individuals = \n",
      "[22.068659491272967]\n",
      "[22.799856473810536]\n",
      "[22.012514259579177]\n",
      "[22.014226421230163]\n",
      "[22]\n",
      "Best Ever Individual =  [22]\n"
     ]
    },
    {
     "data": {
      "image/png": "[encoded data removed]",
      "text/plain": [
       "<Figure size 432x288 with 1 Axes>"
      ]
     },
     "metadata": {},
     "output_type": "display_data"
    }
   ],
   "source": [
    "GeneticAlgo(1,obj_momentum,5,8,30)"
   ]
  },
  {
   "cell_type": "code",
   "execution_count": null,
   "metadata": {
    "pycharm": {
     "name": "#%%\n"
    }
   },
   "outputs": [],
   "source": []
  }
 ],
 "metadata": {
  "kernelspec": {
   "display_name": "Python 3 (ipykernel)",
   "language": "python",
   "name": "python3"
  },
  "language_info": {
   "codemirror_mode": {
    "name": "ipython",
    "version": 3
   },
   "file_extension": ".py",
   "mimetype": "text/x-python",
   "name": "python",
   "nbconvert_exporter": "python",
   "pygments_lexer": "ipython3",
   "version": "3.9.7"
  }
 },
 "nbformat": 4,
 "nbformat_minor": 4
}
